{
  "nbformat": 4,
  "nbformat_minor": 0,
  "metadata": {
    "colab": {
      "name": "cnn_num_recognition.ipynb",
      "provenance": [],
      "collapsed_sections": [
        "C5ntFRKN17qG",
        "6DW-KAkZ2zhL"
      ]
    },
    "kernelspec": {
      "name": "python3",
      "display_name": "Python 3"
    },
    "language_info": {
      "name": "python"
    }
  },
  "cells": [
    {
      "cell_type": "code",
      "metadata": {
        "id": "0mJ5TJf4IzOf"
      },
      "source": [
        "from scipy.io import loadmat\n",
        "import numpy as np\n",
        "import matplotlib.pyplot as plt\n",
        "import time\n",
        "\n",
        "import torchvision.transforms as transforms\n",
        "from torch.utils.data import DataLoader, Dataset\n",
        "import torch.nn as nn\n",
        "import torch"
      ],
      "execution_count": 243,
      "outputs": []
    },
    {
      "cell_type": "markdown",
      "metadata": {
        "id": "WpXPuj9h11br"
      },
      "source": [
        "# 加载并查看数据"
      ]
    },
    {
      "cell_type": "code",
      "metadata": {
        "colab": {
          "base_uri": "https://localhost:8080/"
        },
        "id": "ASPnhDdgDbZF",
        "outputId": "04f10326-924d-4b54-8877-3deab2e86f42"
      },
      "source": [
        "# 从google云盘加载数据\n",
        "from google.colab import drive \n",
        "!gdown --id '1q9K5N4q3YLg511FjsTS0H6U8UztDKzzv' --output data.zip\n",
        "!unzip data.zip"
      ],
      "execution_count": 244,
      "outputs": [
        {
          "output_type": "stream",
          "text": [
            "Downloading...\n",
            "From: https://drive.google.com/uc?id=1q9K5N4q3YLg511FjsTS0H6U8UztDKzzv\n",
            "To: /content/data.zip\n",
            "24.2MB [00:00, 112MB/s] \n",
            "Archive:  data.zip\n",
            "replace data/mnist_train.mat? [y]es, [n]o, [A]ll, [N]one, [r]ename: n\n",
            "replace data/mnist_train_labels.mat? [y]es, [n]o, [A]ll, [N]one, [r]ename: n\n",
            "replace data/ReadMe.txt? [y]es, [n]o, [A]ll, [N]one, [r]ename: n\n",
            "replace data/usps_train.mat? [y]es, [n]o, [A]ll, [N]one, [r]ename: n\n",
            "replace data/usps_train_labels.mat? [y]es, [n]o, [A]ll, [N]one, [r]ename: n\n"
          ],
          "name": "stdout"
        }
      ]
    },
    {
      "cell_type": "code",
      "metadata": {
        "id": "W8kr4pOfIq_3"
      },
      "source": [
        "mnist_data_image = loadmat(\"data/mnist_train.mat\")\n",
        "mnist_date_lable = loadmat(\"data/mnist_train_labels.mat\")"
      ],
      "execution_count": 245,
      "outputs": []
    },
    {
      "cell_type": "code",
      "metadata": {
        "colab": {
          "base_uri": "https://localhost:8080/"
        },
        "id": "12eo8Kq-KqVU",
        "outputId": "7f812066-7850-4bde-c22d-761f862abcc1"
      },
      "source": [
        "mnist_data_image = np.array(mnist_data_image['mnist_train'])\n",
        "mnist_date_lable = np.array(mnist_date_lable['mnist_train_labels'])\n",
        "print(\"测试图片shape：\", np.shape(mnist_data_image))\n",
        "print(\"测试图片标签shape：\", np.shape(mnist_date_lable))"
      ],
      "execution_count": 246,
      "outputs": [
        {
          "output_type": "stream",
          "text": [
            "测试图片shape： (60000, 784)\n",
            "测试图片标签shape： (60000, 1)\n"
          ],
          "name": "stdout"
        }
      ]
    },
    {
      "cell_type": "code",
      "metadata": {
        "colab": {
          "base_uri": "https://localhost:8080/",
          "height": 265
        },
        "id": "FM49hABiPRZv",
        "outputId": "1e81e799-2d0f-47ad-e4de-71ea580db3a9"
      },
      "source": [
        "fig = plt.figure()\n",
        "plt.imshow(mnist_data_image[0].reshape((28,28)))\n",
        "plt.show()"
      ],
      "execution_count": 247,
      "outputs": [
        {
          "output_type": "display_data",
          "data": {
            "image/png": "[encoded data removed]",
            "text/plain": [
              "<Figure size 432x288 with 1 Axes>"
            ]
          },
          "metadata": {
            "tags": [],
            "needs_background": "light"
          }
        }
      ]
    },
    {
      "cell_type": "markdown",
      "metadata": {
        "id": "C5ntFRKN17qG"
      },
      "source": [
        "# 数据处理"
      ]
    },
    {
      "cell_type": "code",
      "metadata": {
        "colab": {
          "base_uri": "https://localhost:8080/"
        },
        "id": "hXfoCPCE2E7w",
        "outputId": "9dd934bc-77e2-4cb9-c7f5-8a1440a541a5"
      },
      "source": [
        "num = mnist_data_image.shape[0]\n",
        "mnist_data_image = mnist_data_image.reshape(-1,28,28,1) # 一般channel在最后面。如果这里是(-1,1,28,28),后面transforms.ToTensor，会把1放到中间\n",
        "mnist_date_lable = mnist_date_lable.reshape(num,).astype('long')              # 因为后面的交叉熵需要1D，long类型\n",
        "print(\"image shape:\",np.shape(mnist_data_image))\n",
        "print(\"image lable shape:\",np.shape(mnist_date_lable))"
      ],
      "execution_count": 248,
      "outputs": [
        {
          "output_type": "stream",
          "text": [
            "image shape: (60000, 28, 28, 1)\n",
            "image lable shape: (60000,)\n"
          ],
          "name": "stdout"
        }
      ]
    },
    {
      "cell_type": "code",
      "metadata": {
        "id": "hU1Vmpf94tO6"
      },
      "source": [
        "# 数据的5/6用于训练，1/6用于测试\n",
        "num = mnist_data_image.shape[0]\n",
        "train_mnist_data_image = mnist_data_image[:int(num/6*5)]\n",
        "test_mnist_data_image = mnist_data_image[int(num/6*5):]\n",
        "train_mnist_date_lable = mnist_date_lable[:int(num/6*5)]\n",
        "test_mnist_date_lable = mnist_date_lable[int(num/6*5):]\n",
        "# print(np.shape(train_mnist_data_image))"
      ],
      "execution_count": 249,
      "outputs": []
    },
    {
      "cell_type": "code",
      "metadata": {
        "id": "jDiNN_YcKJ60"
      },
      "source": [
        "# transforms进行以下操作：PIL.Image/numpy.ndarray与Tensor的相互转化；归一化；对PIL.Image进行裁剪、缩放等操作。\n",
        "train_transform = transforms.Compose([\n",
        "    transforms.ToTensor(), # 将数据转换成 Tensor，并把数值 normalize 到 [0,1] \n",
        "])\n",
        "test_transform = transforms.Compose([                              \n",
        "    transforms.ToTensor(),\n",
        "])\n",
        "\n",
        "class ImgDataset(Dataset):\n",
        "    def __init__(self, x, y=None, transform=None):\n",
        "        self.x = x\n",
        "        self.y = y\n",
        "        self.transform = transform\n",
        "    def __len__(self):\n",
        "        return len(self.x)\n",
        "    def __getitem__(self, index):\n",
        "        X = self.x[index]\n",
        "        if self.transform is not None:\n",
        "            X = self.transform(X)\n",
        "        if self.y is not None:\n",
        "            Y = self.y[index]\n",
        "            return X, Y\n",
        "        else:\n",
        "            return X"
      ],
      "execution_count": 250,
      "outputs": []
    },
    {
      "cell_type": "code",
      "metadata": {
        "id": "q8IReGqn0YqZ"
      },
      "source": [
        "# 通过torch.utils.data.DataLoader来定义新的迭代器\n",
        "batch_size = 100\n",
        "train_set = ImgDataset(train_mnist_data_image, train_mnist_date_lable, train_transform)\n",
        "test_set = ImgDataset(test_mnist_data_image, test_mnist_date_lable, test_transform)\n",
        "train_loader = DataLoader(train_set, batch_size=batch_size, shuffle=True)\n",
        "test_loader = DataLoader(test_set, batch_size=batch_size, shuffle=False)"
      ],
      "execution_count": 251,
      "outputs": []
    },
    {
      "cell_type": "code",
      "metadata": {
        "colab": {
          "base_uri": "https://localhost:8080/"
        },
        "id": "REbL_D6zBA0g",
        "outputId": "e4536dc7-5fe3-4bc1-8ea9-d7526a33177e"
      },
      "source": [
        "dataiter = iter(train_loader)\n",
        "images, labels = dataiter.next()\n",
        "print(images.size())\n",
        "print(labels.size())"
      ],
      "execution_count": 252,
      "outputs": [
        {
          "output_type": "stream",
          "text": [
            "torch.Size([100, 1, 28, 28])\n",
            "torch.Size([100])\n"
          ],
          "name": "stdout"
        }
      ]
    },
    {
      "cell_type": "markdown",
      "metadata": {
        "id": "6DW-KAkZ2zhL"
      },
      "source": [
        "# cnn 模型"
      ]
    },
    {
      "cell_type": "code",
      "metadata": {
        "id": "6ctNSrZj6sAA"
      },
      "source": [
        "class Classifier(nn.Module):\n",
        "    def __init__(self):\n",
        "        super(Classifier, self).__init__()\n",
        "        # torch.nn.Conv2d(in_channels, out_channels, kernel_size, stride, padding)\n",
        "        # torch.nn.MaxPool2d(kernel_size, stride, padding)\n",
        "        # input 維度 [1, 28, 28]\n",
        "        self.cnn = nn.Sequential(\n",
        "            nn.Conv2d(1, 6, 3),  # 6个3*3的filter   # [6,26,26]\n",
        "            nn.MaxPool2d(2, 2),                    # [6,13,13]\n",
        "            nn.Conv2d(6, 16, 3), # 16个6*3*3的filter# [16,11,11] \n",
        "            nn.MaxPool2d(2, 2),                    # [16,5,5]\n",
        "        )\n",
        "        self.fc = nn.Sequential(\n",
        "            nn.Linear(16*5*5, 1024),\n",
        "            nn.ReLU(),\n",
        "            nn.Linear(1024, 512),\n",
        "            nn.ReLU(),\n",
        "            nn.Linear(512, 10)\n",
        "        )\n",
        "\n",
        "    def forward(self, x):\n",
        "        out = self.cnn(x)\n",
        "        out = out.view(out.size()[0], -1)\n",
        "        # print(out.size())\n",
        "        return self.fc(out)"
      ],
      "execution_count": 253,
      "outputs": []
    },
    {
      "cell_type": "markdown",
      "metadata": {
        "id": "wW2jpfU19zQM"
      },
      "source": [
        "# 训练&测试"
      ]
    },
    {
      "cell_type": "code",
      "metadata": {
        "id": "sFEjcXdW91Cr",
        "colab": {
          "base_uri": "https://localhost:8080/"
        },
        "outputId": "2b264a28-db97-43e9-db94-58ef95c71101"
      },
      "source": [
        "model = Classifier()\n",
        "loss = nn.CrossEntropyLoss() # 因為是 classification task，所以 loss 使用 CrossEntropyLoss\n",
        "optimizer = torch.optim.Adam(model.parameters(), lr=0.001) # optimizer 使用 Adam\n",
        "num_epoch = 15\n",
        "\n",
        "for epoch in range(num_epoch):\n",
        "    epoch_start_time = time.time()\n",
        "    train_acc = 0.0\n",
        "    train_loss = 0.0\n",
        "    test_acc = 0.0\n",
        "    test_loss = 0.0\n",
        "\n",
        "    model.train() # 確保 model 是在 train model (開啟 Dropout 等...)\n",
        "    for i, data in enumerate(train_loader):\n",
        "        optimizer.zero_grad() # 用 optimizer 將 model 參數的 gradient 歸零\n",
        "        train_pred = model(data[0]) # 利用 model 得到預測的機率分佈 這邊實際上就是去呼叫 model 的 forward 函數\n",
        "        batch_loss = loss(train_pred, data[1]) # 計算 loss （注意 prediction 跟 label 必須同時在 CPU 或是 GPU 上）\n",
        "        batch_loss.backward() # 利用 back propagation 算出每個參數的 gradient\n",
        "        optimizer.step() # 以 optimizer 用 gradient 更新參數值\n",
        "\n",
        "        train_acc += np.sum(np.argmax(train_pred.cpu().data.numpy(), axis=1) == data[1].numpy())\n",
        "        train_loss += batch_loss.item()\n",
        "    \n",
        "    model.eval()\n",
        "    with torch.no_grad():\n",
        "        for i, data in enumerate(test_loader):\n",
        "            test_pred = model(data[0])\n",
        "            batch_loss = loss(test_pred, data[1])\n",
        "\n",
        "            test_acc += np.sum(np.argmax(test_pred.cpu().data.numpy(), axis=1) == data[1].numpy())\n",
        "            test_loss += batch_loss.item()\n",
        "\n",
        "        #將結果 print 出來\n",
        "        print('[%03d/%03d] %2.2f sec(s) Train Acc: %3.6f Loss: %3.6f | Test Acc: %3.6f loss: %3.6f' % \\\n",
        "            (epoch + 1, num_epoch, time.time()-epoch_start_time, \\\n",
        "             train_acc/train_set.__len__(), train_loss/train_set.__len__(), test_acc/test_set.__len__(), test_loss/test_set.__len__()))"
      ],
      "execution_count": 259,
      "outputs": [
        {
          "output_type": "stream",
          "text": [
            "[001/015] 1.02 sec(s) Train Acc: 0.747806 Loss: 0.008318 | Test Acc: 0.885161 loss: 0.003867\n",
            "[002/015] 1.00 sec(s) Train Acc: 0.914559 Loss: 0.002815 | Test Acc: 0.922581 loss: 0.002567\n",
            "[003/015] 1.01 sec(s) Train Acc: 0.942179 Loss: 0.002045 | Test Acc: 0.914839 loss: 0.002599\n",
            "[004/015] 1.00 sec(s) Train Acc: 0.954053 Loss: 0.001571 | Test Acc: 0.957419 loss: 0.001660\n",
            "[005/015] 1.02 sec(s) Train Acc: 0.964120 Loss: 0.001268 | Test Acc: 0.953548 loss: 0.001670\n",
            "[006/015] 1.05 sec(s) Train Acc: 0.968508 Loss: 0.001071 | Test Acc: 0.940645 loss: 0.001872\n",
            "[007/015] 1.01 sec(s) Train Acc: 0.974187 Loss: 0.000830 | Test Acc: 0.948387 loss: 0.001698\n",
            "[008/015] 1.00 sec(s) Train Acc: 0.977801 Loss: 0.000697 | Test Acc: 0.950968 loss: 0.001734\n",
            "[009/015] 1.01 sec(s) Train Acc: 0.980382 Loss: 0.000565 | Test Acc: 0.963871 loss: 0.001496\n",
            "[010/015] 1.01 sec(s) Train Acc: 0.986577 Loss: 0.000465 | Test Acc: 0.953548 loss: 0.001857\n",
            "[011/015] 1.01 sec(s) Train Acc: 0.990449 Loss: 0.000350 | Test Acc: 0.956129 loss: 0.001731\n",
            "[012/015] 1.00 sec(s) Train Acc: 0.991224 Loss: 0.000289 | Test Acc: 0.965161 loss: 0.001571\n",
            "[013/015] 1.00 sec(s) Train Acc: 0.991482 Loss: 0.000263 | Test Acc: 0.958710 loss: 0.001794\n",
            "[014/015] 1.00 sec(s) Train Acc: 0.994321 Loss: 0.000206 | Test Acc: 0.957419 loss: 0.001777\n",
            "[015/015] 1.01 sec(s) Train Acc: 0.995096 Loss: 0.000194 | Test Acc: 0.967742 loss: 0.001748\n"
          ],
          "name": "stdout"
        }
      ]
    },
    {
      "cell_type": "markdown",
      "metadata": {
        "id": "fJS1EjOoWbPR"
      },
      "source": [
        "# usps 手写数字识别"
      ]
    },
    {
      "cell_type": "markdown",
      "metadata": {
        "id": "fFuaV7U-Wk21"
      },
      "source": [
        "过程和上面类似。只不过Mnist是28\\*28，usps是16\\*16"
      ]
    },
    {
      "cell_type": "code",
      "metadata": {
        "colab": {
          "base_uri": "https://localhost:8080/"
        },
        "id": "MAQ8OOn3Wpb7",
        "outputId": "2429e93e-636b-40df-ff6e-8fe5c75dbea8"
      },
      "source": [
        "########## 加载数据 ####################3\n",
        "\n",
        "usps_data_image = loadmat(\"data/usps_train.mat\")\n",
        "usps_date_lable = loadmat(\"data/usps_train_labels.mat\")\n",
        "\n",
        "usps_data_image = np.array(usps_data_image['usps_train'])\n",
        "usps_date_lable = np.array(usps_date_lable['usps_train_labels'])\n",
        "# print(\"测试图片shape：\", np.shape(usps_data_image))\n",
        "# print(\"测试图片标签shape：\", np.shape(usps_date_lable))\n",
        "\n",
        "\n",
        "# fig = plt.figure()\n",
        "# plt.imshow(usps_data_image[0].reshape((16,16)))\n",
        "# plt.show()\n",
        "\n",
        "num = usps_data_image.shape[0]\n",
        "usps_data_image = usps_data_image.reshape(-1,16,16,1).astype('float32') # 一般channel在最后面。如果这里是(-1,1,28,28),后面transforms.ToTensor，会把1放到中间\n",
        "usps_date_lable = usps_date_lable.reshape(num,).astype('long')              # 因为后面的交叉熵需要1D，long类型\n",
        "print(\"image shape:\",np.shape(usps_data_image))\n",
        "print(\"image lable shape:\",np.shape(usps_date_lable))\n",
        "\n",
        "# for i,num in  enumerate(usps_date_lable):\n",
        "#   if num == 10:\n",
        "#     fig = plt.figure()\n",
        "#     plt.imshow(usps_data_image[i].reshape((16,16)))\n",
        "#     plt.show()\n",
        "#     break\n",
        "# 烦人，label分类没有从数字0开始。\n",
        "usps_date_lable = usps_date_lable -1\n",
        "\n",
        "########### 数据的5/6用于训练，1/6用于测试 ##################\n",
        "num = usps_data_image.shape[0]\n",
        "train_usps_data_image = usps_data_image[:int(num/6*5)]\n",
        "test_usps_data_image = usps_data_image[int(num/6*5):]\n",
        "train_usps_date_lable = usps_date_lable[:int(num/6*5)]\n",
        "test_usps_date_lable = usps_date_lable[int(num/6*5):]\n",
        "# print(np.shape(train_usps_data_image))"
      ],
      "execution_count": 260,
      "outputs": [
        {
          "output_type": "stream",
          "text": [
            "image shape: (4649, 16, 16, 1)\n",
            "image lable shape: (4649,)\n"
          ],
          "name": "stdout"
        }
      ]
    },
    {
      "cell_type": "code",
      "metadata": {
        "id": "--vJK79xY5Xl"
      },
      "source": [
        "########## 数据转换成Tensor并normalize；使用Dataset，使用自定义的迭代器。#############\n",
        "\n",
        "train_transform = transforms.Compose([\n",
        "    transforms.ToTensor(), # 将数据转换成 Tensor，并把数值 normalize 到 [0,1] \n",
        "])\n",
        "test_transform = transforms.Compose([                              \n",
        "    transforms.ToTensor(),\n",
        "])\n",
        "\n",
        "class ImgDataset(Dataset):\n",
        "    def __init__(self, x, y=None, transform=None):\n",
        "        self.x = x\n",
        "        self.y = y\n",
        "        self.transform = transform\n",
        "    def __len__(self):\n",
        "        return len(self.x)\n",
        "    def __getitem__(self, index):\n",
        "        X = self.x[index]\n",
        "        if self.transform is not None:\n",
        "            X = self.transform(X)\n",
        "        if self.y is not None:\n",
        "            Y = self.y[index]\n",
        "            return X, Y\n",
        "        else:\n",
        "            return X\n",
        "\n",
        "\n",
        "# 通过torch.utils.data.DataLoader来定义新的迭代器\n",
        "batch_size = 100\n",
        "train_set = ImgDataset(train_usps_data_image, train_usps_date_lable, train_transform)\n",
        "test_set = ImgDataset(test_usps_data_image, test_usps_date_lable, test_transform)\n",
        "train_loader = DataLoader(train_set, batch_size=batch_size, shuffle=True)\n",
        "test_loader = DataLoader(test_set, batch_size=batch_size, shuffle=False)"
      ],
      "execution_count": 261,
      "outputs": []
    },
    {
      "cell_type": "code",
      "metadata": {
        "id": "kQIN5_CvZtUA"
      },
      "source": [
        "############## 因为维度不同，这里重新定义下CNN模型 ###########################\n",
        "class Classifier(nn.Module):\n",
        "    def __init__(self):\n",
        "        super(Classifier, self).__init__()\n",
        "        # torch.nn.Conv2d(in_channels, out_channels, kernel_size, stride, padding)\n",
        "        # torch.nn.MaxPool2d(kernel_size, stride, padding)\n",
        "        # input 維度 [1, 16, 16]\n",
        "        self.cnn = nn.Sequential(\n",
        "            nn.Conv2d(1, 6, 3),  # 6个3*3的filter   # [6,14,14]\n",
        "            nn.MaxPool2d(2, 2),                    # [6,7,7]\n",
        "            # nn.Conv2d(6, 16, 3), # 16个6*3*3的filter# [16,5,5] \n",
        "            # nn.MaxPool2d(2, 2),                    # [16,2,2]\n",
        "        )\n",
        "        self.fc = nn.Sequential(\n",
        "            nn.Linear(6*7*7, 1024),\n",
        "            nn.ReLU(),\n",
        "            nn.Linear(1024, 512),\n",
        "            nn.ReLU(),\n",
        "            nn.Linear(512, 10)\n",
        "        )\n",
        "\n",
        "    def forward(self, x):\n",
        "        out = self.cnn(x)\n",
        "        out = out.view(out.size()[0], -1)\n",
        "        # print(out.size())\n",
        "        return self.fc(out)"
      ],
      "execution_count": 262,
      "outputs": []
    },
    {
      "cell_type": "code",
      "metadata": {
        "colab": {
          "base_uri": "https://localhost:8080/"
        },
        "id": "7aVy5rABaDWv",
        "outputId": "a6596f05-abed-4ad3-90e0-8e56423d4416"
      },
      "source": [
        "################# 训练并测试模型 #########################\n",
        "model = Classifier()\n",
        "loss = nn.CrossEntropyLoss() # 因為是 classification task，所以 loss 使用 CrossEntropyLoss\n",
        "optimizer = torch.optim.Adam(model.parameters(), lr=0.001) # optimizer 使用 Adam\n",
        "num_epoch = 15\n",
        "\n",
        "for epoch in range(num_epoch):\n",
        "    epoch_start_time = time.time()\n",
        "    train_acc = 0.0\n",
        "    train_loss = 0.0\n",
        "    test_acc = 0.0\n",
        "    test_loss = 0.0\n",
        "\n",
        "    model.train() # 確保 model 是在 train model (開啟 Dropout 等...)\n",
        "    for i, data in enumerate(train_loader):\n",
        "        optimizer.zero_grad() # 用 optimizer 將 model 參數的 gradient 歸零\n",
        "        train_pred = model(data[0]) # 利用 model 得到預測的機率分佈 這邊實際上就是去呼叫 model 的 forward 函數\n",
        "        batch_loss = loss(train_pred, data[1]) # 計算 loss （注意 prediction 跟 label 必須同時在 CPU 或是 GPU 上）\n",
        "        batch_loss.backward() # 利用 back propagation 算出每個參數的 gradient\n",
        "        optimizer.step() # 以 optimizer 用 gradient 更新參數值\n",
        "\n",
        "        train_acc += np.sum(np.argmax(train_pred.cpu().data.numpy(), axis=1) == data[1].numpy())\n",
        "        train_loss += batch_loss.item()\n",
        "    \n",
        "    model.eval()\n",
        "    with torch.no_grad():\n",
        "        for i, data in enumerate(test_loader):\n",
        "            test_pred = model(data[0])\n",
        "            batch_loss = loss(test_pred, data[1])\n",
        "\n",
        "            test_acc += np.sum(np.argmax(test_pred.cpu().data.numpy(), axis=1) == data[1].numpy())\n",
        "            test_loss += batch_loss.item()\n",
        "\n",
        "        #將結果 print 出來\n",
        "        print('[%03d/%03d] %2.2f sec(s) Train Acc: %3.6f Loss: %3.6f | Test Acc: %3.6f loss: %3.6f' % \\\n",
        "            (epoch + 1, num_epoch, time.time()-epoch_start_time, \\\n",
        "             train_acc/train_set.__len__(), train_loss/train_set.__len__(), test_acc/test_set.__len__(), test_loss/test_set.__len__()))"
      ],
      "execution_count": 263,
      "outputs": [
        {
          "output_type": "stream",
          "text": [
            "[001/015] 1.04 sec(s) Train Acc: 0.715023 Loss: 0.009122 | Test Acc: 0.882581 loss: 0.003902\n",
            "[002/015] 1.03 sec(s) Train Acc: 0.912752 Loss: 0.003139 | Test Acc: 0.904516 loss: 0.003077\n",
            "[003/015] 1.00 sec(s) Train Acc: 0.933144 Loss: 0.002181 | Test Acc: 0.930323 loss: 0.002439\n",
            "[004/015] 1.04 sec(s) Train Acc: 0.950955 Loss: 0.001639 | Test Acc: 0.927742 loss: 0.002532\n",
            "[005/015] 0.99 sec(s) Train Acc: 0.962055 Loss: 0.001312 | Test Acc: 0.945806 loss: 0.002036\n",
            "[006/015] 1.00 sec(s) Train Acc: 0.971864 Loss: 0.001009 | Test Acc: 0.949677 loss: 0.001873\n",
            "[007/015] 1.03 sec(s) Train Acc: 0.976510 Loss: 0.000830 | Test Acc: 0.952258 loss: 0.001645\n",
            "[008/015] 1.01 sec(s) Train Acc: 0.981673 Loss: 0.000576 | Test Acc: 0.956129 loss: 0.001684\n",
            "[009/015] 1.03 sec(s) Train Acc: 0.985803 Loss: 0.000496 | Test Acc: 0.961290 loss: 0.001754\n",
            "[010/015] 1.04 sec(s) Train Acc: 0.980898 Loss: 0.000582 | Test Acc: 0.950968 loss: 0.001685\n",
            "[011/015] 1.01 sec(s) Train Acc: 0.986319 Loss: 0.000450 | Test Acc: 0.960000 loss: 0.001776\n",
            "[012/015] 0.99 sec(s) Train Acc: 0.991740 Loss: 0.000296 | Test Acc: 0.958710 loss: 0.001695\n",
            "[013/015] 1.00 sec(s) Train Acc: 0.991998 Loss: 0.000271 | Test Acc: 0.965161 loss: 0.001784\n",
            "[014/015] 1.03 sec(s) Train Acc: 0.994063 Loss: 0.000230 | Test Acc: 0.961290 loss: 0.001828\n",
            "[015/015] 1.00 sec(s) Train Acc: 0.994321 Loss: 0.000202 | Test Acc: 0.962581 loss: 0.001758\n"
          ],
          "name": "stdout"
        }
      ]
    }
  ]
}