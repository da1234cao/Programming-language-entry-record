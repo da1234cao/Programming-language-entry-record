{
 "metadata": {
  "language_info": {
   "codemirror_mode": {
    "name": "ipython",
    "version": 3
   },
   "file_extension": ".py",
   "mimetype": "text/x-python",
   "name": "python",
   "nbconvert_exporter": "python",
   "pygments_lexer": "ipython3",
   "version": "3.6.9-final"
  },
  "orig_nbformat": 2,
  "kernelspec": {
   "name": "python3",
   "display_name": "Python 3.6.9 64-bit",
   "metadata": {
    "interpreter": {
     "hash": "f02f34144d8162590fcc4ade7f76d31a5eaeed4448d03d159f3b54a575f5e0b8"
    }
   }
  }
 },
 "nbformat": 4,
 "nbformat_minor": 2,
 "cells": [
  {
   "source": [
    "# Concolic fuzzing"
   ],
   "cell_type": "markdown",
   "metadata": {}
  },
  {
   "source": [
    "在信息流这一章中，我们已经看到了动态污染如何通过指示输入的哪一部分到达了有趣的地方来引导模糊。然而，动态污染跟踪所能传播的信息有限。例如，我们可能想了解当输入的某些属性发生变化时会发生什么?"
   ],
   "cell_type": "markdown",
   "metadata": {}
  },
  {
   "cell_type": "code",
   "execution_count": null,
   "metadata": {},
   "outputs": [],
   "source": [
    "from fuzzingbook.fuzzingbook_utils.Coverage import Coverage\n",
    "import inspect\n",
    "import z3"
   ]
  },
  {
   "cell_type": "code",
   "execution_count": null,
   "metadata": {},
   "outputs": [],
   "source": [
    "class ArcCoverage(Coverage):\n",
    "    def traceit(self, frame, event, args):\n",
    "        if event != 'return':\n",
    "            f = inspect.getframeinfo(frame)\n",
    "            self._trace.append((f.function, f.lineno))\n",
    "        return self.traceit\n",
    "\n",
    "    def arcs(self):\n",
    "        t = [i for f, i in self._trace]\n",
    "        return list(zip(t, t[1:]))"
   ]
  },
  {
   "cell_type": "code",
   "execution_count": null,
   "metadata": {},
   "outputs": [],
   "source": [
    "def factorial(n):\n",
    "    if n < 0:\n",
    "        return None\n",
    "    if n == 0:\n",
    "        return 1\n",
    "    if n == 1:\n",
    "        return 1\n",
    "    v = 1\n",
    "    while n != 0:\n",
    "        v = v * n\n",
    "        n = n - 1\n",
    "    return v"
   ]
  },
  {
   "cell_type": "code",
   "execution_count": null,
   "metadata": {},
   "outputs": [],
   "source": [
    "with ArcCoverage() as cov:\n",
    "    factorial(5)"
   ]
  },
  {
   "cell_type": "code",
   "execution_count": 119,
   "metadata": {},
   "outputs": [
    {
     "output_type": "execute_result",
     "data": {
      "text/plain": [
       "[(1, 2),\n",
       " (2, 4),\n",
       " (4, 6),\n",
       " (6, 8),\n",
       " (8, 9),\n",
       " (9, 10),\n",
       " (10, 11),\n",
       " (11, 9),\n",
       " (9, 10),\n",
       " (10, 11),\n",
       " (11, 9),\n",
       " (9, 10),\n",
       " (10, 11),\n",
       " (11, 9),\n",
       " (9, 10),\n",
       " (10, 11),\n",
       " (11, 9),\n",
       " (9, 10),\n",
       " (10, 11),\n",
       " (11, 9),\n",
       " (9, 12),\n",
       " (12, 58),\n",
       " (58, 59)]"
      ]
     },
     "metadata": {},
     "execution_count": 119
    }
   ],
   "source": [
    "cov.arcs()"
   ]
  },
  {
   "source": [
    "可以看到，有的路径没有执行。\n",
    "\n",
    "一种方法是使用符号变量来表示输入，对约束进行编码，并使用SMT求解器来解决相应约束的否定。"
   ],
   "cell_type": "markdown",
   "metadata": {}
  },
  {
   "source": [
    "## SMT 求解器\n",
    "\n",
    "[SMT求解技术的发展及最新应用研究综述](http://crad.ict.ac.cn/CN/abstract/abstract3470.shtml)\n",
    "\n",
    "官网： [z3 -- github](https://github.com/Z3Prover/z3) | [z3的document](https://github.com/Z3Prover/z3/wiki/Documentation)\n",
    "\n",
    "非官网：[Z3Py Guide](https://ericpony.github.io/z3py-tutorial/guide-examples.htm) | [Programming Z3](https://theory.stanford.edu/~nikolaj/programmingz3.html)\n",
    "\n",
    "`pip install z3-solver`"
   ],
   "cell_type": "markdown",
   "metadata": {}
  },
  {
   "cell_type": "code",
   "execution_count": null,
   "metadata": {},
   "outputs": [],
   "source": [
    "x = z3.Int('x')\n",
    "y = z3.Int('y')\n",
    "\n",
    "s = z3.Solver()\n",
    "print(s)\n",
    "\n",
    "s.add(x > 10, y == x + 2)\n",
    "print(s)\n",
    "print(\"Solving constraints in the solver s ...\")\n",
    "if s.check() == z3.sat:\n",
    "    print(s.model())\n",
    "else:\n",
    "    print(\"un-solved\")\n",
    "\n",
    "print(\"Create a new scope...\")\n",
    "s.push()\n",
    "s.add(y < 11)\n",
    "print(s)\n",
    "print(\"Solving updated set of constraints...\")\n",
    "if s.check() == z3.sat:\n",
    "    print(s.model())\n",
    "else:\n",
    "    print(\"un-solved\")\n",
    "\n",
    "print(\"Restoring state...\")\n",
    "s.pop()\n",
    "print(s)\n",
    "print(\"Solving restored set of constraints...\")\n",
    "if s.check() == z3.sat:\n",
    "    print(s.model())\n",
    "else:\n",
    "    print(\"un-solved\")"
   ]
  },
  {
   "cell_type": "code",
   "execution_count": null,
   "metadata": {},
   "outputs": [],
   "source": [
    "# print(z3.get_version())\n",
    "# set_option: Alias for 'set_param' for backward compatibility.\n",
    "# set_param : Set Z3 global (or module) parameters\n",
    "# 但是有哪些全局设置？找了一圈没有找见。\n",
    "# 下面两个是，指定z3str3 solver，超时设置30 seconds\n",
    "z3.set_option('smt.string_solver', 'z3str3')\n",
    "z3.set_option('timeout', 30 * 1000)  # milliseconds"
   ]
  },
  {
   "cell_type": "code",
   "execution_count": null,
   "metadata": {},
   "outputs": [],
   "source": [
    "# 对约束进行编码需要声明一个对应于输入n的符号变量。\n",
    "zn = z3.Int('n')\n",
    "predicates = [z3.Not(zn < 0), z3.Not(zn == 0)]\n",
    "print(predicates)\n",
    "z3.solve(predicates)"
   ]
  },
  {
   "source": [
    "使用cov可以看出哪些路径没有执行.使用SMT解析器,给出相反的约束,执行没有执行的路径.如此迭代,使得每条路径得以覆盖.如果这个过程可以自动化实现,那会很棒."
   ],
   "cell_type": "markdown",
   "metadata": {}
  },
  {
   "source": [
    "## A Concolic Tracer"
   ],
   "cell_type": "markdown",
   "metadata": {}
  },
  {
   "cell_type": "code",
   "execution_count": null,
   "metadata": {},
   "outputs": [],
   "source": [
    "class ConcolicTracer:\n",
    "    def __init__(self,context=None):\n",
    "        # context参数包含到目前为止看到的符号变量的声明，如果有前置条件，则包含前置条件。\n",
    "        self.context = context if context is not None else ({},[])\n",
    "        self.decls,self.path = self.context\n",
    "    \n",
    "    def __enter__(self):\n",
    "        return self\n",
    "    \n",
    "    def __exit__(self,exc_type,exc_value,tb):\n",
    "        return\n",
    "    \n",
    "    def __getitem__(self,fn):\n",
    "        # 我们使用自省来确定函数的参数，该参数被连接到getitem方法中。\n",
    "        # __getitem__,调用此方法以实现 self[key] 的求值\n",
    "        # Python自省（反射）指南:https://www.cnblogs.com/huxi/archive/2011/01/02/1924317.html\n",
    "        self.fn = fn\n",
    "        self.fn_args = {i:None for i in inspect.signature(fn).parameters }\n",
    "        return self\n",
    "    \n",
    "    def __call__(self,*args):\n",
    "        # 此方法会在实例作为一个函数被“调用”时被调用；\n",
    "        self.result = self.fn(*self.concolic(args))\n",
    "        return self.result\n",
    "    \n",
    "    def concolic(self,args):\n",
    "        # 稍后将修改它以生成符号变量。\n",
    "        return args"
   ]
  },
  {
   "cell_type": "code",
   "execution_count": null,
   "metadata": {},
   "outputs": [],
   "source": [
    "with ConcolicTracer() as _:\n",
    "    # ConcolicTracer的对象为_;\n",
    "    # 对象_调用__getitem__方法,使得self.fn=factorial\n",
    "    # ()调用__call__方法\n",
    "    # 参数1,经过concolic修改,传递给fn函数.\n",
    "    # 执行结果保存在\n",
    "    result = _[factorial](1)\n",
    "print(result)\n",
    "_.context"
   ]
  },
  {
   "source": [
    "## Concolic Proxy Objects"
   ],
   "cell_type": "markdown",
   "metadata": {}
  },
  {
   "source": [
    "[staticmethod的使用](https://www.pynote.net/archives/1388):介绍了staticmethod的使用,装饰器,闭包.很好的文章\n",
    "\n",
    "[python的值传递和引用传递](https://www.cnblogs.com/CheeseZH/p/5165283.html):在Python中，数字、字符或者元组等不可变对象类型都属于值传递，而字典dict或者列表list等可变对象类型属于引用传递。"
   ],
   "cell_type": "markdown",
   "metadata": {}
  },
  {
   "cell_type": "code",
   "execution_count": null,
   "metadata": {},
   "outputs": [],
   "source": [
    "def zproxy_create(cls,sname,z3var,context,zn,v=None):\n",
    "    # 该方法给定一个类名，正确地创建该类的实例和相应的符号变量，并在上下文信息上下文中注册符号变量。\n",
    "    zv = cls(context,z3var(zn),v) # 创建该类的实例;z3var(zn)为创建相应的符号变量;v是符号变量具体的值;\n",
    "    context[0][zn] = sname # 在上下文中注册(引用传递);注意这里都是在第一个元素中修改的.\n",
    "    return zv"
   ]
  },
  {
   "source": [
    "### A Proxy Class for Booleans"
   ],
   "cell_type": "markdown",
   "metadata": {}
  },
  {
   "cell_type": "code",
   "execution_count": null,
   "metadata": {},
   "outputs": [],
   "source": [
    "class zbool:\n",
    "    # 下面这个类方法,在数据预处理这里(先预处理,载调用init方法),很漂亮!!!\n",
    "    @classmethod\n",
    "    def create(cls,context,zn,v):\n",
    "        # (zbool类,)传入上下文环境,待转化为符号变量的名称(字符串),符号变量具体的值\n",
    "        return zproxy_create(cls,'Bool',z3.Bool,context,zn,v)\n",
    "    \n",
    "    def __init__(self,context,z,v=None):\n",
    "        # 注意这里并没有强制检查z为Boolen类型\n",
    "        self.context, self.z, self.v = context,  z, v\n",
    "        self.decl, self.path = self.context\n",
    "    \n",
    "    def __not__(self):\n",
    "        # object中没有这个方法,https://docs.python.org/zh-cn/3/reference/datamodel.html\n",
    "        # 所以不能not zbool对象\n",
    "        # 这里仅仅是定义一个普通的方法\n",
    "        return zbool(self.context,z3.Not(self.z),not self.v)\n",
    "    \n",
    "    def __bool__(self):\n",
    "        # 调用此方法以实现真值检测以及内置的 bool() 操作\n",
    "        # 这个对象可以用来判断Trur or False\n",
    "        # 这里把谓词,注册到条件上\n",
    "        r,pred = (True,self.z) if self.v else (False,z3.Not(self.z))\n",
    "        self.path.append(pred)\n",
    "        return r"
   ]
  },
  {
   "cell_type": "code",
   "execution_count": 118,
   "metadata": {},
   "outputs": [
    {
     "output_type": "stream",
     "name": "stdout",
     "text": [
      "success\nmy_bool_arg True\n<class 'z3.z3.BoolRef'> <class 'bool'>\n({'my_bool_arg': 'Bool'}, [my_bool_arg])\n({'my_bool_arg': 'Bool'}, [my_bool_arg])\nNot(my_bool_arg) False\n"
     ]
    }
   ],
   "source": [
    "with ConcolicTracer() as _:\n",
    "    # za, zb = z3.Ints('a b')\n",
    "\n",
    "    # 调用zbool的类方法create\n",
    "    # z3.Bool:Return a Boolean constant named `name`. If `ctx=None`, then the global context is used.\n",
    "    # 使用z3.Bool,创建名为my_bool_arg的Boolean类型常量,它具体的值为True\n",
    "    # 将符号变量my_bool_arg,加入总环境中,它的类型是bool;(存储方式为字典)\n",
    "    # 返回的对象中包含五个成员变量,见init方法\n",
    "    val = zbool.create(_.context,'my_bool_arg',True)\n",
    "    val_2 = val.__not__()\n",
    "\n",
    "    if val:\n",
    "        print(\"success\")\n",
    "\n",
    "print(val.z, val.v)\n",
    "print(type(val.z), type(val.v))\n",
    "print(_.context)\n",
    "print(val.context)\n",
    "assert id(_.context) == id(val.context)\n",
    "print(val_2.z, val_2.v)"
   ]
  },
  {
   "source": [
    "### A Proxy Class for Integers"
   ],
   "cell_type": "markdown",
   "metadata": {}
  },
  {
   "cell_type": "code",
   "execution_count": null,
   "metadata": {},
   "outputs": [],
   "source": [
    "class zint(int):\n",
    "    def __new__(cls,context,zn,v,*args,**kw):\n",
    "        return int.__new__(cls,v,*args,**kw)\n",
    "    \n",
    "    @classmethod\n",
    "    def create(cls,context,zn,v=None):\n",
    "        # z3.Int:Return an integer constant named `name`. If `ctx=None`, then the global context is used.\n",
    "        return zproxy_create(cls,'Int',z3.Int,context,zn,v)\n",
    "    \n",
    "    def __init__(self,context,z,v=None):\n",
    "        self.z, self.v, self.context = z, v, context\n",
    "    \n",
    "    def __int__(self):\n",
    "        return self.v\n",
    "    \n",
    "    def __pos__(self):\n",
    "        # 调用此方法以实现一元算术运算+\n",
    "        return self.v\n",
    "    \n",
    "    def _zv(self,o):\n",
    "        return (o.z, o.v) if isinstance(o, zint) else (z3.IntVal(o), o) \n",
    "    \n",
    "    def __ne__(self, other):\n",
    "        z, v = self._zv(other)\n",
    "        return zbool(self.context, self.z != z, self.v != v)\n",
    "\n",
    "    def __eq__(self, other):\n",
    "        z, v = self._zv(other)\n",
    "        return zbool(self.context, self.z == z, self.v == v)\n",
    "    \n",
    "    def __req__(self, other):\n",
    "        return self.__eq__(other)\n",
    "\n",
    "\n",
    "    def __lt__(self, other):\n",
    "        z, v = self._zv(other)\n",
    "        return zbool(self.context, self.z < z, self.v < v)\n",
    "\n",
    "    def __gt__(self, other):\n",
    "        z, v = self._zv(other)\n",
    "        return zbool(self.context, self.z > z, self.v > v)\n",
    "\n",
    "    def __le__(self, other):\n",
    "        z, v = self._zv(other)\n",
    "        return zbool(self.context, z3.Or(self.z < z, self.z == z),\n",
    "                     self.v < v or self.v == v)\n",
    "\n",
    "    def __ge__(self, other):\n",
    "        z, v = self._zv(other)\n",
    "        return zbool(self.context, z3.Or(self.z > z, self.z == z),\n",
    "                     self.v > v or self.v == v)\n",
    "    \n",
    "    def __bool__(self):\n",
    "        # 对象存在则为真。并不判断self.v\n",
    "\n",
    "        # 因为条件判断需要原始的布尔值。\n",
    "        # 如果返回这个，就好了。这个再调用下自己的__bool__\n",
    "        # return zbool(self.context, self.z, self.v) <-- not allowed\n",
    "\n",
    "        # force registering boolean condition\n",
    "        # 这调用上面的__ne__，返回一个zint对象\n",
    "        # if zint对象，调用该对象的__bool__方法\n",
    "        if self != 0:\n",
    "            return True\n",
    "        return False"
   ]
  },
  {
   "cell_type": "code",
   "execution_count": null,
   "metadata": {},
   "outputs": [],
   "source": [
    "######## 整数的二元运算 ################\n",
    "INT_BINARY_OPS = [\n",
    "    '__add__',\n",
    "    '__sub__',\n",
    "    '__mul__',\n",
    "    '__truediv__',\n",
    "    # '__div__',\n",
    "    '__mod__',\n",
    "    # '__divmod__',\n",
    "    '__pow__',\n",
    "    # '__lshift__',\n",
    "    # '__rshift__',\n",
    "    # '__and__',\n",
    "    # '__xor__',\n",
    "    # '__or__',\n",
    "    '__radd__',\n",
    "    '__rsub__',\n",
    "    '__rmul__',\n",
    "    '__rtruediv__',\n",
    "    # '__rdiv__',\n",
    "    '__rmod__',\n",
    "    # '__rdivmod__',\n",
    "    '__rpow__',\n",
    "    # '__rlshift__',\n",
    "    # '__rrshift__',\n",
    "    # '__rand__',\n",
    "    # '__rxor__',\n",
    "    # '__ror__',\n",
    "]\n",
    "\n",
    "def make_int_binary_wrapper(fname, fun, zfun):\n",
    "    def proxy(self, other):\n",
    "        z, v = self._zv(other)\n",
    "        z_ = zfun(self.z, z)\n",
    "        v_ = fun(self.v, v)\n",
    "        if isinstance(v_, float):\n",
    "            # we do not implement float results yet.\n",
    "            assert round(v_) == v_\n",
    "            v_ = round(v_)\n",
    "        return zint(self.context, z_, v_)\n",
    "\n",
    "    return proxy\n",
    "\n",
    "def initialize():\n",
    "    for fn in INITIALIZER_LIST:\n",
    "        fn()\n",
    "\n",
    "\n",
    "def init_concolic_1():\n",
    "    for fname in INT_BINARY_OPS:\n",
    "        fun = getattr(int, fname)\n",
    "        # ArithRef Class Reference:https://z3prover.github.io/api/html/classz3py_1_1_arith_ref.html\n",
    "        zfun = getattr(z3.ArithRef, fname)\n",
    "        setattr(zint, fname, make_int_binary_wrapper(fname, fun, zfun))\n",
    "\n",
    "###### 整数的一元运算 ###########\n",
    "INT_UNARY_OPS = [\n",
    "    '__neg__',\n",
    "    '__pos__',\n",
    "    # '__abs__',\n",
    "    # '__invert__',\n",
    "    # '__round__',\n",
    "    # '__ceil__',\n",
    "    # '__floor__',\n",
    "    # '__trunc__',\n",
    "]\n",
    "\n",
    "def make_int_unary_wrapper(fname, fun, zfun):\n",
    "    def proxy(self):\n",
    "        return zint(self.context, zfun(self.z), fun(self.v))\n",
    "\n",
    "    return proxy\n",
    "\n",
    "def init_concolic_2():\n",
    "    for fname in INT_UNARY_OPS:\n",
    "        fun = getattr(int, fname)\n",
    "        zfun = getattr(z3.ArithRef, fname)\n",
    "        setattr(zint, fname, make_int_unary_wrapper(fname, fun, zfun))\n",
    "\n",
    "# 目前需要初始化的之后init_concolic_1。后面多了，循环初始化。\n",
    "INITIALIZER_LIST = []\n",
    "INITIALIZER_LIST.append(init_concolic_1)\n",
    "INITIALIZER_LIST.append(init_concolic_2)\n",
    "init_concolic_1()\n",
    "init_concolic_2()"
   ]
  },
  {
   "cell_type": "code",
   "execution_count": null,
   "metadata": {},
   "outputs": [],
   "source": [
    "with ConcolicTracer() as _:\n",
    "    val = zint.create(_.context, 'int_arg', 0)\n",
    "    print(val.z, val.v)\n",
    "\n",
    "    print(val._zv(0))\n",
    "    print(val._zv(val))\n",
    "\n",
    "    ia = zint.create(_.context, 'int_a', 0)\n",
    "    ib = zint.create(_.context, 'int_b', 0)\n",
    "    v1 = ia == ib\n",
    "    v2 = ia != ib\n",
    "    v3 = 0 != ib\n",
    "    print(v1.z, v2.z, v3.z)\n",
    "\n",
    "\n",
    "    ia = zint.create(_.context, 'int_a', 0)\n",
    "    ib = zint.create(_.context, 'int_b', 1)\n",
    "    v1 = ia > ib\n",
    "    v2 = ia < ib\n",
    "    print(v1.z, v2.z)\n",
    "    v3 = ia >= ib\n",
    "    v4 = ia <= ib\n",
    "    print(v3.z, v4.z)\n",
    "\n",
    "\n",
    "    ia = zint.create(_.context, 'int_a', 0)\n",
    "    ib = zint.create(_.context, 'int_b', 1)\n",
    "    print((ia + ib).z)\n",
    "    print((ia + 10).z)\n",
    "    print((11 + ib).z)\n",
    "    print((ia - ib).z)\n",
    "    print((ia * ib).z)\n",
    "    print((ia / ib).z)\n",
    "    print((ia ** ib).z)\n",
    "\n",
    "\n",
    "    ia = zint.create(_.context, 'int_a', 0)\n",
    "    print((-ia).z)\n",
    "    print((+ia).z)\n",
    "\n",
    "    za = zint.create(_.context, 'int_a', 1)\n",
    "    zb = zint.create(_.context, 'int_b', 0)\n",
    "    # 并没有给zint类，赋予__and__属性\n",
    "    # 这里的运算逻辑是，za的__bool__,返回true；zb的__bool__，返回false\n",
    "    # true and false\n",
    "    if za and zb:\n",
    "        print('1')\n",
    "\n",
    "_.context"
   ]
  },
  {
   "source": [
    "### Translating to the SMT Expression Format\n",
    "\n",
    "[SMT-LIB官网地址](http://smtlib.cs.uiowa.edu/language.shtml) | [The SMT-LIBv2 Language and Tools: A Tutorial](http://smtlib.github.io/jSMTLIB/SMTLIBTutorial.pdf) | [The SMT-LIBv2 Language and Tools: A Tutorial 的中文翻译](https://tongtianta.site/paper/69887)"
   ],
   "cell_type": "markdown",
   "metadata": {}
  },
  {
   "cell_type": "code",
   "execution_count": 122,
   "metadata": {},
   "outputs": [],
   "source": [
    "def triangle(a, b, c):\n",
    "    if a == b:\n",
    "        if b == c:\n",
    "            return 'equilateral'\n",
    "        else:\n",
    "            return 'isosceles'\n",
    "    else:\n",
    "        if b == c:\n",
    "            return 'isosceles'\n",
    "        else:\n",
    "            if a == c:\n",
    "                return 'isosceles'\n",
    "            else:\n",
    "                return 'scalene'"
   ]
  },
  {
   "cell_type": "code",
   "execution_count": 123,
   "metadata": {},
   "outputs": [],
   "source": [
    "class ConcolicTracer(ConcolicTracer):\n",
    "    def smt_expr(self, show_decl=False, simplify=False, path=[]):\n",
    "        r = []\n",
    "        if show_decl:\n",
    "            for decl in self.decls:\n",
    "                v = self.decls[decl]\n",
    "                v = '(_ BitVec 8)' if v == 'BitVec' else v\n",
    "                r.append(\"(declare-const %s %s)\" % (decl, v))\n",
    "        path = path if path else self.path\n",
    "        if path:\n",
    "            path = z3.And(path)\n",
    "            if show_decl:\n",
    "                if simplify:\n",
    "                    return '\\n'.join([\n",
    "                        *r,\n",
    "                        \"(assert %s)\" % z3.simplify(path).sexpr()\n",
    "                    ])\n",
    "                else:\n",
    "                    return '\\n'.join(\n",
    "                        [*r, \"(assert %s)\" % path.sexpr()])\n",
    "            else:\n",
    "                return z3.simplify(path).sexpr()\n",
    "        else:\n",
    "            return ''"
   ]
  },
  {
   "cell_type": "code",
   "execution_count": 127,
   "metadata": {},
   "outputs": [
    {
     "output_type": "stream",
     "name": "stdout",
     "text": [
      "({'int_a': 'Int', 'int_b': 'Int', 'int_c': 'Int'}, [int_a == int_b, int_b == int_c])\n(declare-const int_a Int)\n(declare-const int_b Int)\n(declare-const int_c Int)\n(assert (and (= int_a int_b) (= int_b int_c)))\n[int_c = 0, int_a = 0, int_b = 0]\n"
     ]
    }
   ],
   "source": [
    "with ConcolicTracer() as _:\n",
    "    za = zint.create(_.context, 'int_a', 1)\n",
    "    zb = zint.create(_.context, 'int_b', 1)\n",
    "    zc = zint.create(_.context, 'int_c', 1)\n",
    "    triangle(za, zb, zc)\n",
    "print(_.context)\n",
    "print(_.smt_expr(show_decl=True))\n",
    "z3.solve(_.path)"
   ]
  },
  {
   "cell_type": "code",
   "execution_count": null,
   "metadata": {},
   "outputs": [],
   "source": []
  }
 ]
}