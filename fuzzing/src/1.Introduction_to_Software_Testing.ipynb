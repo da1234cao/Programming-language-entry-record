{
 "metadata": {
  "language_info": {
   "codemirror_mode": {
    "name": "ipython",
    "version": 3
   },
   "file_extension": ".py",
   "mimetype": "text/x-python",
   "name": "python",
   "nbconvert_exporter": "python",
   "pygments_lexer": "ipython3",
   "version": "3.6.9-final"
  },
  "orig_nbformat": 2,
  "kernelspec": {
   "name": "python3",
   "display_name": "Python 3"
  }
 },
 "nbformat": 4,
 "nbformat_minor": 2,
 "cells": [
  {
   "source": [
    "来源：[Introduction to Software Testing](https://www.fuzzingbook.org/html/Intro_Testing.html#Introduction-to-Software-Testing)"
   ],
   "cell_type": "markdown",
   "metadata": {}
  },
  {
   "source": [
    "# 希尔排序代码测试"
   ],
   "cell_type": "markdown",
   "metadata": {}
  },
  {
   "cell_type": "code",
   "execution_count": null,
   "metadata": {},
   "outputs": [],
   "source": [
    "# shellsort:https://en.wikipedia.org/wiki/Shellsort\n",
    "def shellsort(elems):\n",
    "    sorted_elems = elems.copy()\n",
    "    gaps = [701, 301, 132, 57, 23, 10, 4, 1]\n",
    "    for gap in gaps:\n",
    "        for i in range(gap, len(sorted_elems)):\n",
    "            temp = sorted_elems[i]\n",
    "            j = i\n",
    "            while j >= gap and sorted_elems[j - gap] > temp:\n",
    "                sorted_elems[j] = sorted_elems[j - gap]\n",
    "                j -= gap\n",
    "            sorted_elems[j] = temp\n",
    "\n",
    "    return sorted_elems"
   ]
  },
  {
   "cell_type": "code",
   "execution_count": null,
   "metadata": {},
   "outputs": [],
   "source": [
    "# 检查一个list是否升序排列\n",
    "def is_sorted(list):\n",
    "    return all(list[i+1] >= list[i] for i in range(len(list)-1))"
   ]
  },
  {
   "cell_type": "code",
   "execution_count": null,
   "metadata": {},
   "outputs": [],
   "source": [
    "# 检查两个list中的元素是否相同，位置不重要\n",
    "def is_permutation(list1, list2):\n",
    "    return len(list1) == len(list2) and all(list1.count(elem) == list2.count(elem) for elem in list1)"
   ]
  },
  {
   "cell_type": "code",
   "execution_count": null,
   "metadata": {},
   "outputs": [],
   "source": [
    "# 测试shellsort函数\n",
    "import random\n",
    "def shellsort_test():\n",
    "    elems=[]\n",
    "    for i in range(1,1000):\n",
    "        sorted_elems = shellsort(elems)\n",
    "        assert (is_sorted(sorted_elems) and is_permutation(elems,sorted_elems)) == True\n",
    "        elems.append(random.random()*1000)"
   ]
  },
  {
   "cell_type": "code",
   "execution_count": null,
   "metadata": {},
   "outputs": [],
   "source": [
    "# 测试shellsort\n",
    "from fuzzingbook.fuzzingbook_utils import Timer\n",
    "with Timer.Timer() as t:\n",
    "    shellsort_test()\n",
    "print(t.elapsed_time())"
   ]
  }
 ]
}