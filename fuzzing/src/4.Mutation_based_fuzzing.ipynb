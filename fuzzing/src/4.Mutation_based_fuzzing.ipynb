{
 "metadata": {
  "language_info": {
   "codemirror_mode": {
    "name": "ipython",
    "version": 3
   },
   "file_extension": ".py",
   "mimetype": "text/x-python",
   "name": "python",
   "nbconvert_exporter": "python",
   "pygments_lexer": "ipython3",
   "version": "3.6.9-final"
  },
  "orig_nbformat": 2,
  "kernelspec": {
   "name": "python3",
   "display_name": "Python 3",
   "language": "python"
  }
 },
 "nbformat": 4,
 "nbformat_minor": 2,
 "cells": [
  {
   "source": [
    "# 基于突变的模糊测试"
   ],
   "cell_type": "markdown",
   "metadata": {}
  },
  {
   "source": [
    "## 随机生成测试用例的缺点"
   ],
   "cell_type": "markdown",
   "metadata": {}
  },
  {
   "cell_type": "code",
   "execution_count": null,
   "metadata": {},
   "outputs": [],
   "source": [
    "from urllib.parse import urlparse"
   ]
  },
  {
   "cell_type": "code",
   "execution_count": null,
   "metadata": {},
   "outputs": [],
   "source": [
    "urlparse(\"http://www.google.com/search?q=fuzzing\")"
   ]
  },
  {
   "cell_type": "code",
   "execution_count": null,
   "metadata": {},
   "outputs": [],
   "source": [
    "def http_program(url):\n",
    "    \"\"\"检查url的合法性\"\"\"\n",
    "    supported_schemes = [\"http\",\"https\"]\n",
    "    result = urlparse(url)\n",
    "    if result.scheme not in supported_schemes:\n",
    "        raise ValueError(\"scheme must be one of \" + repr(supported_schemes))\n",
    "    if result.netloc == '':\n",
    "        raise ValueError(\"url netloc must not be empty\")\n",
    "    return True"
   ]
  },
  {
   "cell_type": "code",
   "execution_count": null,
   "metadata": {},
   "outputs": [],
   "source": [
    "def is_valid_url(url):\n",
    "    try:\n",
    "        http_program(url)\n",
    "        return True\n",
    "    except ValueError:\n",
    "        return False"
   ]
  },
  {
   "source": [
    "## 突变输入"
   ],
   "cell_type": "markdown",
   "metadata": {}
  },
  {
   "cell_type": "code",
   "execution_count": null,
   "metadata": {},
   "outputs": [],
   "source": [
    "import random"
   ]
  },
  {
   "cell_type": "code",
   "execution_count": null,
   "metadata": {},
   "outputs": [],
   "source": [
    "def delete_random_character(s):\n",
    "    \"\"\"在原字符串的基础上随机删除一个字符，并返回；原字符串不变\"\"\"\n",
    "    if s == \"\":\n",
    "        return s\n",
    "    pos = random.randint(0,len(s)-1)\n",
    "    return s[:pos] + s[pos+1:]"
   ]
  },
  {
   "cell_type": "code",
   "execution_count": null,
   "metadata": {},
   "outputs": [],
   "source": [
    "def insert_random_character(s):\n",
    "    \"\"\"在原字符串的基础上随机插入一个字符，并返回；原字符串不变\"\"\"\n",
    "    pos = random.randint(0,len(s)-1)\n",
    "    # randint 左右闭区间，randrange左闭右开\n",
    "    # randrange()功能相当于 choice(range(start, stop, step))\n",
    "    random_char = chr(random.randrange(32,127)) \n",
    "    return s[:pos] + random_char + s[pos:]"
   ]
  },
  {
   "cell_type": "code",
   "execution_count": null,
   "metadata": {},
   "outputs": [],
   "source": [
    "def flip_random_character(s):\n",
    "    \"\"\"在原字符串的基础上随机翻转一个bit，并返回；原字符串不变\"\"\"\n",
    "    if s == \"\":\n",
    "        return s\n",
    "    pos = random.randint(0,len(s)-1)\n",
    "    c = s[pos]\n",
    "    bit = 1 << random.randint(0,6) # 注意这里只有七个位置可能翻转\n",
    "    new_c = chr(ord(c)^bit)\n",
    "    return  s[:pos] + new_c + s[pos+1:]"
   ]
  },
  {
   "cell_type": "code",
   "execution_count": null,
   "metadata": {},
   "outputs": [],
   "source": [
    "def mutate(s):\n",
    "    \"\"\"随机选择一个突变方式\"\"\"\n",
    "    mutators = [\n",
    "        delete_random_character,\n",
    "        insert_random_character,\n",
    "        flip_random_character\n",
    "    ]\n",
    "    # print(type(mutators[0])) # 这里面存储的是函数类型，有意思\n",
    "    matator = random.choice(mutators)\n",
    "    return matator(s)"
   ]
  },
  {
   "cell_type": "code",
   "execution_count": null,
   "metadata": {},
   "outputs": [],
   "source": [
    "for i in range(10):\n",
    "    print(repr(mutate(\"A quick brown fox\")))"
   ]
  },
  {
   "source": [
    "## MutationFuzzer 代码"
   ],
   "cell_type": "markdown",
   "metadata": {}
  },
  {
   "cell_type": "code",
   "execution_count": null,
   "metadata": {},
   "outputs": [],
   "source": [
    "from fuzzingbook.fuzzingbook_utils.Fuzzer import Fuzzer"
   ]
  },
  {
   "cell_type": "code",
   "execution_count": null,
   "metadata": {},
   "outputs": [],
   "source": [
    "class MutationFuzzer(Fuzzer):\n",
    "    def __init__(self,seed, min_mutations=2,max_mutations=10):\n",
    "        self.seed = seed\n",
    "        self.min_mutations = min_mutations\n",
    "        self.max_mutations = max_mutations\n",
    "        self.reset()\n",
    "    \n",
    "    def reset(self):\n",
    "        self.population = self.seed\n",
    "        self.seed_index = 0\n",
    "    \n",
    "    def mutate(self,inp):\n",
    "        return mutate(inp)\n",
    "    \n",
    "    # 从仓库中随机选择一个进行突变；\n",
    "    # 仓库使用种子进行初始化（__init__中完成）\n",
    "    # 这里并没有将突变生成的内容放入population\n",
    "    def create_candidate(self):\n",
    "        candidate = random.choice(self.population)\n",
    "        trails = random.randint(self.min_mutations,self.max_mutations)\n",
    "        for i in range(trails):\n",
    "            candidate = self.mutate(candidate)\n",
    "        return candidate\n",
    "    \n",
    "    def fuzz(self):\n",
    "        if self.seed_index < len(self.seed):\n",
    "            # 使用种子\n",
    "            self.inp = self.seed[self.seed_index]\n",
    "            self.seed_index += 1\n",
    "        else:\n",
    "            # 使用突变生成的内容\n",
    "            self.inp = self.create_candidate()\n",
    "        return self.inp\n",
    "    \n"
   ]
  },
  {
   "source": [
    "上面有个问题；突变的越多，生成种子的不合法性越大；如何控制突变呢？"
   ],
   "cell_type": "markdown",
   "metadata": {}
  },
  {
   "source": [
    "## 覆盖率引导"
   ],
   "cell_type": "markdown",
   "metadata": {}
  },
  {
   "cell_type": "code",
   "execution_count": 33,
   "metadata": {},
   "outputs": [],
   "source": [
    "from fuzzingbook.fuzzingbook_utils.Fuzzer import Runner\n",
    "from fuzzingbook.fuzzingbook_utils.Coverage import Coverage,population_coverage"
   ]
  },
  {
   "cell_type": "code",
   "execution_count": null,
   "metadata": {},
   "outputs": [],
   "source": [
    "class FunctionRunner(Runner):\n",
    "    def __init__(self,function):\n",
    "        self.function = function\n",
    "    \n",
    "    def run_function(self,inp):\n",
    "        return self.function(inp)\n",
    "    \n",
    "    def run(self,inp):\n",
    "        try:\n",
    "            result = self.run_function(inp)\n",
    "            outcome = self.PASS\n",
    "        except Exception:\n",
    "            result = None\n",
    "            outcome = self.FAIL\n",
    "        return result,outcome"
   ]
  },
  {
   "cell_type": "code",
   "execution_count": null,
   "metadata": {},
   "outputs": [],
   "source": [
    "http_runner = FunctionRunner(http_program)\n",
    "http_runner.run(\"https://foo.bar/\")"
   ]
  },
  {
   "cell_type": "code",
   "execution_count": null,
   "metadata": {},
   "outputs": [],
   "source": [
    "class FunctionCoverageRunner(FunctionRunner):\n",
    "    def run_function(self,inp):\n",
    "        with Coverage() as cov:\n",
    "            try:\n",
    "                result = super().run_function(inp)\n",
    "            except Exception as exc:\n",
    "                self._coverage = cov.coverage()\n",
    "                raise exc\n",
    "        self._coverage = cov.coverage()\n",
    "        return result\n",
    "    \n",
    "    def coverage(self):\n",
    "        return self._coverage"
   ]
  },
  {
   "cell_type": "code",
   "execution_count": null,
   "metadata": {},
   "outputs": [],
   "source": [
    "http_runner = FunctionCoverageRunner(http_program)\n",
    "http_runner.run(\"https://foo.bar/\")\n",
    "print(list(http_runner.coverage())[:5])"
   ]
  },
  {
   "cell_type": "code",
   "execution_count": 30,
   "metadata": {},
   "outputs": [],
   "source": [
    "class MutationCoverageFuzzer(MutationFuzzer):\n",
    "    def reset(self):\n",
    "        super().reset()\n",
    "        self.coverages_seen = set()\n",
    "        # Now empty; we fill this with seed in the first fuzz runs\n",
    "        self.population = []\n",
    "\n",
    "    def run(self, runner):\n",
    "        \"\"\"Run function(inp) while tracking coverage.\n",
    "           If we reach new coverage,\n",
    "           add inp to population and its coverage to population_coverage\n",
    "        \"\"\"\n",
    "        result, outcome = super().run(runner)\n",
    "        new_coverage = frozenset(runner.coverage())\n",
    "        if outcome == Runner.PASS and new_coverage not in self.coverages_seen:\n",
    "            # We have new coverage\n",
    "            self.population.append(self.inp)\n",
    "            self.coverages_seen.add(new_coverage)\n",
    "    \n",
    "        return result"
   ]
  },
  {
   "cell_type": "code",
   "execution_count": 31,
   "metadata": {},
   "outputs": [
    {
     "output_type": "execute_result",
     "data": {
      "text/plain": [
       "['http://www.google.com/search?q=fuzzing',\n",
       " 'http://www.go8gle.com/Search?Nq=fuzzIng',\n",
       " 'http://www.go8gle.coOm/SearchNq=fuzIn',\n",
       " \"http://www.go8'le.mSearch?Nq=fuzzIng\",\n",
       " 'http://www.go8ggle.#co/S4earch=?NqT=fuzJzng',\n",
       " 'http://www.go8gle.rcomSearchNq~=fuzzKng',\n",
       " 'htTp://wwwgto8gle.com/Search?F=FuzzIng',\n",
       " 'http://www*.go8gle.ucom/Se.;arch?Nq=fuzzIg',\n",
       " 'http://gww*.go8gle.}com/Se.;CarchNq=fuzzI',\n",
       " 'hTtp://www.go8gle.rcomSearcNq~=fuzzKng',\n",
       " 'hTtP://Www.go8gl.rcomSeavcNq~=fuzzKng',\n",
       " 'hTtp://wwwg/:glez.rcomSe!rcNq~-fuMzzKng',\n",
       " 'http://wJw.google.com/se;arch<a=uzzig',\n",
       " 'http://www.go0gler.rcomSearchNq~=fuzzKng',\n",
       " 'http://www*go8ggle.#co/S4arc`=?NqT?tfuzJzng',\n",
       " \"http://wHww/go8Ugle.rComSearchN'q~=fuzzKng\",\n",
       " 'hTtp://wwg/:flez.rc#omSe!rcNq~-fuMzzKNe',\n",
       " 'hTtp://wwg/:)lez.pcmmS%e!rcNq~-&umCzzKg',\n",
       " 'htTp://gww*.go8gle.}c2om/Se.;CarchNq=fuzzI',\n",
       " 'htTp://wwwgto8le*cowm/Searbh?FFuzzIng',\n",
       " 'htTp://gww*.go8gle.=c2om/Se.;CarhNq=fuzzI',\n",
       " 'http://ww.go8gle.goM/Seasch?Nq=f#tzzIn',\n",
       " 'htTp://g#Ww*.go8gleJ.}com/Sep.;CabchNq=fuzzI',\n",
       " 'hTtp://ww.go8gle.goI/Seasch?Nq=4f#tzzIn',\n",
       " 'hTtp://ww.g/8;gle./goI/Seasch?Nq=4f#tzzIn',\n",
       " \"hTtp://ww.g/8;gle./'oI/Seasch?Nq=4f@#tzzIn\",\n",
       " 'http://www*\\x0e{go8glenucom/Se.;arch?q=fuzvPzAg',\n",
       " 'http://kwJw.wooglecom/3e;ar#zch<auzzig',\n",
       " 'http://ww.go8glegM/Seasch?Nq=f#tzzIn',\n",
       " \"hTtp://ww.g/8;g,e/'oI/Seas0ciNq=4f@#tzzI\",\n",
       " 'http://kwJW.wogdecom/3 e8;ar#zch<aSZzig',\n",
       " \"hTtp://ww.g/8;gle./'oI/Seasch?Nq=4n@ctzzIn\",\n",
       " 'hTtp://w./8;gle.//I/SeaschNq=4n@ctzzIN',\n",
       " 'Http://www*\\x0e{go8glnucom/S.;arch?q=fuzvPLzAg',\n",
       " 'hTtp://wwg/;:flez.r\"#omSe!rcNq~-u\\rzGN',\n",
       " 'Http://www*\\x0e{go8glnucom/S.;arkh?q=fuzvPzAg',\n",
       " 'hTtp://ww.g/8;ole.?goI/Seasch?Nq=4f#tzzIn',\n",
       " 'hTtp://ww.g%/8;ole.?goI/Seasch?Nq=h4&#tzzIl',\n",
       " \"http://ww.g/;g,e/'5oI/Seas0iNq=4f@#tzzI\",\n",
       " \"hTtp://ww.\\\\g/8;',e/'oI-Seas0ciNq=4f@#tzzI\",\n",
       " \"hTtp://ww.g/8;gle./'oI/PSasc:h?Nq=4n@tzIn\",\n",
       " 'hTtp://w./8;gle./]/I/SeaschNq=4n@ctzzvIN',\n",
       " 'hTtp://wwGg/;:flz.r\"#omS!rcJq~Y-u\\rzGN',\n",
       " \"http://wwg/;g,\\x0f'uoI/Seas0i^Iq=f@tzzI\",\n",
       " \"http://wwg/;kg,\\x0f'uoI/bSeas0^I2mq=f@tzzI\",\n",
       " \"http://wwP.,g/;ge/'5oI/Seas0aNq=4@##tz~I\",\n",
       " \"http://wwg/;g,\\x0f'uoI/Seas0i^Iq?f@tzwzI\",\n",
       " \"http://wwP.,g/;ge/'5oI?Seas0aOq=4@##dz~I\",\n",
       " \"http://w6P.,g/;ge/'5OI?Sas0aKqq=$@#3dz~I\",\n",
       " \"http://wwP.,g/;ge'5oI?SasZ^0aOq=4@##dz~I\"]"
      ]
     },
     "metadata": {},
     "execution_count": 31
    }
   ],
   "source": [
    "seed_input = \"http://www.google.com/search?q=fuzzing\"\n",
    "mutation_fuzzer = MutationCoverageFuzzer(seed=[seed_input])\n",
    "mutation_fuzzer.runs(http_runner, trials=10000)\n",
    "mutation_fuzzer.population"
   ]
  },
  {
   "cell_type": "code",
   "execution_count": 34,
   "metadata": {},
   "outputs": [],
   "source": [
    "all_coverage, cumulative_coverage = population_coverage(\n",
    "    mutation_fuzzer.population, http_program)"
   ]
  },
  {
   "cell_type": "code",
   "execution_count": 35,
   "metadata": {},
   "outputs": [
    {
     "output_type": "display_data",
     "data": {
      "text/plain": "<Figure size 432x288 with 1 Axes>",
      "image/svg+xml": "<?xml version=\"1.0\" encoding=\"utf-8\" standalone=\"no\"?>\n<!DOCTYPE svg PUBLIC \"-//W3C//DTD SVG 1.1//EN\"\n  \"http://www.w3.org/Graphics/SVG/1.1/DTD/svg11.dtd\">\n<!-- Created with matplotlib (https://matplotlib.org/) -->\n<svg height=\"274.49625pt\" version=\"1.1\" viewBox=\"0 0 378.325 274.49625\" width=\"378.325pt\" xmlns=\"http://www.w3.org/2000/svg\" xmlns:xlink=\"http://www.w3.org/1999/xlink\">\n <defs>\n  <style type=\"text/css\">\n*{stroke-linecap:butt;stroke-linejoin:round;}\n  </style>\n </defs>\n <g id=\"figure_1\">\n  <g id=\"patch_1\">\n   <path d=\"M 0 274.49625 \nL 378.325 274.49625 \nL 378.325 0 \nL 0 0 \nz\n\" style=\"fill:none;\"/>\n  </g>\n  <g id=\"axes_1\">\n   <g id=\"patch_2\">\n    <path d=\"M 36.325 239.968125 \nL 371.125 239.968125 \nL 371.125 22.528125 \nL 36.325 22.528125 \nz\n\" style=\"fill:#ffffff;\"/>\n   </g>\n   <g id=\"matplotlib.axis_1\">\n    <g id=\"xtick_1\">\n     <g id=\"line2d_1\">\n      <defs>\n       <path d=\"M 0 0 \nL 0 3.5 \n\" id=\"m9e3f68c01b\" style=\"stroke:#000000;stroke-width:0.8;\"/>\n      </defs>\n      <g>\n       <use style=\"stroke:#000000;stroke-width:0.8;\" x=\"51.543182\" xlink:href=\"#m9e3f68c01b\" y=\"239.968125\"/>\n      </g>\n     </g>\n     <g id=\"text_1\">\n      <!-- 0 -->\n      <defs>\n       <path d=\"M 46.484375 35.15625 \nQ 46.484375 21.09375 41.40625 10.9375 \nQ 36.328125 0.78125 25 0.78125 \nQ 13.671875 0.78125 8.390625 10.9375 \nQ 3.125 21.09375 3.125 35.15625 \nQ 3.125 49.21875 8.390625 59.171875 \nQ 13.671875 69.140625 25 69.140625 \nQ 36.328125 69.140625 41.40625 59.171875 \nQ 46.484375 49.21875 46.484375 35.15625 \nz\nM 37.109375 35.15625 \nQ 37.109375 47.65625 34.171875 54.6875 \nQ 31.25 61.71875 25 61.71875 \nQ 18.75 61.71875 15.625 54.6875 \nQ 12.5 47.65625 12.5 35.15625 \nQ 12.5 22.65625 15.625 15.421875 \nQ 18.75 8.203125 25 8.203125 \nQ 31.25 8.203125 34.171875 15.421875 \nQ 37.109375 22.65625 37.109375 35.15625 \nz\n\" id=\"SimHei-48\"/>\n      </defs>\n      <g transform=\"translate(49.043182 253.804062)scale(0.1 -0.1)\">\n       <use xlink:href=\"#SimHei-48\"/>\n      </g>\n     </g>\n    </g>\n    <g id=\"xtick_2\">\n     <g id=\"line2d_2\">\n      <g>\n       <use style=\"stroke:#000000;stroke-width:0.8;\" x=\"113.65821\" xlink:href=\"#m9e3f68c01b\" y=\"239.968125\"/>\n      </g>\n     </g>\n     <g id=\"text_2\">\n      <!-- 10 -->\n      <defs>\n       <path d=\"M 30.46875 1.5625 \nL 21.484375 1.5625 \nL 21.484375 53.515625 \nL 9.765625 53.515625 \nL 9.765625 58.203125 \nQ 16.796875 58.203125 20.703125 60.9375 \nQ 24.609375 63.671875 25.78125 69.140625 \nL 30.46875 69.140625 \nz\n\" id=\"SimHei-49\"/>\n      </defs>\n      <g transform=\"translate(108.65821 253.804062)scale(0.1 -0.1)\">\n       <use xlink:href=\"#SimHei-49\"/>\n       <use x=\"50\" xlink:href=\"#SimHei-48\"/>\n      </g>\n     </g>\n    </g>\n    <g id=\"xtick_3\">\n     <g id=\"line2d_3\">\n      <g>\n       <use style=\"stroke:#000000;stroke-width:0.8;\" x=\"175.773237\" xlink:href=\"#m9e3f68c01b\" y=\"239.968125\"/>\n      </g>\n     </g>\n     <g id=\"text_3\">\n      <!-- 20 -->\n      <defs>\n       <path d=\"M 44.53125 1.5625 \nL 4.6875 1.5625 \nL 4.6875 7.8125 \nQ 7.03125 14.0625 11.125 19.328125 \nQ 15.234375 24.609375 23.046875 31.25 \nQ 28.90625 36.328125 31.4375 40.625 \nQ 33.984375 44.921875 33.984375 50 \nQ 33.984375 55.078125 31.828125 58.390625 \nQ 29.6875 61.71875 25 61.71875 \nQ 21.09375 61.71875 18.15625 58.203125 \nQ 15.234375 54.6875 15.234375 45.703125 \nL 6.25 45.703125 \nQ 6.640625 57.03125 11.515625 63.078125 \nQ 16.40625 69.140625 25.390625 69.140625 \nQ 33.984375 69.140625 38.671875 63.859375 \nQ 43.359375 58.59375 43.359375 49.609375 \nQ 43.359375 42.1875 39.0625 36.71875 \nQ 34.765625 31.25 28.515625 25.78125 \nQ 21.484375 19.53125 18.75 16.40625 \nQ 16.015625 13.28125 13.671875 8.984375 \nL 44.53125 8.984375 \nz\n\" id=\"SimHei-50\"/>\n      </defs>\n      <g transform=\"translate(170.773237 253.804062)scale(0.1 -0.1)\">\n       <use xlink:href=\"#SimHei-50\"/>\n       <use x=\"50\" xlink:href=\"#SimHei-48\"/>\n      </g>\n     </g>\n    </g>\n    <g id=\"xtick_4\">\n     <g id=\"line2d_4\">\n      <g>\n       <use style=\"stroke:#000000;stroke-width:0.8;\" x=\"237.888265\" xlink:href=\"#m9e3f68c01b\" y=\"239.968125\"/>\n      </g>\n     </g>\n     <g id=\"text_4\">\n      <!-- 30 -->\n      <defs>\n       <path d=\"M 44.140625 20.3125 \nQ 44.140625 11.328125 38.46875 6.046875 \nQ 32.8125 0.78125 24.21875 0.78125 \nQ 15.625 0.78125 9.953125 6.046875 \nQ 4.296875 11.328125 4.296875 22.265625 \nL 13.28125 22.265625 \nQ 13.28125 14.84375 16.203125 11.515625 \nQ 19.140625 8.203125 24.21875 8.203125 \nQ 29.296875 8.203125 32.03125 11.328125 \nQ 34.765625 14.453125 34.765625 21.09375 \nQ 34.765625 26.5625 31.828125 29.6875 \nQ 28.90625 32.8125 21.484375 32.8125 \nL 21.484375 39.453125 \nQ 27.734375 39.453125 30.65625 42.578125 \nQ 33.59375 45.703125 33.59375 51.953125 \nQ 33.59375 56.640625 31.4375 59.375 \nQ 29.296875 62.109375 24.609375 62.109375 \nQ 19.921875 62.109375 17.375 58.78125 \nQ 14.84375 55.46875 14.453125 49.21875 \nL 5.859375 49.21875 \nQ 6.640625 58.203125 11.515625 63.671875 \nQ 16.40625 69.140625 24.609375 69.140625 \nQ 33.203125 69.140625 37.890625 64.25 \nQ 42.578125 59.375 42.578125 52.34375 \nQ 42.578125 45.703125 40.234375 41.984375 \nQ 37.890625 38.28125 32.421875 36.328125 \nQ 37.890625 35.15625 41.015625 30.859375 \nQ 44.140625 26.5625 44.140625 20.3125 \nz\n\" id=\"SimHei-51\"/>\n      </defs>\n      <g transform=\"translate(232.888265 253.804062)scale(0.1 -0.1)\">\n       <use xlink:href=\"#SimHei-51\"/>\n       <use x=\"50\" xlink:href=\"#SimHei-48\"/>\n      </g>\n     </g>\n    </g>\n    <g id=\"xtick_5\">\n     <g id=\"line2d_5\">\n      <g>\n       <use style=\"stroke:#000000;stroke-width:0.8;\" x=\"300.003293\" xlink:href=\"#m9e3f68c01b\" y=\"239.968125\"/>\n      </g>\n     </g>\n     <g id=\"text_5\">\n      <!-- 40 -->\n      <defs>\n       <path d=\"M 46.484375 18.75 \nL 38.28125 18.75 \nL 38.28125 1.5625 \nL 29.296875 1.5625 \nL 29.296875 18.75 \nL 3.125 18.75 \nL 3.125 26.171875 \nL 29.296875 69.140625 \nL 38.28125 69.140625 \nL 38.28125 26.171875 \nL 46.484375 26.171875 \nz\nM 29.296875 26.171875 \nL 29.296875 55.078125 \nL 11.71875 26.171875 \nz\n\" id=\"SimHei-52\"/>\n      </defs>\n      <g transform=\"translate(295.003293 253.804062)scale(0.1 -0.1)\">\n       <use xlink:href=\"#SimHei-52\"/>\n       <use x=\"50\" xlink:href=\"#SimHei-48\"/>\n      </g>\n     </g>\n    </g>\n    <g id=\"xtick_6\">\n     <g id=\"line2d_6\">\n      <g>\n       <use style=\"stroke:#000000;stroke-width:0.8;\" x=\"362.118321\" xlink:href=\"#m9e3f68c01b\" y=\"239.968125\"/>\n      </g>\n     </g>\n     <g id=\"text_6\">\n      <!-- 50 -->\n      <defs>\n       <path d=\"M 44.140625 25.78125 \nQ 44.140625 14.0625 38.46875 7.421875 \nQ 32.8125 0.78125 23.4375 0.78125 \nQ 15.234375 0.78125 9.953125 6.25 \nQ 4.6875 11.71875 4.296875 21.09375 \nL 13.28125 21.09375 \nQ 13.28125 15.234375 16.015625 11.71875 \nQ 18.75 8.203125 23.828125 8.203125 \nQ 28.90625 8.203125 31.828125 12.5 \nQ 34.765625 16.796875 34.765625 25.78125 \nQ 34.765625 33.59375 32.21875 37.296875 \nQ 29.6875 41.015625 25.390625 41.015625 \nQ 21.875 41.015625 19.328125 39.453125 \nQ 16.796875 37.890625 14.453125 33.984375 \nL 6.640625 33.984375 \nL 8.984375 68.359375 \nL 42.578125 68.359375 \nL 42.578125 60.9375 \nL 16.40625 60.9375 \nL 14.84375 42.96875 \nQ 17.1875 45.3125 19.921875 46.484375 \nQ 22.65625 47.65625 27.34375 47.65625 \nQ 34.765625 47.65625 39.453125 41.984375 \nQ 44.140625 36.328125 44.140625 25.78125 \nz\n\" id=\"SimHei-53\"/>\n      </defs>\n      <g transform=\"translate(357.118321 253.804062)scale(0.1 -0.1)\">\n       <use xlink:href=\"#SimHei-53\"/>\n       <use x=\"50\" xlink:href=\"#SimHei-48\"/>\n      </g>\n     </g>\n    </g>\n    <g id=\"text_7\">\n     <!-- # of inputs -->\n     <defs>\n      <path d=\"M 47.265625 19.53125 \nL 35.546875 19.53125 \nL 33.203125 1.5625 \nL 26.953125 1.5625 \nL 29.296875 19.53125 \nL 16.40625 19.53125 \nL 14.0625 1.5625 \nL 7.8125 1.5625 \nL 10.15625 19.53125 \nL 2.34375 19.53125 \nL 2.34375 26.953125 \nL 10.9375 26.953125 \nL 13.28125 43.359375 \nL 2.34375 43.359375 \nL 2.34375 50.78125 \nL 14.0625 50.78125 \nL 16.40625 68.359375 \nL 22.65625 68.359375 \nL 20.3125 50.78125 \nL 33.203125 50.78125 \nL 35.546875 68.359375 \nL 41.796875 68.359375 \nL 39.453125 50.78125 \nL 47.265625 50.78125 \nL 47.265625 43.359375 \nL 38.671875 43.359375 \nL 36.328125 26.953125 \nL 47.265625 26.953125 \nz\nM 32.421875 43.359375 \nL 19.53125 43.359375 \nL 17.1875 26.953125 \nL 30.078125 26.953125 \nz\n\" id=\"SimHei-35\"/>\n      <path id=\"SimHei-32\"/>\n      <path d=\"M 46.09375 23.4375 \nQ 46.09375 13.28125 39.84375 7.03125 \nQ 33.59375 0.78125 25 0.78125 \nQ 16.40625 0.78125 10.15625 7.03125 \nQ 3.90625 13.28125 3.90625 23.4375 \nQ 3.90625 33.59375 10.15625 39.84375 \nQ 16.40625 46.09375 25 46.09375 \nQ 33.59375 46.09375 39.84375 39.84375 \nQ 46.09375 33.59375 46.09375 23.4375 \nz\nM 37.5 23.4375 \nQ 37.5 31.25 33.59375 35.15625 \nQ 29.6875 39.0625 25 39.0625 \nQ 20.3125 39.0625 16.40625 35.15625 \nQ 12.5 31.25 12.5 23.4375 \nQ 12.5 15.625 16.40625 11.71875 \nQ 20.3125 7.8125 25 7.8125 \nQ 29.6875 7.8125 33.59375 11.71875 \nQ 37.5 15.625 37.5 23.4375 \nz\n\" id=\"SimHei-111\"/>\n      <path d=\"M 44.921875 59.375 \nQ 42.96875 60.546875 40.234375 61.328125 \nQ 37.5 62.109375 33.203125 62.109375 \nQ 28.90625 62.109375 27.34375 59.953125 \nQ 25.78125 57.8125 25.78125 54.6875 \nL 25.78125 45.3125 \nL 41.796875 45.3125 \nL 41.796875 39.0625 \nL 25.78125 39.0625 \nL 25.78125 1.5625 \nL 17.96875 1.5625 \nL 17.96875 39.0625 \nL 4.6875 39.0625 \nL 4.6875 45.3125 \nL 17.96875 45.3125 \nL 17.96875 54.296875 \nQ 17.96875 61.328125 22.265625 65.234375 \nQ 26.5625 69.140625 33.59375 69.140625 \nQ 37.890625 69.140625 40.421875 68.546875 \nQ 42.96875 67.96875 44.921875 67.1875 \nz\n\" id=\"SimHei-102\"/>\n      <path d=\"M 28.515625 57.8125 \nL 20.703125 57.8125 \nL 20.703125 67.96875 \nL 28.515625 67.96875 \nz\nM 28.515625 1.5625 \nL 20.703125 1.5625 \nL 20.703125 45.3125 \nL 28.515625 45.3125 \nz\n\" id=\"SimHei-105\"/>\n      <path d=\"M 44.140625 1.5625 \nL 36.328125 1.5625 \nL 36.328125 29.6875 \nQ 36.328125 34.375 33.984375 37.109375 \nQ 31.640625 39.84375 27.734375 39.84375 \nQ 22.65625 39.84375 18.15625 34.5625 \nQ 13.671875 29.296875 13.671875 21.484375 \nL 13.671875 1.5625 \nL 5.859375 1.5625 \nL 5.859375 45.3125 \nL 13.671875 45.3125 \nL 13.671875 37.109375 \nQ 16.796875 41.40625 20.5 43.75 \nQ 24.21875 46.09375 30.078125 46.09375 \nQ 37.109375 46.09375 40.625 42.1875 \nQ 44.140625 38.28125 44.140625 32.421875 \nz\n\" id=\"SimHei-110\"/>\n      <path d=\"M 44.53125 23.4375 \nQ 44.53125 12.109375 39.0625 6.25 \nQ 33.59375 0.390625 25.78125 0.390625 \nQ 21.484375 0.390625 18.359375 2.140625 \nQ 15.234375 3.90625 12.890625 7.421875 \nL 12.890625 -12.890625 \nL 5.078125 -12.890625 \nL 5.078125 45.3125 \nL 12.890625 45.3125 \nL 12.890625 39.453125 \nQ 15.234375 42.96875 18.359375 44.53125 \nQ 21.484375 46.09375 25.78125 46.09375 \nQ 33.59375 46.09375 39.0625 40.421875 \nQ 44.53125 34.765625 44.53125 23.4375 \nz\nM 35.9375 23.4375 \nQ 35.9375 30.859375 33 34.953125 \nQ 30.078125 39.0625 24.21875 39.0625 \nQ 19.53125 39.0625 16.203125 34.953125 \nQ 12.890625 30.859375 12.890625 23.4375 \nQ 12.890625 16.015625 16.203125 11.71875 \nQ 19.53125 7.421875 24.21875 7.421875 \nQ 30.078125 7.421875 33 11.71875 \nQ 35.9375 16.015625 35.9375 23.4375 \nz\n\" id=\"SimHei-112\"/>\n      <path d=\"M 44.140625 1.5625 \nL 36.328125 1.5625 \nL 36.328125 9.765625 \nQ 33.203125 5.46875 29.484375 3.125 \nQ 25.78125 0.78125 19.921875 0.78125 \nQ 12.890625 0.78125 9.375 4.6875 \nQ 5.859375 8.59375 5.859375 14.453125 \nL 5.859375 45.3125 \nL 13.671875 45.3125 \nL 13.671875 17.1875 \nQ 13.671875 12.5 16.015625 9.765625 \nQ 18.359375 7.03125 22.265625 7.03125 \nQ 27.34375 7.03125 31.828125 12.296875 \nQ 36.328125 17.578125 36.328125 25.390625 \nL 36.328125 45.3125 \nL 44.140625 45.3125 \nz\n\" id=\"SimHei-117\"/>\n      <path d=\"M 43.359375 2.734375 \nQ 41.40625 1.953125 38.859375 1.359375 \nQ 36.328125 0.78125 32.03125 0.78125 \nQ 25 0.78125 20.703125 4.6875 \nQ 16.40625 8.59375 16.40625 15.625 \nL 16.40625 39.0625 \nL 3.125 39.0625 \nL 3.125 45.3125 \nL 16.40625 45.3125 \nL 16.40625 60.546875 \nL 24.21875 60.546875 \nL 24.21875 45.3125 \nL 40.234375 45.3125 \nL 40.234375 39.0625 \nL 24.21875 39.0625 \nL 24.21875 15.234375 \nQ 24.21875 12.109375 25.78125 9.953125 \nQ 27.34375 7.8125 31.640625 7.8125 \nQ 35.9375 7.8125 38.671875 8.59375 \nQ 41.40625 9.375 43.359375 10.546875 \nz\n\" id=\"SimHei-116\"/>\n      <path d=\"M 43.359375 13.671875 \nQ 43.359375 7.421875 38.46875 4.09375 \nQ 33.59375 0.78125 26.171875 0.78125 \nQ 16.796875 0.78125 11.71875 4.484375 \nQ 6.640625 8.203125 6.640625 15.234375 \nL 14.453125 15.234375 \nQ 14.453125 10.546875 17.765625 8.984375 \nQ 21.09375 7.421875 25.78125 7.421875 \nQ 30.46875 7.421875 32.8125 9.171875 \nQ 35.15625 10.9375 35.15625 13.671875 \nQ 35.15625 15.625 33.203125 17.578125 \nQ 31.25 19.53125 23.4375 20.703125 \nQ 14.453125 21.875 11.125 25.1875 \nQ 7.8125 28.515625 7.8125 33.984375 \nQ 7.8125 38.671875 12.296875 42.375 \nQ 16.796875 46.09375 25.390625 46.09375 \nQ 33.203125 46.09375 37.6875 42.578125 \nQ 42.1875 39.0625 42.1875 33.203125 \nL 34.375 33.203125 \nQ 34.375 36.71875 31.828125 38.078125 \nQ 29.296875 39.453125 25.390625 39.453125 \nQ 20.3125 39.453125 18.15625 37.6875 \nQ 16.015625 35.9375 16.015625 33.59375 \nQ 16.015625 30.859375 17.96875 29.296875 \nQ 19.921875 27.734375 26.171875 26.953125 \nQ 36.328125 25.390625 39.84375 22.0625 \nQ 43.359375 18.75 43.359375 13.671875 \nz\n\" id=\"SimHei-115\"/>\n     </defs>\n     <g transform=\"translate(176.225 266.007187)scale(0.1 -0.1)\">\n      <use xlink:href=\"#SimHei-35\"/>\n      <use x=\"50\" xlink:href=\"#SimHei-32\"/>\n      <use x=\"100\" xlink:href=\"#SimHei-111\"/>\n      <use x=\"150\" xlink:href=\"#SimHei-102\"/>\n      <use x=\"200\" xlink:href=\"#SimHei-32\"/>\n      <use x=\"250\" xlink:href=\"#SimHei-105\"/>\n      <use x=\"300\" xlink:href=\"#SimHei-110\"/>\n      <use x=\"350\" xlink:href=\"#SimHei-112\"/>\n      <use x=\"400\" xlink:href=\"#SimHei-117\"/>\n      <use x=\"450\" xlink:href=\"#SimHei-116\"/>\n      <use x=\"500\" xlink:href=\"#SimHei-115\"/>\n     </g>\n    </g>\n   </g>\n   <g id=\"matplotlib.axis_2\">\n    <g id=\"ytick_1\">\n     <g id=\"line2d_7\">\n      <defs>\n       <path d=\"M 0 0 \nL -3.5 0 \n\" id=\"m0c942a63f1\" style=\"stroke:#000000;stroke-width:0.8;\"/>\n      </defs>\n      <g>\n       <use style=\"stroke:#000000;stroke-width:0.8;\" x=\"36.325\" xlink:href=\"#m0c942a63f1\" y=\"208.905268\"/>\n      </g>\n     </g>\n     <g id=\"text_8\">\n      <!-- 55 -->\n      <g transform=\"translate(19.325 212.323237)scale(0.1 -0.1)\">\n       <use xlink:href=\"#SimHei-53\"/>\n       <use x=\"50\" xlink:href=\"#SimHei-53\"/>\n      </g>\n     </g>\n    </g>\n    <g id=\"ytick_2\">\n     <g id=\"line2d_8\">\n      <g>\n       <use style=\"stroke:#000000;stroke-width:0.8;\" x=\"36.325\" xlink:href=\"#m0c942a63f1\" y=\"173.606567\"/>\n      </g>\n     </g>\n     <g id=\"text_9\">\n      <!-- 60 -->\n      <defs>\n       <path d=\"M 44.53125 24.21875 \nQ 44.53125 13.28125 39.84375 7.03125 \nQ 35.15625 0.78125 25.78125 0.78125 \nQ 16.40625 0.78125 10.9375 8.59375 \nQ 5.46875 16.40625 5.46875 33.984375 \nQ 5.46875 50 11.125 59.5625 \nQ 16.796875 69.140625 27.34375 69.140625 \nQ 34.765625 69.140625 39.25 63.671875 \nQ 43.75 58.203125 43.75 51.5625 \nL 34.765625 51.5625 \nQ 34.765625 55.46875 32.609375 58.59375 \nQ 30.46875 61.71875 26.953125 61.71875 \nQ 21.09375 61.71875 17.96875 55.65625 \nQ 14.84375 49.609375 14.453125 37.109375 \nQ 17.1875 42.1875 20.3125 44.140625 \nQ 23.4375 46.09375 27.734375 46.09375 \nQ 35.15625 46.09375 39.84375 40.234375 \nQ 44.53125 34.375 44.53125 24.21875 \nz\nM 35.15625 24.21875 \nQ 35.15625 31.25 32.8125 35.15625 \nQ 30.46875 39.0625 26.171875 39.0625 \nQ 21.09375 39.0625 18.15625 35.15625 \nQ 15.234375 31.25 15.234375 25.78125 \nQ 15.234375 17.1875 18.15625 12.5 \nQ 21.09375 7.8125 26.171875 7.8125 \nQ 29.6875 7.8125 32.421875 11.328125 \nQ 35.15625 14.84375 35.15625 24.21875 \nz\n\" id=\"SimHei-54\"/>\n      </defs>\n      <g transform=\"translate(19.325 177.024535)scale(0.1 -0.1)\">\n       <use xlink:href=\"#SimHei-54\"/>\n       <use x=\"50\" xlink:href=\"#SimHei-48\"/>\n      </g>\n     </g>\n    </g>\n    <g id=\"ytick_3\">\n     <g id=\"line2d_9\">\n      <g>\n       <use style=\"stroke:#000000;stroke-width:0.8;\" x=\"36.325\" xlink:href=\"#m0c942a63f1\" y=\"138.307865\"/>\n      </g>\n     </g>\n     <g id=\"text_10\">\n      <!-- 65 -->\n      <g transform=\"translate(19.325 141.725834)scale(0.1 -0.1)\">\n       <use xlink:href=\"#SimHei-54\"/>\n       <use x=\"50\" xlink:href=\"#SimHei-53\"/>\n      </g>\n     </g>\n    </g>\n    <g id=\"ytick_4\">\n     <g id=\"line2d_10\">\n      <g>\n       <use style=\"stroke:#000000;stroke-width:0.8;\" x=\"36.325\" xlink:href=\"#m0c942a63f1\" y=\"103.009164\"/>\n      </g>\n     </g>\n     <g id=\"text_11\">\n      <!-- 70 -->\n      <defs>\n       <path d=\"M 43.359375 60.15625 \nL 25 1.5625 \nL 16.015625 1.5625 \nL 34.765625 60.9375 \nL 6.25 60.9375 \nL 6.25 68.359375 \nL 43.359375 68.359375 \nz\n\" id=\"SimHei-55\"/>\n      </defs>\n      <g transform=\"translate(19.325 106.427133)scale(0.1 -0.1)\">\n       <use xlink:href=\"#SimHei-55\"/>\n       <use x=\"50\" xlink:href=\"#SimHei-48\"/>\n      </g>\n     </g>\n    </g>\n    <g id=\"ytick_5\">\n     <g id=\"line2d_11\">\n      <g>\n       <use style=\"stroke:#000000;stroke-width:0.8;\" x=\"36.325\" xlink:href=\"#m0c942a63f1\" y=\"67.710463\"/>\n      </g>\n     </g>\n     <g id=\"text_12\">\n      <!-- 75 -->\n      <g transform=\"translate(19.325 71.128431)scale(0.1 -0.1)\">\n       <use xlink:href=\"#SimHei-55\"/>\n       <use x=\"50\" xlink:href=\"#SimHei-53\"/>\n      </g>\n     </g>\n    </g>\n    <g id=\"ytick_6\">\n     <g id=\"line2d_12\">\n      <g>\n       <use style=\"stroke:#000000;stroke-width:0.8;\" x=\"36.325\" xlink:href=\"#m0c942a63f1\" y=\"32.411761\"/>\n      </g>\n     </g>\n     <g id=\"text_13\">\n      <!-- 80 -->\n      <defs>\n       <path d=\"M 44.921875 20.703125 \nQ 44.921875 10.9375 39.453125 5.859375 \nQ 33.984375 0.78125 24.609375 0.78125 \nQ 15.234375 0.78125 9.765625 5.859375 \nQ 4.296875 10.9375 4.296875 20.703125 \nQ 4.296875 25.78125 7.421875 29.875 \nQ 10.546875 33.984375 16.015625 35.9375 \nQ 11.328125 37.890625 8.78125 41.40625 \nQ 6.25 44.921875 6.25 50.390625 \nQ 6.25 58.984375 11.71875 64.0625 \nQ 17.1875 69.140625 24.609375 69.140625 \nQ 32.03125 69.140625 37.5 64.0625 \nQ 42.96875 58.984375 42.96875 50.390625 \nQ 42.96875 44.921875 40.421875 41.40625 \nQ 37.890625 37.890625 33.203125 35.9375 \nQ 38.671875 33.984375 41.796875 29.875 \nQ 44.921875 25.78125 44.921875 20.703125 \nz\nM 34.375 50.390625 \nQ 34.375 56.640625 31.640625 59.375 \nQ 28.90625 62.109375 24.609375 62.109375 \nQ 20.3125 62.109375 17.578125 59.375 \nQ 14.84375 56.640625 14.84375 50.390625 \nQ 14.84375 44.140625 17.765625 41.59375 \nQ 20.703125 39.0625 24.609375 39.0625 \nQ 28.515625 39.0625 31.4375 41.59375 \nQ 34.375 44.140625 34.375 50.390625 \nz\nM 35.9375 20.703125 \nQ 35.9375 26.171875 33 29.296875 \nQ 30.078125 32.421875 24.609375 32.421875 \nQ 19.140625 32.421875 16.203125 29.296875 \nQ 13.28125 26.171875 13.28125 20.703125 \nQ 13.28125 14.453125 16.40625 11.125 \nQ 19.53125 7.8125 24.609375 7.8125 \nQ 29.6875 7.8125 32.8125 11.125 \nQ 35.9375 14.453125 35.9375 20.703125 \nz\n\" id=\"SimHei-56\"/>\n      </defs>\n      <g transform=\"translate(19.325 35.82973)scale(0.1 -0.1)\">\n       <use xlink:href=\"#SimHei-56\"/>\n       <use x=\"50\" xlink:href=\"#SimHei-48\"/>\n      </g>\n     </g>\n    </g>\n    <g id=\"text_14\">\n     <!-- lines covered -->\n     <defs>\n      <path d=\"M 28.90625 1.5625 \nL 21.09375 1.5625 \nL 21.09375 68.359375 \nL 28.90625 68.359375 \nz\n\" id=\"SimHei-108\"/>\n      <path d=\"M 44.921875 16.40625 \nQ 44.140625 9.375 38.671875 5.078125 \nQ 33.203125 0.78125 25.78125 0.78125 \nQ 16.40625 0.78125 10.34375 6.828125 \nQ 4.296875 12.890625 4.296875 23.4375 \nQ 4.296875 33.984375 10.34375 40.03125 \nQ 16.40625 46.09375 25.78125 46.09375 \nQ 33.984375 46.09375 39.25 40.8125 \nQ 44.53125 35.546875 44.53125 23.4375 \nL 12.890625 23.4375 \nQ 12.890625 14.84375 16.59375 11.328125 \nQ 20.3125 7.8125 25.78125 7.8125 \nQ 30.078125 7.8125 32.8125 9.953125 \nQ 35.546875 12.109375 36.328125 16.40625 \nz\nM 35.546875 29.6875 \nQ 34.765625 35.15625 32.03125 37.296875 \nQ 29.296875 39.453125 25 39.453125 \nQ 21.09375 39.453125 17.96875 37.296875 \nQ 14.84375 35.15625 13.28125 29.6875 \nz\n\" id=\"SimHei-101\"/>\n      <path d=\"M 44.921875 19.140625 \nQ 44.921875 10.9375 39.25 5.859375 \nQ 33.59375 0.78125 25 0.78125 \nQ 16.40625 0.78125 10.15625 6.828125 \nQ 3.90625 12.890625 3.90625 23.4375 \nQ 3.90625 33.984375 10.15625 40.03125 \nQ 16.40625 46.09375 25 46.09375 \nQ 33.59375 46.09375 38.671875 41.59375 \nQ 43.75 37.109375 43.75 30.859375 \nL 35.15625 30.859375 \nQ 34.765625 35.546875 31.828125 37.296875 \nQ 28.90625 39.0625 25 39.0625 \nQ 20.3125 39.0625 16.40625 35.34375 \nQ 12.5 31.640625 12.5 23.4375 \nQ 12.5 15.234375 16.40625 11.515625 \nQ 20.3125 7.8125 25 7.8125 \nQ 30.078125 7.8125 33.203125 10.546875 \nQ 36.328125 13.28125 36.328125 19.140625 \nz\n\" id=\"SimHei-99\"/>\n      <path d=\"M 45.3125 45.3125 \nL 28.90625 0.78125 \nL 20.3125 0.78125 \nL 3.90625 45.3125 \nL 12.109375 45.3125 \nL 24.21875 11.328125 \nL 25 11.328125 \nL 37.109375 45.3125 \nz\n\" id=\"SimHei-118\"/>\n      <path d=\"M 39.453125 37.5 \nQ 32.03125 38.671875 26.953125 35.34375 \nQ 21.875 32.03125 18.359375 23.828125 \nL 18.359375 1.5625 \nL 10.546875 1.5625 \nL 10.546875 45.3125 \nL 18.359375 45.3125 \nL 18.359375 33.984375 \nQ 21.875 40.234375 27.140625 43.15625 \nQ 32.421875 46.09375 39.453125 46.09375 \nz\n\" id=\"SimHei-114\"/>\n      <path d=\"M 43.359375 1.5625 \nL 35.546875 1.5625 \nL 35.546875 7.421875 \nQ 33.203125 3.90625 30.078125 2.34375 \nQ 26.953125 0.78125 22.65625 0.78125 \nQ 14.84375 0.78125 9.375 6.4375 \nQ 3.90625 12.109375 3.90625 23.4375 \nQ 3.90625 34.765625 9.375 40.625 \nQ 14.84375 46.484375 22.65625 46.484375 \nQ 26.953125 46.484375 30.078125 44.71875 \nQ 33.203125 42.96875 35.546875 39.453125 \nL 35.546875 68.359375 \nL 43.359375 68.359375 \nz\nM 35.546875 23.4375 \nQ 35.546875 30.859375 32.21875 35.15625 \nQ 28.90625 39.453125 24.21875 39.453125 \nQ 18.359375 39.453125 15.421875 35.15625 \nQ 12.5 30.859375 12.5 23.4375 \nQ 12.5 16.015625 15.421875 11.90625 \nQ 18.359375 7.8125 24.21875 7.8125 \nQ 28.90625 7.8125 32.21875 11.90625 \nQ 35.546875 16.015625 35.546875 23.4375 \nz\n\" id=\"SimHei-100\"/>\n     </defs>\n     <g transform=\"translate(14.035938 163.748125)rotate(-90)scale(0.1 -0.1)\">\n      <use xlink:href=\"#SimHei-108\"/>\n      <use x=\"50\" xlink:href=\"#SimHei-105\"/>\n      <use x=\"100\" xlink:href=\"#SimHei-110\"/>\n      <use x=\"150\" xlink:href=\"#SimHei-101\"/>\n      <use x=\"200\" xlink:href=\"#SimHei-115\"/>\n      <use x=\"250\" xlink:href=\"#SimHei-32\"/>\n      <use x=\"300\" xlink:href=\"#SimHei-99\"/>\n      <use x=\"350\" xlink:href=\"#SimHei-111\"/>\n      <use x=\"400\" xlink:href=\"#SimHei-118\"/>\n      <use x=\"450\" xlink:href=\"#SimHei-101\"/>\n      <use x=\"500\" xlink:href=\"#SimHei-114\"/>\n      <use x=\"550\" xlink:href=\"#SimHei-101\"/>\n      <use x=\"600\" xlink:href=\"#SimHei-100\"/>\n     </g>\n    </g>\n   </g>\n   <g id=\"line2d_13\">\n    <path clip-path=\"url(#pb3d86ad13d)\" d=\"M 51.543182 230.084489 \nL 57.754685 230.084489 \nL 63.966187 230.084489 \nL 70.17769 230.084489 \nL 76.389193 223.024748 \nL 82.600696 223.024748 \nL 88.812199 103.009164 \nL 95.023701 67.710463 \nL 101.235204 67.710463 \nL 107.446707 67.710463 \nL 113.65821 67.710463 \nL 119.869712 67.710463 \nL 126.081215 67.710463 \nL 132.292718 67.710463 \nL 138.504221 67.710463 \nL 144.715724 67.710463 \nL 150.927226 60.650722 \nL 157.138729 60.650722 \nL 163.350232 60.650722 \nL 169.561735 39.471502 \nL 175.773237 39.471502 \nL 181.98474 39.471502 \nL 188.196243 39.471502 \nL 194.407746 39.471502 \nL 200.619249 32.411761 \nL 206.830751 32.411761 \nL 213.042254 32.411761 \nL 219.253757 32.411761 \nL 225.46526 32.411761 \nL 231.676763 32.411761 \nL 237.888265 32.411761 \nL 244.099768 32.411761 \nL 250.311271 32.411761 \nL 256.522774 32.411761 \nL 262.734276 32.411761 \nL 268.945779 32.411761 \nL 275.157282 32.411761 \nL 281.368785 32.411761 \nL 287.580288 32.411761 \nL 293.79179 32.411761 \nL 300.003293 32.411761 \nL 306.214796 32.411761 \nL 312.426299 32.411761 \nL 318.637801 32.411761 \nL 324.849304 32.411761 \nL 331.060807 32.411761 \nL 337.27231 32.411761 \nL 343.483813 32.411761 \nL 349.695315 32.411761 \nL 355.906818 32.411761 \n\" style=\"fill:none;stroke:#1f77b4;stroke-linecap:square;stroke-width:1.5;\"/>\n   </g>\n   <g id=\"patch_3\">\n    <path d=\"M 36.325 239.968125 \nL 36.325 22.528125 \n\" style=\"fill:none;stroke:#000000;stroke-linecap:square;stroke-linejoin:miter;stroke-width:0.8;\"/>\n   </g>\n   <g id=\"patch_4\">\n    <path d=\"M 371.125 239.968125 \nL 371.125 22.528125 \n\" style=\"fill:none;stroke:#000000;stroke-linecap:square;stroke-linejoin:miter;stroke-width:0.8;\"/>\n   </g>\n   <g id=\"patch_5\">\n    <path d=\"M 36.325 239.968125 \nL 371.125 239.968125 \n\" style=\"fill:none;stroke:#000000;stroke-linecap:square;stroke-linejoin:miter;stroke-width:0.8;\"/>\n   </g>\n   <g id=\"patch_6\">\n    <path d=\"M 36.325 22.528125 \nL 371.125 22.528125 \n\" style=\"fill:none;stroke:#000000;stroke-linecap:square;stroke-linejoin:miter;stroke-width:0.8;\"/>\n   </g>\n   <g id=\"text_15\">\n    <!-- Coverage of urlparse() with random inputs -->\n    <defs>\n     <path d=\"M 46.875 28.125 \nQ 46.484375 13.28125 40.625 7.03125 \nQ 34.765625 0.78125 26.5625 0.78125 \nQ 17.1875 0.78125 10.546875 8.390625 \nQ 3.90625 16.015625 3.90625 32.8125 \nQ 3.90625 51.171875 10.34375 60.15625 \nQ 16.796875 69.140625 26.953125 69.140625 \nQ 35.546875 69.140625 41.203125 62.6875 \nQ 46.875 56.25 46.484375 44.53125 \nL 37.890625 44.53125 \nQ 37.890625 53.125 35.15625 57.421875 \nQ 32.421875 61.71875 26.953125 61.71875 \nQ 20.703125 61.71875 16.984375 55.265625 \nQ 13.28125 48.828125 13.28125 33.59375 \nQ 13.28125 19.53125 16.984375 13.859375 \nQ 20.703125 8.203125 26.5625 8.203125 \nQ 30.859375 8.203125 34.375 12.296875 \nQ 37.890625 16.40625 37.890625 28.125 \nz\n\" id=\"SimHei-67\"/>\n     <path d=\"M 45.3125 1.5625 \nL 35.9375 1.5625 \nQ 35.15625 2.34375 34.765625 3.703125 \nQ 34.375 5.078125 34.375 7.03125 \nQ 31.640625 3.90625 27.734375 2.34375 \nQ 23.828125 0.78125 19.53125 0.78125 \nQ 13.28125 0.78125 8.984375 3.90625 \nQ 4.6875 7.03125 4.6875 12.890625 \nQ 4.6875 18.75 8.59375 22.265625 \nQ 12.5 25.78125 20.703125 26.953125 \nQ 26.171875 27.734375 30.265625 28.90625 \nQ 34.375 30.078125 34.375 32.03125 \nQ 34.375 34.375 32.609375 36.71875 \nQ 30.859375 39.0625 25 39.0625 \nQ 20.3125 39.0625 18.15625 37.296875 \nQ 16.015625 35.546875 15.234375 32.421875 \nL 6.640625 32.421875 \nQ 7.421875 38.671875 12.296875 42.375 \nQ 17.1875 46.09375 25 46.09375 \nQ 33.59375 46.09375 37.890625 42.1875 \nQ 42.1875 38.28125 42.1875 31.25 \nL 42.1875 9.765625 \nQ 42.1875 7.421875 42.96875 5.46875 \nQ 43.75 3.515625 45.3125 1.5625 \nz\nM 34.375 16.015625 \nL 34.375 23.828125 \nQ 32.03125 23.046875 29.875 22.453125 \nQ 27.734375 21.875 22.65625 21.09375 \nQ 16.796875 20.3125 15.03125 18.359375 \nQ 13.28125 16.40625 13.28125 13.671875 \nQ 13.28125 11.328125 15.03125 9.5625 \nQ 16.796875 7.8125 20.3125 7.8125 \nQ 23.828125 7.8125 27.921875 9.765625 \nQ 32.03125 11.71875 34.375 16.015625 \nz\n\" id=\"SimHei-97\"/>\n     <path d=\"M 46.875 38.671875 \nQ 44.140625 39.453125 41.59375 39.640625 \nQ 39.0625 39.84375 36.328125 39.0625 \nQ 37.5 37.890625 38.28125 36.125 \nQ 39.0625 34.375 39.0625 30.859375 \nQ 39.0625 24.21875 34.5625 19.921875 \nQ 30.078125 15.625 23.4375 15.625 \nQ 21.875 15.625 19.328125 16.203125 \nQ 16.796875 16.796875 15.234375 17.578125 \nQ 14.0625 16.796875 13.671875 16.015625 \nQ 13.28125 15.234375 13.28125 14.0625 \nQ 13.28125 12.109375 16.015625 11.125 \nQ 18.75 10.15625 25.78125 10.15625 \nQ 37.109375 10.15625 41.203125 7.03125 \nQ 45.3125 3.90625 45.3125 -0.78125 \nQ 45.3125 -7.03125 39.25 -9.953125 \nQ 33.203125 -12.890625 25 -12.890625 \nQ 14.453125 -12.890625 9.375 -10.15625 \nQ 4.296875 -7.421875 4.296875 -2.734375 \nQ 4.296875 -0.390625 6.25 1.953125 \nQ 8.203125 4.296875 11.328125 5.859375 \nQ 8.984375 7.03125 7.609375 8.78125 \nQ 6.25 10.546875 6.25 13.28125 \nQ 6.25 15.625 8 17.375 \nQ 9.765625 19.140625 12.109375 20.3125 \nQ 10.15625 22.265625 8.984375 25 \nQ 7.8125 27.734375 7.8125 30.859375 \nQ 7.8125 37.5 12.296875 41.796875 \nQ 16.796875 46.09375 23.4375 46.09375 \nQ 26.953125 46.09375 29.484375 45.109375 \nQ 32.03125 44.140625 33.984375 42.1875 \nQ 37.109375 44.53125 40.234375 45.5 \nQ 43.359375 46.484375 46.875 46.09375 \nz\nM 31.25 30.859375 \nQ 31.25 34.765625 29.296875 37.109375 \nQ 27.34375 39.453125 23.4375 39.453125 \nQ 19.53125 39.453125 17.578125 37.109375 \nQ 15.625 34.765625 15.625 30.859375 \nQ 15.625 26.953125 17.578125 24.609375 \nQ 19.53125 22.265625 23.4375 22.265625 \nQ 27.34375 22.265625 29.296875 24.609375 \nQ 31.25 26.953125 31.25 30.859375 \nz\nM 37.890625 -1.5625 \nQ 37.890625 0 36.125 1.5625 \nQ 34.375 3.125 27.34375 3.125 \nQ 25.78125 3.125 23.046875 3.3125 \nQ 20.3125 3.515625 16.796875 3.90625 \nQ 13.671875 2.734375 12.5 1.171875 \nQ 11.328125 -0.390625 11.328125 -1.953125 \nQ 11.328125 -4.296875 14.453125 -5.859375 \nQ 17.578125 -7.421875 25.390625 -7.421875 \nQ 32.03125 -7.421875 34.953125 -5.65625 \nQ 37.890625 -3.90625 37.890625 -1.5625 \nz\n\" id=\"SimHei-103\"/>\n     <path d=\"M 46.875 -3.515625 \nL 42.578125 -7.8125 \nQ 32.8125 1.5625 27.921875 11.71875 \nQ 23.046875 21.875 23.046875 34.765625 \nQ 23.046875 47.65625 27.921875 57.8125 \nQ 32.8125 67.96875 42.578125 77.734375 \nL 46.875 73.4375 \nQ 37.890625 64.84375 33.390625 55.65625 \nQ 28.90625 46.484375 28.90625 34.765625 \nQ 28.90625 23.046875 33.390625 13.859375 \nQ 37.890625 4.6875 46.875 -3.515625 \nz\n\" id=\"SimHei-40\"/>\n     <path d=\"M 26.5625 34.765625 \nQ 26.5625 21.875 21.671875 11.71875 \nQ 16.796875 1.5625 7.03125 -7.8125 \nL 2.734375 -3.515625 \nQ 11.71875 4.6875 16.203125 13.859375 \nQ 20.703125 23.046875 20.703125 34.765625 \nQ 20.703125 46.484375 16.203125 55.65625 \nQ 11.71875 64.84375 2.734375 73.4375 \nL 7.03125 77.734375 \nQ 16.796875 67.96875 21.671875 57.8125 \nQ 26.5625 47.65625 26.5625 34.765625 \nz\n\" id=\"SimHei-41\"/>\n     <path d=\"M 48.4375 45.3125 \nL 38.671875 0.78125 \nL 31.25 0.78125 \nL 25 34.765625 \nL 24.21875 34.765625 \nL 17.96875 0.78125 \nL 10.546875 0.78125 \nL 0.78125 45.3125 \nL 8.984375 45.3125 \nL 14.0625 16.015625 \nL 14.84375 16.015625 \nL 20.3125 45.3125 \nL 28.90625 45.3125 \nL 34.375 16.015625 \nL 35.15625 16.015625 \nL 40.234375 45.3125 \nz\n\" id=\"SimHei-119\"/>\n     <path d=\"M 44.140625 1.5625 \nL 36.328125 1.5625 \nL 36.328125 29.6875 \nQ 36.328125 34.375 33.984375 37.109375 \nQ 31.640625 39.84375 27.734375 39.84375 \nQ 22.65625 39.84375 18.15625 34.5625 \nQ 13.671875 29.296875 13.671875 21.484375 \nL 13.671875 1.5625 \nL 5.859375 1.5625 \nL 5.859375 68.359375 \nL 13.671875 68.359375 \nL 13.671875 37.109375 \nQ 16.796875 41.40625 20.5 43.75 \nQ 24.21875 46.09375 30.078125 46.09375 \nQ 37.109375 46.09375 40.625 42.1875 \nQ 44.140625 38.28125 44.140625 32.421875 \nz\n\" id=\"SimHei-104\"/>\n     <path d=\"M 48.046875 1.5625 \nL 40.234375 1.5625 \nL 40.234375 33.203125 \nQ 40.234375 35.546875 39.453125 37.109375 \nQ 38.671875 38.671875 36.328125 38.671875 \nQ 33.59375 38.671875 31.25 35.734375 \nQ 28.90625 32.8125 28.90625 28.125 \nL 28.90625 1.5625 \nL 21.09375 1.5625 \nL 21.09375 33.203125 \nQ 21.09375 35.546875 20.3125 37.109375 \nQ 19.53125 38.671875 17.1875 38.671875 \nQ 14.453125 38.671875 12.109375 35.734375 \nQ 9.765625 32.8125 9.765625 28.125 \nL 9.765625 1.5625 \nL 1.953125 1.5625 \nL 1.953125 45.3125 \nL 9.765625 45.3125 \nL 9.765625 39.453125 \nQ 11.71875 42.578125 14.453125 44.328125 \nQ 17.1875 46.09375 20.3125 46.09375 \nQ 23.4375 46.09375 25.578125 44.328125 \nQ 27.734375 42.578125 28.515625 39.453125 \nQ 30.46875 42.578125 33 44.328125 \nQ 35.546875 46.09375 38.671875 46.09375 \nQ 43.359375 46.09375 45.703125 43.546875 \nQ 48.046875 41.015625 48.046875 36.328125 \nz\n\" id=\"SimHei-109\"/>\n    </defs>\n    <g transform=\"translate(80.725 16.528125)scale(0.12 -0.12)\">\n     <use xlink:href=\"#SimHei-67\"/>\n     <use x=\"50\" xlink:href=\"#SimHei-111\"/>\n     <use x=\"100\" xlink:href=\"#SimHei-118\"/>\n     <use x=\"150\" xlink:href=\"#SimHei-101\"/>\n     <use x=\"200\" xlink:href=\"#SimHei-114\"/>\n     <use x=\"250\" xlink:href=\"#SimHei-97\"/>\n     <use x=\"300\" xlink:href=\"#SimHei-103\"/>\n     <use x=\"350\" xlink:href=\"#SimHei-101\"/>\n     <use x=\"400\" xlink:href=\"#SimHei-32\"/>\n     <use x=\"450\" xlink:href=\"#SimHei-111\"/>\n     <use x=\"500\" xlink:href=\"#SimHei-102\"/>\n     <use x=\"550\" xlink:href=\"#SimHei-32\"/>\n     <use x=\"600\" xlink:href=\"#SimHei-117\"/>\n     <use x=\"650\" xlink:href=\"#SimHei-114\"/>\n     <use x=\"700\" xlink:href=\"#SimHei-108\"/>\n     <use x=\"750\" xlink:href=\"#SimHei-112\"/>\n     <use x=\"800\" xlink:href=\"#SimHei-97\"/>\n     <use x=\"850\" xlink:href=\"#SimHei-114\"/>\n     <use x=\"900\" xlink:href=\"#SimHei-115\"/>\n     <use x=\"950\" xlink:href=\"#SimHei-101\"/>\n     <use x=\"1000\" xlink:href=\"#SimHei-40\"/>\n     <use x=\"1050\" xlink:href=\"#SimHei-41\"/>\n     <use x=\"1100\" xlink:href=\"#SimHei-32\"/>\n     <use x=\"1150\" xlink:href=\"#SimHei-119\"/>\n     <use x=\"1200\" xlink:href=\"#SimHei-105\"/>\n     <use x=\"1250\" xlink:href=\"#SimHei-116\"/>\n     <use x=\"1300\" xlink:href=\"#SimHei-104\"/>\n     <use x=\"1350\" xlink:href=\"#SimHei-32\"/>\n     <use x=\"1400\" xlink:href=\"#SimHei-114\"/>\n     <use x=\"1450\" xlink:href=\"#SimHei-97\"/>\n     <use x=\"1500\" xlink:href=\"#SimHei-110\"/>\n     <use x=\"1550\" xlink:href=\"#SimHei-100\"/>\n     <use x=\"1600\" xlink:href=\"#SimHei-111\"/>\n     <use x=\"1650\" xlink:href=\"#SimHei-109\"/>\n     <use x=\"1700\" xlink:href=\"#SimHei-32\"/>\n     <use x=\"1750\" xlink:href=\"#SimHei-105\"/>\n     <use x=\"1800\" xlink:href=\"#SimHei-110\"/>\n     <use x=\"1850\" xlink:href=\"#SimHei-112\"/>\n     <use x=\"1900\" xlink:href=\"#SimHei-117\"/>\n     <use x=\"1950\" xlink:href=\"#SimHei-116\"/>\n     <use x=\"2000\" xlink:href=\"#SimHei-115\"/>\n    </g>\n   </g>\n  </g>\n </g>\n <defs>\n  <clipPath id=\"pb3d86ad13d\">\n   <rect height=\"217.44\" width=\"334.8\" x=\"36.325\" y=\"22.528125\"/>\n  </clipPath>\n </defs>\n</svg>\n",
      "image/png": "[encoded data removed]"
     },
     "metadata": {
      "needs_background": "light"
     }
    }
   ],
   "source": [
    "import matplotlib.pyplot as plt\n",
    "plt.plot(cumulative_coverage)\n",
    "plt.title('Coverage of urlparse() with random inputs')\n",
    "plt.xlabel('# of inputs')\n",
    "plt.ylabel('lines covered')"
   ]
  },
  {
   "cell_type": "code",
   "execution_count": null,
   "metadata": {},
   "outputs": [],
   "source": []
  }
 ]
}