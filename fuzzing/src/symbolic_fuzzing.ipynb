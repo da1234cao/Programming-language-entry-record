{
 "metadata": {
  "language_info": {
   "codemirror_mode": {
    "name": "ipython",
    "version": 3
   },
   "file_extension": ".py",
   "mimetype": "text/x-python",
   "name": "python",
   "nbconvert_exporter": "python",
   "pygments_lexer": "ipython3",
   "version": "3.6.9-final"
  },
  "orig_nbformat": 2,
  "kernelspec": {
   "name": "python3",
   "display_name": "Python 3",
   "language": "python"
  }
 },
 "nbformat": 4,
 "nbformat_minor": 2,
 "cells": [
  {
   "source": [
    "# Symbolic Fuzzing"
   ],
   "cell_type": "markdown",
   "metadata": {}
  },
  {
   "source": [
    "## 被测试程序"
   ],
   "cell_type": "markdown",
   "metadata": {}
  },
  {
   "cell_type": "code",
   "execution_count": 1,
   "metadata": {},
   "outputs": [],
   "source": [
    "def check_triangle(a: int, b: int, c: int) -> int:\n",
    "    \"\"\"判断三角形种类：等边、等腰、不等边\n",
    "    这个函数是我复制过来的；如果自己写对称着写，别写错了；\n",
    "    如果觉得绕脑子，可以将这三个值先排个序\n",
    "    \"\"\"\n",
    "    if a == b:\n",
    "        if a == c:\n",
    "            if b == c:\n",
    "                return \"Equilateral\"\n",
    "            else:\n",
    "                return \"Isosceles\"\n",
    "        else:\n",
    "            return \"Isosceles\"\n",
    "    else:\n",
    "        if b != c:\n",
    "            if a == c:\n",
    "                return \"Isosceles\"\n",
    "            else:\n",
    "                return \"Scalene\"\n",
    "        else:\n",
    "            return \"Isosceles\""
   ]
  },
  {
   "cell_type": "code",
   "execution_count": 2,
   "metadata": {},
   "outputs": [],
   "source": [
    "import inspect"
   ]
  },
  {
   "cell_type": "code",
   "execution_count": 3,
   "metadata": {},
   "outputs": [
    {
     "output_type": "stream",
     "name": "stdout",
     "text": [
      "def check_triangle(a: int, b: int, c: int) -> int:\n    \"\"\"判断三角形种类：等边、等腰、不等边\n    这个函数是我复制过来的；如果自己写对称着写，别写错了；\n    如果觉得绕脑子，可以将这三个值先排个序\n    \"\"\"\n    if a == b:\n        if a == c:\n            if b == c:\n                return \"Equilateral\"\n            else:\n                return \"Isosceles\"\n        else:\n            return \"Isosceles\"\n    else:\n        if b != c:\n            if a == c:\n                return \"Isosceles\"\n            else:\n                return \"Scalene\"\n        else:\n            return \"Isosceles\"\n\n"
     ]
    }
   ],
   "source": [
    "print(inspect.getsource(check_triangle))"
   ]
  },
  {
   "cell_type": "code",
   "execution_count": null,
   "metadata": {},
   "outputs": [],
   "source": []
  }
 ]
}