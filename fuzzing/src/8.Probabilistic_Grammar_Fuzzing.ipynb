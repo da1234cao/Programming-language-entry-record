{
 "metadata": {
  "language_info": {
   "codemirror_mode": {
    "name": "ipython",
    "version": 3
   },
   "file_extension": ".py",
   "mimetype": "text/x-python",
   "name": "python",
   "nbconvert_exporter": "python",
   "pygments_lexer": "ipython3",
   "version": "3.6.9-final"
  },
  "orig_nbformat": 2,
  "kernelspec": {
   "name": "python36964bita4a001f3bd4348e5afcf5325ab10a54a",
   "display_name": "Python 3.6.9 64-bit",
   "language": "python"
  }
 },
 "nbformat": 4,
 "nbformat_minor": 2,
 "cells": [
  {
   "source": [
    "# 概率语法的模糊测试"
   ],
   "cell_type": "markdown",
   "metadata": {}
  },
  {
   "source": [
    "来源：[Probabilistic Grammar Fuzzing](https://www.fuzzingbook.org/html/ProbabilisticGrammarFuzzer.html)\n",
    "\n",
    "我们可以赋予文法更大的能力。比如，我们给每个表达式添加概率。这允许我们控制每个表达式的扩展概率，从而可以导向的测试特定的功能。我们也可以从用例输入中，提取这样的概率，并专门针对这些样本中不常见的输入特征进行测试。"
   ],
   "cell_type": "markdown",
   "metadata": {}
  },
  {
   "source": [
    "有趣的东西：[本福特定律](https://zh.wikipedia.org/wiki/%E6%9C%AC%E7%A6%8F%E7%89%B9%E5%AE%9A%E5%BE%8B)\n",
    "> 本福特定律说明在b进位制中，以数n起头的数出现的概率\n"
   ],
   "cell_type": "markdown",
   "metadata": {}
  },
  {
   "cell_type": "code",
   "execution_count": null,
   "metadata": {},
   "outputs": [],
   "source": [
    "from fuzzingbook.fuzzingbook_utils.GrammarFuzzer import GrammarFuzzer, all_terminals, display_tree\n",
    "from fuzzingbook.fuzzingbook_utils.Grammars import is_valid_grammar, EXPR_GRAMMAR, START_SYMBOL, crange, is_nonterminal,extend_grammar\n",
    "from fuzzingbook.fuzzingbook_utils.Grammars import opts, exp_string, exp_opt, set_opts\n",
    "from fuzzingbook.fuzzingbook_utils.Parser import Parser, EarleyParser, PEGParser\n",
    "import random"
   ]
  },
  {
   "source": [
    "## 给语法指定概率\n",
    "\n",
    "给文法的表达式中添加概率：有两种情况：概率已经指定；概率没有指定，则为（100%-已经消耗的概率）/没有指定概率的表达式个数"
   ],
   "cell_type": "markdown",
   "metadata": {}
  },
  {
   "cell_type": "code",
   "execution_count": null,
   "metadata": {},
   "outputs": [],
   "source": [
    "PROBABILISTIC_EXPR_GRAMMAR = {\n",
    "    \"<start>\":\n",
    "        [\"<expr>\"],\n",
    "\n",
    "    \"<expr>\":\n",
    "        [(\"<term> + <expr>\", opts(prob=0.1)),\n",
    "         (\"<term> - <expr>\", opts(prob=0.2)),\n",
    "         \"<term>\"],\n",
    "\n",
    "    \"<term>\":\n",
    "        [(\"<factor> * <term>\", opts(prob=0.1)),\n",
    "         (\"<factor> / <term>\", opts(prob=0.1)),\n",
    "         \"<factor>\"\n",
    "         ],\n",
    "\n",
    "    \"<factor>\":\n",
    "        [\"+<factor>\", \"-<factor>\", \"(<expr>)\",\n",
    "            \"<leadinteger>\", \"<leadinteger>.<integer>\"],\n",
    "\n",
    "    \"<leadinteger>\":\n",
    "        [\"<leaddigit><integer>\", \"<leaddigit>\"],\n",
    "\n",
    "    # Benford's law: frequency distribution of leading digits\n",
    "    \"<leaddigit>\":\n",
    "        [(\"1\", opts(prob=0.301)),\n",
    "         (\"2\", opts(prob=0.176)),\n",
    "         (\"3\", opts(prob=0.125)),\n",
    "         (\"4\", opts(prob=0.097)),\n",
    "         (\"5\", opts(prob=0.079)),\n",
    "         (\"6\", opts(prob=0.067)),\n",
    "         (\"7\", opts(prob=0.058)),\n",
    "         (\"8\", opts(prob=0.051)),\n",
    "         (\"9\", opts(prob=0.046)),\n",
    "         ],\n",
    "\n",
    "    # Remaining digits are equally distributed\n",
    "    \"<integer>\":\n",
    "        [\"<digit><integer>\", \"<digit>\"],\n",
    "\n",
    "    \"<digit>\":\n",
    "        [\"0\", \"1\", \"2\", \"3\", \"4\", \"5\", \"6\", \"7\", \"8\", \"9\"],\n",
    "}"
   ]
  },
  {
   "cell_type": "code",
   "execution_count": null,
   "metadata": {},
   "outputs": [],
   "source": [
    "assert is_valid_grammar(PROBABILISTIC_EXPR_GRAMMAR, supported_opts={'prob'})"
   ]
  },
  {
   "cell_type": "code",
   "execution_count": null,
   "metadata": {},
   "outputs": [],
   "source": [
    "def exp_prob(expansion):\n",
    "    # 返回给定表达式的概率\n",
    "    return exp_opt(expansion, attribute='prob')"
   ]
  },
  {
   "cell_type": "code",
   "execution_count": null,
   "metadata": {},
   "outputs": [],
   "source": [
    "def set_prob(grammar, symbol, expansion, prob):\n",
    "    # 给指定的expansion指定概率\n",
    "    set_opts(grammar, symbol, expansion, opts(prob=prob))"
   ]
  },
  {
   "cell_type": "code",
   "execution_count": null,
   "metadata": {},
   "outputs": [],
   "source": [
    "exp_prob(PROBABILISTIC_EXPR_GRAMMAR[\"<leaddigit>\"][0])"
   ]
  },
  {
   "source": [
    "## 计算概率\n",
    "获取给定文法规则的概率。检查一致性。"
   ],
   "cell_type": "markdown",
   "metadata": {}
  },
  {
   "cell_type": "code",
   "execution_count": null,
   "metadata": {},
   "outputs": [],
   "source": [
    "def exp_probabilities(expansions, nonterminal=\"<symbol>\"):\n",
    "    # 检查概率和是否为1；\n",
    "    # 将expansion和概率，建立映射。\n",
    "    probabilities = [exp_prob(expansion) for expansion in expansions]\n",
    "    prob_dist = prob_distribution(probabilities, nonterminal)\n",
    "\n",
    "    prob_mapping = {}\n",
    "    for i in range(len(expansions)):\n",
    "        expansion = exp_string(expansions[i])\n",
    "        prob_mapping[expansion] = prob_dist[i]\n",
    "\n",
    "    return prob_mapping\n",
    "\n",
    "\n",
    "def prob_distribution(probabilities, nonterminal=\"<symbol>\"):\n",
    "    # 检查概率和是否为1。对于缺省的概率，计算出来。\n",
    "    # 返回expansions的概率。\n",
    "    epsilon = 0.00001\n",
    "\n",
    "    number_of_unspecified_probabilities = probabilities.count(None)\n",
    "    if number_of_unspecified_probabilities == 0:\n",
    "        assert abs(sum(probabilities) - 1.0) < epsilon, \\\n",
    "            nonterminal + \": sum of probabilities must be 1.0\"\n",
    "        return probabilities\n",
    "\n",
    "    sum_of_specified_probabilities = 0.0\n",
    "    for p in probabilities:\n",
    "        if p is not None:\n",
    "            sum_of_specified_probabilities += p\n",
    "    assert 0 <= sum_of_specified_probabilities <= 1.0, \\\n",
    "        nonterminal + \": sum of specified probabilities must be between 0.0 and 1.0\"\n",
    "\n",
    "    default_probability = ((1.0 - sum_of_specified_probabilities)\n",
    "                           / number_of_unspecified_probabilities)\n",
    "    all_probabilities = []\n",
    "    for p in probabilities:\n",
    "        if p is None:\n",
    "            p = default_probability\n",
    "        all_probabilities.append(p)\n",
    "\n",
    "    assert abs(sum(all_probabilities) - 1.0) < epsilon\n",
    "    return all_probabilities\n",
    "\n",
    "\n",
    "def is_valid_probabilistic_grammar(grammar, start_symbol=START_SYMBOL):\n",
    "    # 检查文法的合法性：文法的合法性+概率的一致性\n",
    "    if not is_valid_grammar(grammar, start_symbol):\n",
    "        return False\n",
    "\n",
    "    for nonterminal in grammar:\n",
    "        expansions = grammar[nonterminal]\n",
    "        _ = exp_probabilities(expansions, nonterminal)\n",
    "\n",
    "    return True"
   ]
  },
  {
   "source": [
    "## 在节点扩展选择中考虑概率因素\n",
    "\n",
    "GrammarFuzzer中，在树结构中，随机选择一个叶子节点进行扩展。\n",
    "\n",
    "扩展初期，使用最大代价的expansion进行扩展；我们从最大代价相同的expansion的list中，使用概率作为随机选择的权重，进行随机选择。\n",
    "\n",
    "扩展中期，使用随机的expansion进行扩展；我们从中，选择使用概率作为随机选择的权重，进行随机选择。\n",
    "\n",
    "扩展后期，使用最小代价的expansion进行扩展；我们从最小代价相同的expansion的list中，使用概率作为随机选择的权重，进行随机选择。"
   ],
   "cell_type": "markdown",
   "metadata": {}
  },
  {
   "cell_type": "code",
   "execution_count": null,
   "metadata": {},
   "outputs": [],
   "source": [
    "class ProbabilisticGrammarFuzzer(GrammarFuzzer):\n",
    "    def check_grammar(self):\n",
    "        super().check_grammar()\n",
    "        assert is_valid_probabilistic_grammar(self.grammar)\n",
    "\n",
    "    def supported_opts(self):\n",
    "        return super().supported_opts() | {'prob'}\n",
    "    \n",
    "    def choose_node_expansion(self, node, possible_children):\n",
    "        (symbol, tree) = node\n",
    "        expansions = self.grammar[symbol]\n",
    "        probabilities = exp_probabilities(expansions)\n",
    "\n",
    "        weights = []\n",
    "        for child in possible_children:\n",
    "            expansion = all_terminals((node, child)) # 这里挺好。将树结构存储的孩子节点，变回文法中的字符串结构。\n",
    "            child_weight = probabilities[expansion]\n",
    "            if self.log:\n",
    "                print(repr(expansion), \"p =\", child_weight)\n",
    "            weights.append(child_weight)\n",
    "\n",
    "        if sum(weights) == 0:\n",
    "            # No alternative (probably expanding at minimum cost)\n",
    "            weights = None\n",
    "\n",
    "        return random.choices(\n",
    "            range(len(possible_children)), weights=weights)[0]"
   ]
  },
  {
   "cell_type": "code",
   "execution_count": null,
   "metadata": {
    "tags": []
   },
   "outputs": [],
   "source": [
    "leaddigit_fuzzer = ProbabilisticGrammarFuzzer(\n",
    "    PROBABILISTIC_EXPR_GRAMMAR, start_symbol=\"<leaddigit>\")\n",
    "trials = 10000\n",
    "\n",
    "count = {}\n",
    "for c in crange('0', '9'):\n",
    "    count[c] = 0\n",
    "\n",
    "for i in range(trials):\n",
    "    count[leaddigit_fuzzer.fuzz()] += 1\n",
    "\n",
    "print([(digit, count[digit] / trials) for digit in count])"
   ]
  },
  {
   "source": [
    "## 从用例中学习概率\n",
    "\n",
    "从输入用例中，计算每个expansion出现的概率。（这里的expansion包含两种：语法中直接出现的expansion；经过推到生长的分析树的叶子节点串成的字符串）"
   ],
   "cell_type": "markdown",
   "metadata": {}
  },
  {
   "cell_type": "code",
   "execution_count": null,
   "metadata": {},
   "outputs": [],
   "source": [
    "def expansion_key(symbol, expansion):\n",
    "    \"\"\"Convert (symbol, expansion) into a key.  `expansion` can be an expansion string or a derivation tree.\"\"\"\n",
    "    if isinstance(expansion, tuple):\n",
    "        expansion = expansion[0]\n",
    "    if not isinstance(expansion, str):\n",
    "        children = expansion\n",
    "        expansion = all_terminals((symbol, children))\n",
    "    return symbol + \" -> \" + expansion"
   ]
  },
  {
   "cell_type": "code",
   "execution_count": null,
   "metadata": {},
   "outputs": [],
   "source": [
    "class ExpansionCountMiner(object):\n",
    "    def __init__(self, parser, log=False):\n",
    "        assert isinstance(parser, Parser)\n",
    "        self.grammar = extend_grammar(parser.grammar())\n",
    "        self.parser = parser\n",
    "        self.log = log\n",
    "        self.reset()\n",
    "\n",
    "    def reset(self):\n",
    "        self.expansion_counts = {}\n",
    "\n",
    "    def add_coverage(self, symbol, children):\n",
    "        key = expansion_key(symbol, children)\n",
    "\n",
    "        if self.log:\n",
    "            print(\"Found\", key)\n",
    "\n",
    "        if key not in self.expansion_counts:\n",
    "            self.expansion_counts[key] = 0\n",
    "        self.expansion_counts[key] += 1\n",
    "\n",
    "\n",
    "    def add_tree(self, tree):\n",
    "        (symbol, children) = tree\n",
    "        if not is_nonterminal(symbol):\n",
    "            return\n",
    "\n",
    "        direct_children = [\n",
    "            (symbol, None) if is_nonterminal(symbol) else (\n",
    "                symbol, []) for symbol, c in children]\n",
    "        self.add_coverage(symbol, direct_children)\n",
    "\n",
    "        for c in children:\n",
    "            self.add_tree(c)\n",
    "\n",
    "    def count_expansions(self, inputs):\n",
    "        for inp in inputs:\n",
    "            tree, *_ = self.parser.parse(inp)\n",
    "            self.add_tree(tree)\n",
    "\n",
    "    def counts(self):\n",
    "        return self.expansion_counts"
   ]
  },
  {
   "cell_type": "code",
   "execution_count": null,
   "metadata": {},
   "outputs": [],
   "source": [
    "def decrange(start, end):\n",
    "    \"\"\"Return a list with string representations of numbers in the range [start, end)\"\"\"\n",
    "    return [repr(n) for n in range(start, end)]\n",
    "\n",
    "IP_ADDRESS_GRAMMAR = {\n",
    "    \"<start>\": [\"<address>\"],\n",
    "    \"<address>\": [\"<octet>.<octet>.<octet>.<octet>\"],\n",
    "    # [\"0\", \"1\", \"2\", ..., \"255\"]\n",
    "    \"<octet>\": decrange(0, 256)\n",
    "}\n",
    "\n",
    "expansion_count_miner = ExpansionCountMiner(EarleyParser(IP_ADDRESS_GRAMMAR))"
   ]
  },
  {
   "cell_type": "code",
   "execution_count": null,
   "metadata": {},
   "outputs": [],
   "source": [
    "inputs = [\"127.0.0.1\", \"1.2.3.4\"]\n",
    "expansion_count_miner.count_expansions(inputs)\n",
    "expansion_count_miner.counts()"
   ]
  },
  {
   "source": [
    "## 将学习出来的概率赋值到文法中"
   ],
   "cell_type": "markdown",
   "metadata": {}
  },
  {
   "cell_type": "code",
   "execution_count": null,
   "metadata": {},
   "outputs": [],
   "source": [
    "class ProbabilisticGrammarMiner(ExpansionCountMiner):\n",
    "    def set_probabilities(self, counts):\n",
    "        for symbol in self.grammar:\n",
    "            self.set_expansion_probabilities(symbol, counts)\n",
    "\n",
    "    def set_expansion_probabilities(self, symbol, counts):\n",
    "        expansions = self.grammar[symbol]\n",
    "        if len(expansions) == 1:\n",
    "            set_prob(self.grammar, symbol, expansions[0], None)\n",
    "            return\n",
    "\n",
    "        expansion_counts = [\n",
    "            counts.get(\n",
    "                expansion_key(\n",
    "                    symbol,\n",
    "                    expansion),\n",
    "                0) for expansion in expansions]\n",
    "        total = sum(expansion_counts)\n",
    "        for i, expansion in enumerate(expansions):\n",
    "            p = expansion_counts[i] / total if total > 0 else None\n",
    "            # if self.log:\n",
    "            #     print(\"Setting\", expansion_key(symbol, expansion), p)\n",
    "            set_prob(self.grammar, symbol, expansion, p)\n",
    "\n",
    "    def mine_probabilistic_grammar(self, inputs):\n",
    "        self.count_expansions(inputs)\n",
    "        self.set_probabilities(self.counts())\n",
    "        return self.grammar"
   ]
  },
  {
   "cell_type": "code",
   "execution_count": null,
   "metadata": {},
   "outputs": [],
   "source": [
    "probabilistic_grammar_miner = ProbabilisticGrammarMiner(\n",
    "    EarleyParser(IP_ADDRESS_GRAMMAR))\n",
    "inputs=[\"127.0.0.1\", \"1.2.3.4\"]\n",
    "probabilistic_ip_address_grammar = probabilistic_grammar_miner.mine_probabilistic_grammar(inputs)\n",
    "assert is_valid_probabilistic_grammar(probabilistic_ip_address_grammar)\n",
    "\n",
    "# 通过学习一个样本，我们可以根据这个样本的(语法)属性调整模糊。\n",
    "probabilistic_ip_fuzzer = ProbabilisticGrammarFuzzer(\n",
    "    probabilistic_ip_address_grammar)\n",
    "[probabilistic_ip_fuzzer.fuzz() for i in range(10)]"
   ]
  },
  {
   "source": [
    "现在让我们来看看我们的三个使用场景。\n",
    "\n",
    "第一个场景是直接从样本中创建概率分布，并在测试生成过程中使用这些分布。这有助于将测试生成集中在那些最常用的特性上，从而将客户遇到失败的风险降到最低。\n",
    "\n",
    "第二个场景，我们也可以测试不常见的特性。也就是说，在我们的使用示例中很少出现的特性。这是安全测试中常见的场景，其中关注的是不常见的(可能是不太知名的)特性，因为更少的用户意味着报告的bug更少，因此有更多的bug有待发现和利用。\n",
    "\n",
    "第三个场景，我们也可以从输入的子集中学习集中于该子集中出现的特性(或者相反地，避免其特性)。例如，如果我们知道，有一些包含感兴趣的功能的输入子集(例如，因为它特别重要，或者因为它最近被更改了)。我们可以从这个子集中学习，并将测试生成集中在它的特性上。"
   ],
   "cell_type": "markdown",
   "metadata": {}
  }
 ]
}