{
 "metadata": {
  "language_info": {
   "codemirror_mode": {
    "name": "ipython",
    "version": 3
   },
   "file_extension": ".py",
   "mimetype": "text/x-python",
   "name": "python",
   "nbconvert_exporter": "python",
   "pygments_lexer": "ipython3",
   "version": "3.6.9-final"
  },
  "orig_nbformat": 2,
  "kernelspec": {
   "name": "python3",
   "display_name": "Python 3",
   "language": "python"
  }
 },
 "nbformat": 4,
 "nbformat_minor": 2,
 "cells": [
  {
   "source": [
    "# 使用文法的模糊测试"
   ],
   "cell_type": "markdown",
   "metadata": {}
  },
  {
   "source": [
    "程序的有效输入集合称为语言。语言的范围从简单到复杂。\n",
    "\n",
    "之前，我们随机输入的字符串，很容易用正则表达式，来生成。\n",
    "\n",
    "为了形式化的描述语言，这里我们使用文法。\n",
    "\n",
    "通过文法，生成语句言，作为模糊测试的输入。\n"
   ],
   "cell_type": "markdown",
   "metadata": {}
  },
  {
   "source": [
    "## python 展示文法\n",
    "存储结构：map(string,list)"
   ],
   "cell_type": "markdown",
   "metadata": {}
  },
  {
   "cell_type": "code",
   "execution_count": null,
   "metadata": {},
   "outputs": [],
   "source": [
    "# 看懂没啥问题，自己估计的花费一些时间\n",
    "# 用语语法树的结构来看\n",
    "EXPR_GRAMMAR = {\n",
    "    \"<start>\":\n",
    "        [\"<expr>\"],\n",
    "\n",
    "    \"<expr>\":\n",
    "        [\"<term> + <expr>\", \"<term> - <expr>\", \"<term>\"],\n",
    "\n",
    "    \"<term>\":\n",
    "        [\"<factor> * <term>\", \"<factor> / <term>\", \"<factor>\"],\n",
    "\n",
    "    \"<factor>\":\n",
    "        [\"+<factor>\",\n",
    "         \"-<factor>\",\n",
    "         \"(<expr>)\",\n",
    "         \"<integer>.<integer>\",\n",
    "         \"<integer>\"],\n",
    "\n",
    "    \"<integer>\":\n",
    "        [\"<digit><integer>\", \"<digit>\"],\n",
    "\n",
    "    \"<digit>\":\n",
    "        [\"0\", \"1\", \"2\", \"3\", \"4\", \"5\", \"6\", \"7\", \"8\", \"9\"]\n",
    "}\n"
   ]
  },
  {
   "cell_type": "code",
   "execution_count": null,
   "metadata": {},
   "outputs": [],
   "source": [
    "import re"
   ]
  },
  {
   "cell_type": "code",
   "execution_count": null,
   "metadata": {},
   "outputs": [],
   "source": [
    "RE_NONTERMINAL = re.compile(r'(<[^<> ]*>)')"
   ]
  },
  {
   "source": [
    "匹配<some_sym>，其中some_sym不可以是'<> '这三者之一。\n",
    "\n",
    "在带有 'r' 前缀的字符串字面值中，反斜杠不必做任何特殊处理。 因此 r\"\\n\" 表示包含 '\\' 和 'n' 两个字符的字符串，而 \"\\n\" 则表示只包含一个换行符的字符串。\n",
    "\n",
    "（组合），匹配括号内的任意正则表达式，并标识出组合的开始和结尾。\n",
    "\n",
    "re.compile(pattern, flags=0)，将正则表达式的样式编译为一个 正则表达式对象 （正则对象），可以用于匹配"
   ],
   "cell_type": "markdown",
   "metadata": {}
  },
  {
   "cell_type": "code",
   "execution_count": null,
   "metadata": {},
   "outputs": [],
   "source": [
    "def nonterminals(expansion):\n",
    "    \"\"\"返回表达式中第一个元素中的所有非终结符号\"\"\"\n",
    "    if isinstance(expansion,tuple):\n",
    "        expansion = expansion[0]\n",
    "    return re.findall(RE_NONTERMINAL,expansion)"
   ]
  },
  {
   "cell_type": "code",
   "execution_count": null,
   "metadata": {},
   "outputs": [],
   "source": [
    "def is_nonterminal(s):\n",
    "    \"\"\"判断一个符号是否为非终结符\"\"\"\n",
    "    return re.match(RE_NONTERMINAL, s)"
   ]
  },
  {
   "source": [
    "这里存在一个问题：文法的构造过程中，我们将“<>”用以限定非终结符。如果输入中真真包含'<'、'>',可能会导致误判。（BNF 为自身使用了符号 (<, >, |, ::=)。当它们出现在要定义的语言中的时候，BNF 不得不加以修改或解释的使用）"
   ],
   "cell_type": "markdown",
   "metadata": {}
  },
  {
   "source": [
    "## 一个简单的文法模糊测试输入生成"
   ],
   "cell_type": "markdown",
   "metadata": {}
  },
  {
   "cell_type": "code",
   "execution_count": null,
   "metadata": {},
   "outputs": [],
   "source": [
    "import random"
   ]
  },
  {
   "cell_type": "code",
   "execution_count": null,
   "metadata": {},
   "outputs": [],
   "source": [
    "def simple_grammar_fuzzer(grammar, start_symbol=\"<start>\",\n",
    "                          max_nonterminals=10, max_expansion_trials=100,\n",
    "                          log=False):\n",
    "    \"\"\"简单的文法生成输入\"\"\"\n",
    "    term = start_symbol\n",
    "    expansion_trials = 0\n",
    "\n",
    "    while len(nonterminals(term)) > 0 :\n",
    "        symbol_to_expand = random.choice(nonterminals(term))\n",
    "        expansions = grammar[symbol_to_expand]\n",
    "        expansion = random.choice(expansions)\n",
    "        new_term = term.replace(symbol_to_expand,expansion,1)\n",
    "\n",
    "        if len(nonterminals(new_term)) < max_nonterminals :\n",
    "            term = new_term\n",
    "            if log :\n",
    "                print(\"%-40s\" % (symbol_to_expand + \" -> \" + expansion), term)\n",
    "            expansion_trials = 0\n",
    "        else :\n",
    "            expansion_trials += 1\n",
    "            if expansion_trials >= max_expansion_trials:\n",
    "                raise ExpansionError(\"Cannot expand \" + repr(term))\n",
    "    \n",
    "    return term"
   ]
  },
  {
   "cell_type": "code",
   "execution_count": null,
   "metadata": {},
   "outputs": [],
   "source": [
    "simple_grammar_fuzzer(grammar=EXPR_GRAMMAR, max_nonterminals=3, log=True)"
   ]
  },
  {
   "source": [
    "## A Grammar Toolbox"
   ],
   "cell_type": "markdown",
   "metadata": {}
  },
  {
   "source": [
    "extend_grammar，可以整体修改文法。\n",
    "\n",
    "srange(string.ascii_letters)，可以避免终极符中一个一个敲字符"
   ],
   "cell_type": "markdown",
   "metadata": {}
  },
  {
   "cell_type": "code",
   "execution_count": null,
   "metadata": {},
   "outputs": [],
   "source": [
    "import copy\n",
    "import string"
   ]
  },
  {
   "cell_type": "code",
   "execution_count": null,
   "metadata": {},
   "outputs": [],
   "source": [
    "def extend_grammar(grammar, extension={}):\n",
    "    \"\"\"直接对现有语法进行扩展\"\"\"\n",
    "    new_grammar = copy.deepcopy(grammar)\n",
    "    new_grammar.update(extension)\n",
    "    return new_grammar"
   ]
  },
  {
   "cell_type": "code",
   "execution_count": null,
   "metadata": {},
   "outputs": [],
   "source": [
    "def srange(characters):\n",
    "    \"\"\"将一个str内容，拆分成char 的list\"\"\"\n",
    "    return [c for c in characters]"
   ]
  },
  {
   "cell_type": "code",
   "execution_count": null,
   "metadata": {},
   "outputs": [],
   "source": [
    "def crange(character_start, character_end):\n",
    "    return [chr(i)\n",
    "            for i in range(ord(character_start), ord(character_end) + 1)]"
   ]
  },
  {
   "cell_type": "code",
   "execution_count": null,
   "metadata": {},
   "outputs": [],
   "source": [
    "# 这里使用了EBNF，但是，仍在使用\"<>\",恰当吗？\n",
    "# 比较 EBNF 和 BNF：https://en.wikipedia.org/wiki/Extended_Backus%E2%80%93Naur_form\n",
    "# 可是如果不用字符串，非终结符如何标记呢？？\n",
    "EXPR_EBNF_GRAMMAR = {\n",
    "    \"<start>\":\n",
    "        [\"<expr>\"],\n",
    "\n",
    "    \"<expr>\":\n",
    "        [\"<term> + <expr>\", \"<term> - <expr>\", \"<term>\"],\n",
    "\n",
    "    \"<term>\":\n",
    "        [\"<factor> * <term>\", \"<factor> / <term>\", \"<factor>\"],\n",
    "\n",
    "    \"<factor>\":\n",
    "        [\"<sign>?<factor>\", \"(<expr>)\", \"<integer>(.<integer>)?\"],\n",
    "\n",
    "    \"<sign>\":\n",
    "        [\"+\", \"-\"],\n",
    "\n",
    "    \"<integer>\":\n",
    "        [\"<digit>+\"],\n",
    "\n",
    "    \"<digit>\":\n",
    "        srange(string.digits)\n",
    "}"
   ]
  },
  {
   "cell_type": "code",
   "execution_count": null,
   "metadata": {},
   "outputs": [],
   "source": [
    "def new_symbol(grammar, symbol_name=\"<symbol>\"):\n",
    "    \"\"\"Return a new symbol for `grammar` based on `symbol_name`\"\"\"\n",
    "    if symbol_name not in grammar:\n",
    "        return symbol_name\n",
    "\n",
    "    count = 1\n",
    "    while True:\n",
    "        tentative_symbol_name = symbol_name[:-1] + \"-\" + repr(count) + \">\"\n",
    "        if tentative_symbol_name not in grammar:\n",
    "            return tentative_symbol_name\n",
    "        count += 1"
   ]
  },
  {
   "cell_type": "code",
   "execution_count": null,
   "metadata": {},
   "outputs": [],
   "source": [
    "RE_PARENTHESIZED_EXPR = re.compile(r'\\([^()]*\\)[?+*]')\n",
    "def parenthesized_expressions(expansion):\n",
    "    # In later chapters, we allow expansions to be tuples,\n",
    "    # with the expansion being the first element\n",
    "    if isinstance(expansion, tuple):\n",
    "        expansion = expansion[0]\n",
    "\n",
    "    return re.findall(RE_PARENTHESIZED_EXPR, expansion)"
   ]
  },
  {
   "cell_type": "code",
   "execution_count": null,
   "metadata": {},
   "outputs": [],
   "source": [
    "def convert_ebnf_parentheses(ebnf_grammar):\n",
    "    \"\"\"Convert a grammar in extended BNF to BNF\"\"\"\n",
    "    grammar = extend_grammar(ebnf_grammar)\n",
    "    for nonterminal in ebnf_grammar:\n",
    "        expansions = ebnf_grammar[nonterminal]\n",
    "\n",
    "        for i in range(len(expansions)):\n",
    "            expansion = expansions[i]\n",
    "\n",
    "            while True:\n",
    "                parenthesized_exprs = parenthesized_expressions(expansion)\n",
    "                if len(parenthesized_exprs) == 0:\n",
    "                    break\n",
    "\n",
    "                for expr in parenthesized_exprs:\n",
    "                    operator = expr[-1:]\n",
    "                    contents = expr[1:-2]\n",
    "\n",
    "                    new_sym = new_symbol(grammar)\n",
    "                    expansion = grammar[nonterminal][i].replace(\n",
    "                        expr, new_sym + operator, 1)\n",
    "                    grammar[nonterminal][i] = expansion\n",
    "                    grammar[new_sym] = [contents]\n",
    "\n",
    "    return grammar"
   ]
  },
  {
   "cell_type": "code",
   "execution_count": null,
   "metadata": {},
   "outputs": [],
   "source": [
    "RE_EXTENDED_NONTERMINAL = re.compile(r'(<[^<> ]*>[?+*])')\n",
    "def extended_nonterminals(expansion):\n",
    "    # In later chapters, we allow expansions to be tuples,\n",
    "    # with the expansion being the first element\n",
    "    if isinstance(expansion, tuple):\n",
    "        expansion = expansion[0]\n",
    "\n",
    "    return re.findall(RE_EXTENDED_NONTERMINAL, expansion)"
   ]
  },
  {
   "cell_type": "code",
   "execution_count": null,
   "metadata": {},
   "outputs": [],
   "source": [
    "def convert_ebnf_operators(ebnf_grammar):\n",
    "    \"\"\"Convert a grammar in extended BNF to BNF\"\"\"\n",
    "    grammar = extend_grammar(ebnf_grammar)\n",
    "    for nonterminal in ebnf_grammar:\n",
    "        expansions = ebnf_grammar[nonterminal]\n",
    "\n",
    "        for i in range(len(expansions)):\n",
    "            expansion = expansions[i]\n",
    "            extended_symbols = extended_nonterminals(expansion)\n",
    "\n",
    "            for extended_symbol in extended_symbols:\n",
    "                operator = extended_symbol[-1:]\n",
    "                original_symbol = extended_symbol[:-1]\n",
    "\n",
    "                new_sym = new_symbol(grammar, original_symbol)\n",
    "                grammar[nonterminal][i] = grammar[nonterminal][i].replace(\n",
    "                    extended_symbol, new_sym, 1)\n",
    "\n",
    "                if operator == '?':\n",
    "                    grammar[new_sym] = [\"\", original_symbol]\n",
    "                elif operator == '*':\n",
    "                    grammar[new_sym] = [\"\", original_symbol + new_sym]\n",
    "                elif operator == '+':\n",
    "                    grammar[new_sym] = [\n",
    "                        original_symbol, original_symbol + new_sym]\n",
    "\n",
    "    return grammar"
   ]
  },
  {
   "cell_type": "code",
   "execution_count": null,
   "metadata": {},
   "outputs": [],
   "source": [
    "def convert_ebnf_grammar(ebnf_grammar):\n",
    "    return convert_ebnf_operators(convert_ebnf_parentheses(ebnf_grammar))"
   ]
  },
  {
   "source": [
    "fuzzing book中的代码确实很好。思路清晰：将EBNF转换成BNF。先去括号，在去操作符。"
   ],
   "cell_type": "markdown",
   "metadata": {}
  },
  {
   "source": [
    "下面给出的是，为了拓展方便，可以给每个expansion加上opt"
   ],
   "cell_type": "markdown",
   "metadata": {}
  },
  {
   "cell_type": "code",
   "execution_count": null,
   "metadata": {},
   "outputs": [],
   "source": [
    "def opts(**kwargs):\n",
    "    return kwargs\n",
    "\n",
    "def exp_string(expansion):\n",
    "    \"\"\"Return the string to be expanded\"\"\"\n",
    "    if isinstance(expansion, str):\n",
    "        return expansion\n",
    "    return expansion[0]\n",
    "\n",
    "\n",
    "def exp_opts(expansion):\n",
    "    \"\"\"Return the options of an expansion.  If options are not defined, return {}\"\"\"\n",
    "    if isinstance(expansion, str):\n",
    "        return {}\n",
    "    return expansion[1]\n",
    "\n",
    "def exp_opt(expansion, attribute):\n",
    "    \"\"\"Return the given attribution of an expansion.\n",
    "    If attribute is not defined, return None\"\"\"\n",
    "    return exp_opts(expansion).get(attribute, None)\n",
    "\n",
    "def set_opts(grammar, symbol, expansion, opts=None):\n",
    "    \"\"\"Set the options of the given expansion of grammar[symbol] to opts\"\"\"\n",
    "    expansions = grammar[symbol]\n",
    "    for i, exp in enumerate(expansions):\n",
    "        if exp_string(exp) != exp_string(expansion):\n",
    "            continue\n",
    "\n",
    "        new_opts = exp_opts(exp)\n",
    "        if opts is None or new_opts == {}:\n",
    "            new_opts = opts\n",
    "        else:\n",
    "            for key in opts:\n",
    "                new_opts[key] = opts[key]\n",
    "        if new_opts == {}:\n",
    "            grammar[symbol][i] = exp_string(exp)\n",
    "        else:\n",
    "            grammar[symbol][i] = (exp_string(exp), new_opts)\n",
    "        return\n",
    "\n",
    "    raise KeyError(\n",
    "        \"no expansion \" +\n",
    "        repr(symbol) +\n",
    "        \" -> \" +\n",
    "        repr(\n",
    "            exp_string(expansion)))"
   ]
  },
  {
   "source": [
    "检查文法的合法性，比如文法的开始符号不能出现在规则的右部；每个终结符都能推导出非终结符等"
   ],
   "cell_type": "markdown",
   "metadata": {}
  },
  {
   "cell_type": "code",
   "execution_count": null,
   "metadata": {},
   "outputs": [],
   "source": [
    "START_SYMBOL=\"<start>\" # 这样比直接写在函数里面好些\n",
    "def def_used_nonterminals(grammar, start_symbol=START_SYMBOL):\n",
    "    \"\"\"\n",
    "    这个函数的核心是：除了<start>,其他非终结符出现在expansion中，至少一次，为used_nonterminals；\n",
    "    顺带检查了下expansion的合法性：没有空规则，没有特殊规则\n",
    "    \"\"\"\n",
    "    defined_nonterminals = set()\n",
    "    used_nonterminals = {start_symbol}\n",
    "\n",
    "    for defined_nonterminal in grammar:\n",
    "        defined_nonterminals.add(defined_nonterminal)\n",
    "        expansions = grammar[defined_nonterminal]\n",
    "        if not isinstance(expansions, list):\n",
    "            print(repr(defined_nonterminal) + \": expansion is not a list\",\n",
    "                  file=sys.stderr)\n",
    "            return None, None\n",
    "\n",
    "        if len(expansions) == 0:\n",
    "            print(repr(defined_nonterminal) + \": expansion list empty\",\n",
    "                  file=sys.stderr)\n",
    "            return None, None\n",
    "\n",
    "        for expansion in expansions:\n",
    "            if isinstance(expansion, tuple):\n",
    "                expansion = expansion[0]\n",
    "            if not isinstance(expansion, str):\n",
    "                print(repr(defined_nonterminal) + \": \"\n",
    "                      + repr(expansion) + \": not a string\",\n",
    "                      file=sys.stderr)\n",
    "                return None, None\n",
    "\n",
    "            for used_nonterminal in nonterminals(expansion):\n",
    "                used_nonterminals.add(used_nonterminal)\n",
    "\n",
    "    return defined_nonterminals, used_nonterminals\n",
    "\n",
    "\n",
    "\n",
    "def reachable_nonterminals(grammar, start_symbol=START_SYMBOL):\n",
    "    \"\"\"\n",
    "    从开始符号，可以到达的非终结符\n",
    "    即，每个非终结符都能出现在某个句型中\n",
    "    \"\"\"\n",
    "    reachable = set()\n",
    "\n",
    "    def _find_reachable_nonterminals(grammar, symbol):\n",
    "        nonlocal reachable\n",
    "        reachable.add(symbol)\n",
    "        for expansion in grammar.get(symbol, []):\n",
    "            for nonterminal in nonterminals(expansion):\n",
    "                if nonterminal not in reachable:\n",
    "                    _find_reachable_nonterminals(grammar, nonterminal)\n",
    "\n",
    "    _find_reachable_nonterminals(grammar, start_symbol)\n",
    "    return reachable\n",
    "\n",
    "###在expansion表示被使用了，但是不一定可达；可以到达,则一定被使用了；###\n",
    "###所以可达，必然可以使用。###\n",
    "###因为，有的非终结符，使用了，但没有定义，虽然可达。。###\n",
    "#所以，这两个条件都要检查#\n",
    "\n",
    "def unreachable_nonterminals(grammar, start_symbol=START_SYMBOL):\n",
    "    return grammar.keys() - reachable_nonterminals(grammar, start_symbol)\n",
    "\n",
    "def opts_used(grammar):\n",
    "    used_opts = set()\n",
    "    for symbol in grammar:\n",
    "        for expansion in grammar[symbol]:\n",
    "            used_opts |= set(exp_opts(expansion).keys())\n",
    "    return used_opts\n",
    "\n",
    "\n",
    "\n",
    "def is_valid_grammar(grammar, start_symbol=START_SYMBOL, supported_opts=None):\n",
    "    defined_nonterminals, used_nonterminals = \\\n",
    "        def_used_nonterminals(grammar, start_symbol)\n",
    "    if defined_nonterminals is None or used_nonterminals is None:\n",
    "        return False\n",
    "\n",
    "    # Do not complain about '<start>' being not used,\n",
    "    # even if start_symbol is different\n",
    "    if START_SYMBOL in grammar:\n",
    "        used_nonterminals.add(START_SYMBOL)\n",
    "\n",
    "    for unused_nonterminal in defined_nonterminals - used_nonterminals:\n",
    "        print(repr(unused_nonterminal) + \": defined, but not used\",\n",
    "              file=sys.stderr)\n",
    "    for undefined_nonterminal in used_nonterminals - defined_nonterminals:\n",
    "        print(repr(undefined_nonterminal) + \": used, but not defined\",\n",
    "              file=sys.stderr)\n",
    "\n",
    "    # Symbols must be reachable either from <start> or given start symbol\n",
    "    unreachable = unreachable_nonterminals(grammar, start_symbol)\n",
    "    msg_start_symbol = start_symbol\n",
    "    if START_SYMBOL in grammar:\n",
    "        unreachable = unreachable - \\\n",
    "            reachable_nonterminals(grammar, START_SYMBOL)\n",
    "        if start_symbol != START_SYMBOL:\n",
    "            msg_start_symbol += \" or \" + START_SYMBOL\n",
    "    for unreachable_nonterminal in unreachable:\n",
    "        print(repr(unreachable_nonterminal) + \": unreachable from \" + msg_start_symbol,\n",
    "              file=sys.stderr)\n",
    "\n",
    "    used_but_not_supported_opts = set()\n",
    "    if supported_opts is not None:\n",
    "        used_but_not_supported_opts = opts_used(\n",
    "            grammar).difference(supported_opts)\n",
    "        for opt in used_but_not_supported_opts:\n",
    "            print(\n",
    "                \"warning: option \" +\n",
    "                repr(opt) +\n",
    "                \" is not supported\",\n",
    "                file=sys.stderr)\n",
    "\n",
    "    return used_nonterminals == defined_nonterminals and len(unreachable) == 0"
   ]
  },
  {
   "cell_type": "code",
   "execution_count": null,
   "metadata": {},
   "outputs": [],
   "source": []
  }
 ]
}