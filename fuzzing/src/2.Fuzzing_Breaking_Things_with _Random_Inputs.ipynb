{
 "metadata": {
  "language_info": {
   "codemirror_mode": {
    "name": "ipython",
    "version": 3
   },
   "file_extension": ".py",
   "mimetype": "text/x-python",
   "name": "python",
   "nbconvert_exporter": "python",
   "pygments_lexer": "ipython3",
   "version": "3.6.9-final"
  },
  "orig_nbformat": 2,
  "kernelspec": {
   "name": "python3",
   "display_name": "Python 3"
  }
 },
 "nbformat": 4,
 "nbformat_minor": 2,
 "cells": [
  {
   "source": [
    "来源：[Fuzzing: Breaking Things with Random Inputs](https://www.fuzzingbook.org/html/Fuzzer.html)"
   ],
   "cell_type": "markdown",
   "metadata": {}
  },
  {
   "cell_type": "code",
   "execution_count": null,
   "metadata": {},
   "outputs": [],
   "source": [
    "# 生成一个指定范围内，随机长度，随机字母的字符串\n",
    "import random\n",
    "def fuzzer(min_length=5,max_length=15,char_start=ord('a'),char_range=26):\n",
    "    str_length = random.randrange(min_length,max_length+1)\n",
    "    out = \"\"\n",
    "    for i in range(str_length):\n",
    "        out += chr(random.randrange(char_start,char_start+char_range))\n",
    "    return out"
   ]
  },
  {
   "cell_type": "code",
   "execution_count": null,
   "metadata": {},
   "outputs": [],
   "source": [
    "# 将生成的字符串写入文件\n",
    "import os\n",
    "import tempfile\n",
    "basename = \"input.txt\"\n",
    "tmp_dir = tempfile.mkdtemp()\n",
    "FILE = os.path.join(tmp_dir,basename)\n",
    "\n",
    "data = fuzzer()\n",
    "with open(FILE,\"w\") as f:\n",
    "    f.write(data)\n",
    "print(open(FILE).read())"
   ]
  },
  {
   "cell_type": "code",
   "execution_count": null,
   "metadata": {},
   "outputs": [],
   "source": [
    "# 调用外部程序\n",
    "import subprocess\n",
    "program = \"bc\"\n",
    "with open(FILE, \"w\") as f:\n",
    "    f.write(\"2 + 2\\n\")\n",
    "result = subprocess.run([program, FILE],\n",
    "                        stdin=subprocess.DEVNULL,\n",
    "                        stdout=subprocess.PIPE,\n",
    "                        stderr=subprocess.PIPE,\n",
    "                        universal_newlines=True)  # Will be \"text\" in Python 3.7\n",
    "# print(result)\n",
    "print(result.stdout)\n",
    "# print(result.returncode)\n",
    "# print(result.stderr)"
   ]
  },
  {
   "cell_type": "code",
   "execution_count": null,
   "metadata": {},
   "outputs": [],
   "source": [
    "# 测试bc程序\n",
    "trials = 50\n",
    "program = \"bc\"\n",
    "results = []\n",
    "for i in range(trials):\n",
    "    data = fuzzer(min_length=2,char_start=ord('0'))\n",
    "    data += '\\n'\n",
    "    with open(FILE,\"w\") as f:\n",
    "        f.write(data)\n",
    "    result = subprocess.run([program, FILE],\n",
    "                        stdin=subprocess.DEVNULL,\n",
    "                        stdout=subprocess.PIPE,\n",
    "                        stderr=subprocess.PIPE,\n",
    "                        universal_newlines=True)  # Will be \"text\" in Python 3.7\n",
    "    results.append((data,result))"
   ]
  },
  {
   "cell_type": "code",
   "execution_count": null,
   "metadata": {},
   "outputs": [],
   "source": [
    "# 检测下有几个字符串是真正可以计算的\n",
    "# 如果有返回代码非0，断言\n",
    "sum_suc = 0\n",
    "for i in range(trials):\n",
    "    (data,result) = results[i]\n",
    "    assert result.returncode == 0\n",
    "    if result.stderr == \"\":\n",
    "        sum_suc += 1\n",
    "        print(f\"suc：{data}-->{result.stdout}\")\n",
    "    else:\n",
    "        print(f\"fail：{data}-->{result.stderr}\")\n",
    "print(sum_suc)"
   ]
  },
  {
   "cell_type": "code",
   "execution_count": null,
   "metadata": {},
   "outputs": [],
   "source": []
  }
 ]
}