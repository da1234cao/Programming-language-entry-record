{
 "metadata": {
  "language_info": {
   "codemirror_mode": {
    "name": "ipython",
    "version": 3
   },
   "file_extension": ".py",
   "mimetype": "text/x-python",
   "name": "python",
   "nbconvert_exporter": "python",
   "pygments_lexer": "ipython3",
   "version": "3.6.9-final"
  },
  "orig_nbformat": 2,
  "kernelspec": {
   "name": "python3",
   "display_name": "Python 3"
  }
 },
 "nbformat": 4,
 "nbformat_minor": 2,
 "cells": [
  {
   "source": [
    "来源：[Fuzzing: Breaking Things with Random Inputs](https://www.fuzzingbook.org/html/Fuzzer.html)"
   ],
   "cell_type": "markdown",
   "metadata": {}
  },
  {
   "source": [
    "## 模糊测试的简单事例"
   ],
   "cell_type": "markdown",
   "metadata": {}
  },
  {
   "cell_type": "code",
   "execution_count": null,
   "metadata": {},
   "outputs": [],
   "source": [
    "# 生成一个指定范围内，随机长度，随机字母的字符串\n",
    "import random\n",
    "def fuzzer(min_length=5,max_length=15,char_start=ord('a'),char_range=26):\n",
    "    str_length = random.randrange(min_length,max_length+1)\n",
    "    out = \"\"\n",
    "    for i in range(str_length):\n",
    "        out += chr(random.randrange(char_start,char_start+char_range))\n",
    "    return out"
   ]
  },
  {
   "cell_type": "code",
   "execution_count": null,
   "metadata": {},
   "outputs": [],
   "source": [
    "# 将生成的字符串写入文件\n",
    "import os\n",
    "import tempfile\n",
    "basename = \"input.txt\"\n",
    "tmp_dir = tempfile.mkdtemp()\n",
    "FILE = os.path.join(tmp_dir,basename)\n",
    "\n",
    "data = fuzzer()\n",
    "with open(FILE,\"w\") as f:\n",
    "    f.write(data)\n",
    "print(open(FILE).read())"
   ]
  },
  {
   "cell_type": "code",
   "execution_count": null,
   "metadata": {},
   "outputs": [],
   "source": [
    "# 调用外部程序\n",
    "import subprocess\n",
    "program = \"bc\"\n",
    "with open(FILE, \"w\") as f:\n",
    "    f.write(\"2 + 2\\n\")\n",
    "result = subprocess.run([program, FILE],\n",
    "                        stdin=subprocess.DEVNULL,\n",
    "                        stdout=subprocess.PIPE,\n",
    "                        stderr=subprocess.PIPE,\n",
    "                        universal_newlines=True)  # Will be \"text\" in Python 3.7\n",
    "# print(result)\n",
    "print(result.stdout)\n",
    "# print(result.returncode)\n",
    "# print(result.stderr)"
   ]
  },
  {
   "cell_type": "code",
   "execution_count": null,
   "metadata": {},
   "outputs": [],
   "source": [
    "# 测试bc程序\n",
    "trials = 50\n",
    "program = \"bc\"\n",
    "results = []\n",
    "for i in range(trials):\n",
    "    data = fuzzer(min_length=2,char_start=ord('0'))\n",
    "    data += '\\n'\n",
    "    with open(FILE,\"w\") as f:\n",
    "        f.write(data)\n",
    "    result = subprocess.run([program, FILE],\n",
    "                        stdin=subprocess.DEVNULL,\n",
    "                        stdout=subprocess.PIPE,\n",
    "                        stderr=subprocess.PIPE,\n",
    "                        universal_newlines=True)  # Will be \"text\" in Python 3.7\n",
    "    results.append((data,result))"
   ]
  },
  {
   "cell_type": "code",
   "execution_count": null,
   "metadata": {},
   "outputs": [],
   "source": [
    "# 测试bc程序的结果分析，没有返回值为非0存在，即没有崩溃\n",
    "# 如果有返回代码非0，断言\n",
    "sum_suc = 0\n",
    "for i in range(trials):\n",
    "    (data,result) = results[i]\n",
    "    assert result.returncode == 0\n",
    "    if result.stderr == \"\":\n",
    "        sum_suc += 1\n",
    "        print(f\"suc：{data}-->{result.stdout}\")\n",
    "    else:\n",
    "        print(f\"fail：{data}-->{result.stderr}\")\n",
    "print(sum_suc)"
   ]
  },
  {
   "cell_type": "code",
   "execution_count": null,
   "metadata": {},
   "outputs": [],
   "source": [
    "# 创建可能会内存访问越界的程序\n",
    "with open(\"program.c\", \"w\") as f:\n",
    "    f.write(\"\"\"\n",
    "#include <stdlib.h>\n",
    "#include <string.h>\n",
    "\n",
    "int main(int argc, char** argv) {\n",
    "    /* Create an array with 100 bytes, initialized with 42 */\n",
    "    char *buf = malloc(100);\n",
    "    memset(buf, 42, 100);\n",
    "\n",
    "    /* Read the N-th element, with N being the first command-line argument */\n",
    "    int index = atoi(argv[1]);\n",
    "    char val = buf[index];\n",
    "\n",
    "    /* Clean up memory so we don't leak */\n",
    "    free(buf);\n",
    "    return val;\n",
    "}\n",
    "    \"\"\")"
   ]
  },
  {
   "cell_type": "code",
   "execution_count": null,
   "metadata": {},
   "outputs": [],
   "source": [
    "# 使用clang编译；AddressSanitizer is a fast memory error detector.\n",
    "# gcc应该也有这个功能吧\n",
    "!gcc -fsanitize=address -g -o program program.c\n",
    "# !clang -fsanitize=address -g -o program program.c"
   ]
  },
  {
   "cell_type": "code",
   "execution_count": null,
   "metadata": {},
   "outputs": [],
   "source": [
    "# 正常，输出42\n",
    "!./program 99; echo $?"
   ]
  },
  {
   "cell_type": "code",
   "execution_count": null,
   "metadata": {},
   "outputs": [],
   "source": [
    "# 错误，SUMMARY: AddressSanitizer: heap-buffer-overflow\n",
    "!./program 100; echo $?"
   ]
  },
  {
   "cell_type": "code",
   "execution_count": null,
   "metadata": {},
   "outputs": [],
   "source": [
    "# 删除程序\n",
    "!rm -fr program program.*"
   ]
  },
  {
   "source": [
    "## 构建模糊测试架构 -- Runner class"
   ],
   "cell_type": "markdown",
   "metadata": {}
  },
  {
   "cell_type": "code",
   "execution_count": null,
   "metadata": {},
   "outputs": [],
   "source": [
    "# 实例变量用于每个实例的唯一数据，而类变量用于类的所有实例共享的属性和方法\n",
    "# 如果同样的属性名称同时出现在实例和类中，则属性查找会优先选择实例\n",
    "\n",
    "# base runner class ： essentially provides a method run(input)，run() returns a pair (result, outcome)\n",
    "# result是返回值的详细信息，outcome是三种分类之一\n",
    "# 这个类是基类，下面通过继承覆盖，产生不同的子类\n",
    "class Runner(object):\n",
    "    # Test outcomes\n",
    "    PASS = \"PASS\"\n",
    "    FAIL = \"FAIL\"\n",
    "    UNRESOLVED = \"UNRESOLVED\"\n",
    "    def __init__(self):\n",
    "        pass\n",
    "    def run(self,inp):\n",
    "        return(inp, self.UNRESOLVED)"
   ]
  },
  {
   "cell_type": "code",
   "execution_count": null,
   "metadata": {},
   "outputs": [],
   "source": [
    "# 继承Runner类。打印输入\n",
    "class PrintRunner(Runner):\n",
    "    def run(self,inp):\n",
    "        print(inp)\n",
    "        return(inp, self.UNRESOLVED)"
   ]
  },
  {
   "cell_type": "code",
   "execution_count": null,
   "metadata": {},
   "outputs": [],
   "source": [
    "# 继承Runner类\n",
    "# 把输入发送给程序；程序在创建对象的时候制定\n",
    "class ProgramRunner(Runner):\n",
    "    def __init__(self,program):\n",
    "        self.program = program\n",
    "    def run_process(self,inp=\"\"):\n",
    "        return subprocess.run(self.program,\n",
    "                                input=inp,\n",
    "                                stdout=subprocess.PIPE,\n",
    "                                stderr=subprocess.PIPE,\n",
    "                                universal_newlines=True)\n",
    "                                # text=True) 我的是3.6版本，还没有text\n",
    "    def run(self,inp=\"\"):\n",
    "        result = self.run_process(inp)\n",
    "        if result.returncode == 0:\n",
    "            outcome = self.PASS\n",
    "        elif result.outcome < 0:\n",
    "            outcome = self.FAIL\n",
    "        else:\n",
    "            outcome = self.UNRESOLVED\n",
    "        return (result,outcome)"
   ]
  },
  {
   "cell_type": "code",
   "execution_count": null,
   "metadata": {},
   "outputs": [],
   "source": [
    "# 继承ProgramRunner类\n",
    "# 如果输入是二进制形式\n",
    "class BinaryProgramRunner(ProgramRunner):\n",
    "    def run_process(self,inp=\"\"):\n",
    "        return subprocess.run(self.program,\n",
    "                            input=inp.encode(),\n",
    "                            stdout=subprocess.PIPE,\n",
    "                            stderr=subprocess.PIPE)"
   ]
  },
  {
   "cell_type": "code",
   "execution_count": null,
   "metadata": {},
   "outputs": [],
   "source": [
    "# 测试下ProgramRunner\n",
    "cat = ProgramRunner(program=\"cat\")\n",
    "(result,outcome) = cat.run(\"I am cat\")\n",
    "print(result)"
   ]
  },
  {
   "source": [
    "## 构建模糊测试架构 -- Fuzzer class"
   ],
   "cell_type": "markdown",
   "metadata": {}
  },
  {
   "source": [
    "Fuzzer 类主要是创建随机输入，用以喂给run()方法；"
   ],
   "cell_type": "markdown",
   "metadata": {}
  },
  {
   "cell_type": "code",
   "execution_count": null,
   "metadata": {},
   "outputs": [],
   "source": [
    "# Fuzzer基类：生成随机输入，并使用run方法运行\n",
    "class Fuzzer(object):\n",
    "    def __init__(self):\n",
    "        pass\n",
    "    def fuzz(self):\n",
    "        return \"\"\n",
    "    def run(self,runner=Runner()):\n",
    "        return runner.run(self.fuzz())\n",
    "    def runs(self,runner=PrintRunner(),trials=10):\n",
    "        outcomes = []\n",
    "        for i in range(trials):\n",
    "            # outcomes.append(runner.run(self.fuzz()))\n",
    "            outcomes.append(self.run(runner))\n",
    "        return outcomes"
   ]
  },
  {
   "cell_type": "code",
   "execution_count": null,
   "metadata": {},
   "outputs": [],
   "source": [
    "class RandomFuzzer(Fuzzer):\n",
    "    def __init__(self, min_length=10, max_length=100,char_start=32, char_range=32):\n",
    "        self.min_length = min_length\n",
    "        self.max_length = max_length\n",
    "        self.char_start = char_start\n",
    "        self.char_range = char_range\n",
    "    def fuzz(self):\n",
    "        str_len = random.randrange(self.min_length,self.max_length)\n",
    "        out = \"\"\n",
    "        for i in range(str_len):\n",
    "            out += chr(random.randrange(self.char_start,self.char_start + self.char_range))\n",
    "        return out"
   ]
  },
  {
   "cell_type": "code",
   "execution_count": null,
   "metadata": {},
   "outputs": [],
   "source": [
    "# 测试RandomFuzzer\n",
    "random_fuzzer = RandomFuzzer(min_length=5,max_length=10,char_start=ord('a'),char_range=26)\n",
    "# random_fuzzer.fuzz() # 可以随机生成字符串，很好\n",
    "cat_runner = ProgramRunner(\"cat\")\n",
    "outcomes = random_fuzzer.runs(cat_runner,10)\n",
    "print(outcomes)"
   ]
  },
  {
   "cell_type": "code",
   "execution_count": null,
   "metadata": {},
   "outputs": [],
   "source": [
    "# 上面的bc测试使用我们的基类\n",
    "random_fuzzer = RandomFuzzer(min_length=2,max_length=6,char_start=ord('0'),char_range=10)\n",
    "bc_runner = ProgramRunner(\"bc\")\n",
    "outcomes = random_fuzzer.runs(bc_runner,10)\n",
    "print(outcomes)"
   ]
  }
 ]
}