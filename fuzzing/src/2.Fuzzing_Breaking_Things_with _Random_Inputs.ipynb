{
 "metadata": {
  "language_info": {
   "codemirror_mode": {
    "name": "ipython",
    "version": 3
   },
   "file_extension": ".py",
   "mimetype": "text/x-python",
   "name": "python",
   "nbconvert_exporter": "python",
   "pygments_lexer": "ipython3",
   "version": "3.6.9-final"
  },
  "orig_nbformat": 2,
  "kernelspec": {
   "name": "python3",
   "display_name": "Python 3"
  }
 },
 "nbformat": 4,
 "nbformat_minor": 2,
 "cells": [
  {
   "source": [
    "来源：[Fuzzing: Breaking Things with Random Inputs](https://www.fuzzingbook.org/html/Fuzzer.html)"
   ],
   "cell_type": "markdown",
   "metadata": {}
  },
  {
   "cell_type": "code",
   "execution_count": null,
   "metadata": {},
   "outputs": [],
   "source": [
    "# 生成一个指定范围内，随机长度，随机字母的字符串\n",
    "import random\n",
    "def fuzzer(min_length=5,max_length=15,char_start=ord('a'),char_range=26):\n",
    "    str_length = random.randrange(min_length,max_length+1)\n",
    "    out = \"\"\n",
    "    for i in range(str_length):\n",
    "        out += chr(random.randrange(char_start,char_start+char_range))\n",
    "    return out"
   ]
  },
  {
   "cell_type": "code",
   "execution_count": 23,
   "metadata": {},
   "outputs": [
    {
     "output_type": "stream",
     "name": "stdout",
     "text": [
      "dmegooovcrr\n"
     ]
    }
   ],
   "source": [
    "# 将生成的字符串写入文件\n",
    "import os\n",
    "import tempfile\n",
    "basename = \"input.txt\"\n",
    "tmp_dir = tempfile.mkdtemp()\n",
    "FILE = os.path.join(tmp_dir,basename)\n",
    "\n",
    "data = fuzzer()\n",
    "with open(FILE,\"w\") as f:\n",
    "    f.write(data)\n",
    "print(open(FILE).read())"
   ]
  },
  {
   "cell_type": "code",
   "execution_count": null,
   "metadata": {},
   "outputs": [],
   "source": []
  }
 ]
}