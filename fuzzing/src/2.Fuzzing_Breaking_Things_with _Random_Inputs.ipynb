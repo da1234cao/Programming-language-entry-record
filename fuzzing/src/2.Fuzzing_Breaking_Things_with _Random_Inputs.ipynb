{
 "metadata": {
  "language_info": {
   "codemirror_mode": {
    "name": "ipython",
    "version": 3
   },
   "file_extension": ".py",
   "mimetype": "text/x-python",
   "name": "python",
   "nbconvert_exporter": "python",
   "pygments_lexer": "ipython3",
   "version": "3.6.9-final"
  },
  "orig_nbformat": 2,
  "kernelspec": {
   "name": "python3",
   "display_name": "Python 3",
   "language": "python"
  }
 },
 "nbformat": 4,
 "nbformat_minor": 2,
 "cells": [
  {
   "source": [
    "来源：[Fuzzing: Breaking Things with Random Inputs](https://www.fuzzingbook.org/html/Fuzzer.html)"
   ],
   "cell_type": "markdown",
   "metadata": {}
  },
  {
   "source": [
    "## 模糊测试的简单事例"
   ],
   "cell_type": "markdown",
   "metadata": {}
  },
  {
   "cell_type": "code",
   "execution_count": 1,
   "metadata": {},
   "outputs": [],
   "source": [
    "# 生成一个指定范围内，随机长度，随机字母的字符串\n",
    "import random\n",
    "def fuzzer(min_length=5,max_length=15,char_start=ord('a'),char_range=26):\n",
    "    str_length = random.randrange(min_length,max_length+1)\n",
    "    out = \"\"\n",
    "    for i in range(str_length):\n",
    "        out += chr(random.randrange(char_start,char_start+char_range))\n",
    "    return out"
   ]
  },
  {
   "cell_type": "code",
   "execution_count": 2,
   "metadata": {},
   "outputs": [
    {
     "output_type": "stream",
     "name": "stdout",
     "text": [
      "edfvqpylz\n"
     ]
    }
   ],
   "source": [
    "# 将生成的字符串写入文件\n",
    "import os\n",
    "import tempfile\n",
    "basename = \"input.txt\"\n",
    "tmp_dir = tempfile.mkdtemp()\n",
    "FILE = os.path.join(tmp_dir,basename)\n",
    "\n",
    "data = fuzzer()\n",
    "with open(FILE,\"w\") as f:\n",
    "    f.write(data)\n",
    "print(open(FILE).read())"
   ]
  },
  {
   "cell_type": "code",
   "execution_count": 23,
   "metadata": {},
   "outputs": [
    {
     "output_type": "stream",
     "name": "stdout",
     "text": [
      "4\n\n"
     ]
    }
   ],
   "source": [
    "# 调用外部程序\n",
    "import subprocess\n",
    "program = \"bc\"\n",
    "with open(FILE, \"w\") as f:\n",
    "    f.write(\"2 + 2\\n\")\n",
    "result = subprocess.run([program, FILE],\n",
    "                        stdin=subprocess.DEVNULL,\n",
    "                        stdout=subprocess.PIPE,\n",
    "                        stderr=subprocess.PIPE,\n",
    "                        universal_newlines=True)  # Will be \"text\" in Python 3.7\n",
    "# print(result)\n",
    "print(result.stdout)\n",
    "# print(result.returncode)\n",
    "# print(result.stderr)"
   ]
  },
  {
   "cell_type": "code",
   "execution_count": 24,
   "metadata": {},
   "outputs": [],
   "source": [
    "# 测试bc程序\n",
    "trials = 50\n",
    "program = \"bc\"\n",
    "results = []\n",
    "for i in range(trials):\n",
    "    data = fuzzer(min_length=2,char_start=ord('0'))\n",
    "    data += '\\n'\n",
    "    with open(FILE,\"w\") as f:\n",
    "        f.write(data)\n",
    "    result = subprocess.run([program, FILE],\n",
    "                        stdin=subprocess.DEVNULL,\n",
    "                        stdout=subprocess.PIPE,\n",
    "                        stderr=subprocess.PIPE,\n",
    "                        universal_newlines=True)  # Will be \"text\" in Python 3.7\n",
    "    results.append((data,result))"
   ]
  },
  {
   "cell_type": "code",
   "execution_count": 5,
   "metadata": {},
   "outputs": [
    {
     "output_type": "stream",
     "name": "stdout",
     "text": [
      "suc：5<9\n-->1\n\nfail：B::8;:0:5?4G\n-->/tmp/tmppe7v9kd1/input.txt 1: illegal character: :\n/tmp/tmppe7v9kd1/input.txt 1: illegal character: :\n/tmp/tmppe7v9kd1/input.txt 1: syntax error\n/tmp/tmppe7v9kd1/input.txt 1: illegal character: :\n/tmp/tmppe7v9kd1/input.txt 1: illegal character: :\n/tmp/tmppe7v9kd1/input.txt 1: syntax error\n/tmp/tmppe7v9kd1/input.txt 1: illegal character: ?\n\nfail：HC5ICI=A6?<F?G;\n-->/tmp/tmppe7v9kd1/input.txt 1: syntax error\n/tmp/tmppe7v9kd1/input.txt 1: illegal character: ?\n/tmp/tmppe7v9kd1/input.txt 1: illegal character: ?\n/tmp/tmppe7v9kd1/input.txt 1: syntax error\n\nfail：H54@994AID@9<\n-->/tmp/tmppe7v9kd1/input.txt 1: illegal character: @\n/tmp/tmppe7v9kd1/input.txt 1: syntax error\n/tmp/tmppe7v9kd1/input.txt 1: illegal character: @\n\nfail：@5\n-->/tmp/tmppe7v9kd1/input.txt 1: illegal character: @\n\nfail：=3@:76::\n-->/tmp/tmppe7v9kd1/input.txt 1: syntax error\n/tmp/tmppe7v9kd1/input.txt 1: illegal character: @\n/tmp/tmppe7v9kd1/input.txt 1: illegal character: :\n/tmp/tmppe7v9kd1/input.txt 1: illegal character: :\n/tmp/tmppe7v9kd1/input.txt 1: illegal character: :\n\nsuc：6H\n-->69\n\nsuc：2A\n-->29\n\nsuc：G62A17F3\n-->96291793\n\nfail：G6::E8E<4AH?2\n-->/tmp/tmppe7v9kd1/input.txt 1: illegal character: :\n/tmp/tmppe7v9kd1/input.txt 1: illegal character: :\n/tmp/tmppe7v9kd1/input.txt 1: syntax error\n/tmp/tmppe7v9kd1/input.txt 1: illegal character: ?\n/tmp/tmppe7v9kd1/input.txt 1: syntax error\n\nfail：?H81B\n-->/tmp/tmppe7v9kd1/input.txt 1: illegal character: ?\n\nfail：:C05E7>C\n-->/tmp/tmppe7v9kd1/input.txt 1: illegal character: :\n\nfail：;GA6?A\n-->/tmp/tmppe7v9kd1/input.txt 1: illegal character: ?\n/tmp/tmppe7v9kd1/input.txt 1: syntax error\n\nfail：2G0D;I=<1=C<\n-->/tmp/tmppe7v9kd1/input.txt 1: syntax error\n\nsuc：7>C>09ADDD\n-->0\n\nfail：ABH91CDB?=7=0\n-->/tmp/tmppe7v9kd1/input.txt 1: illegal character: ?\n/tmp/tmppe7v9kd1/input.txt 1: syntax error\n\nfail：3G<FG@C\n-->/tmp/tmppe7v9kd1/input.txt 1: illegal character: @\n/tmp/tmppe7v9kd1/input.txt 1: syntax error\n\nsuc：F547BBBIE;1\n-->954799999\n1\n\nsuc：;84E\n-->849\n\nfail：=>I6=49<1\n-->/tmp/tmppe7v9kd1/input.txt 1: syntax error\n\nsuc：BC4;\n-->994\n\nsuc：EI5748321\n-->995748321\n\nfail：5<?FA380?\n-->/tmp/tmppe7v9kd1/input.txt 1: illegal character: ?\n/tmp/tmppe7v9kd1/input.txt 1: illegal character: ?\n\nfail：>8HC8@1H1A19\n-->/tmp/tmppe7v9kd1/input.txt 1: syntax error\n/tmp/tmppe7v9kd1/input.txt 1: illegal character: @\n\nfail：4?CD>@7A\n-->/tmp/tmppe7v9kd1/input.txt 1: illegal character: ?\n/tmp/tmppe7v9kd1/input.txt 1: syntax error\n/tmp/tmppe7v9kd1/input.txt 1: illegal character: @\n\nfail：C9C=9>=?:\n-->/tmp/tmppe7v9kd1/input.txt 1: syntax error\n/tmp/tmppe7v9kd1/input.txt 1: illegal character: ?\n/tmp/tmppe7v9kd1/input.txt 1: illegal character: :\n\nsuc：10;\n-->10\n\nfail：4FD<0@FH2<9686\n-->/tmp/tmppe7v9kd1/input.txt 1: illegal character: @\n/tmp/tmppe7v9kd1/input.txt 1: syntax error\n\nfail：6D50E9866619@=H\n-->/tmp/tmppe7v9kd1/input.txt 1: illegal character: @\n/tmp/tmppe7v9kd1/input.txt 1: syntax error\n\nfail：9E1526>G8>;\n-->/tmp/tmppe7v9kd1/input.txt 1: syntax error\n\nfail：D6HD4A1=:3HE=1\n-->/tmp/tmppe7v9kd1/input.txt 1: syntax error\n/tmp/tmppe7v9kd1/input.txt 1: illegal character: :\n\nsuc：BIA7F5\n-->999795\n\nfail：71I;A06<\n-->/tmp/tmppe7v9kd1/input.txt 2: syntax error\n\nfail：>?84CHG7<78?6?B\n-->/tmp/tmppe7v9kd1/input.txt 1: syntax error\n/tmp/tmppe7v9kd1/input.txt 1: illegal character: ?\n/tmp/tmppe7v9kd1/input.txt 1: illegal character: ?\n/tmp/tmppe7v9kd1/input.txt 1: syntax error\n/tmp/tmppe7v9kd1/input.txt 1: illegal character: ?\n\nsuc：368<3\n-->0\n\nsuc：H5EFHG1\n-->9599991\n\nsuc：193B8\n-->19398\n\nfail：:F=:\n-->/tmp/tmppe7v9kd1/input.txt 1: illegal character: :\n/tmp/tmppe7v9kd1/input.txt 1: syntax error\n/tmp/tmppe7v9kd1/input.txt 1: illegal character: :\n\nfail：88H@263A=C2H7=\n-->/tmp/tmppe7v9kd1/input.txt 1: illegal character: @\n/tmp/tmppe7v9kd1/input.txt 1: syntax error\n\nfail：9=EA26;0E2?C3\n-->/tmp/tmppe7v9kd1/input.txt 1: syntax error\n/tmp/tmppe7v9kd1/input.txt 1: illegal character: ?\n/tmp/tmppe7v9kd1/input.txt 1: syntax error\n\nfail：44I576>>\n-->/tmp/tmppe7v9kd1/input.txt 1: syntax error\n\nfail：<@58=4?\n-->/tmp/tmppe7v9kd1/input.txt 1: syntax error\n/tmp/tmppe7v9kd1/input.txt 1: illegal character: @\n/tmp/tmppe7v9kd1/input.txt 1: illegal character: ?\n\nfail：=54;;2@E?G66;8\n-->/tmp/tmppe7v9kd1/input.txt 1: syntax error\n/tmp/tmppe7v9kd1/input.txt 1: illegal character: @\n/tmp/tmppe7v9kd1/input.txt 1: syntax error\n/tmp/tmppe7v9kd1/input.txt 1: illegal character: ?\n\nfail：:G\n-->/tmp/tmppe7v9kd1/input.txt 1: illegal character: :\n\nsuc：;B0>IE89\n-->0\n\nsuc：A81D\n-->9819\n\nfail：I1I9@26DE08CH\n-->/tmp/tmppe7v9kd1/input.txt 1: illegal character: @\n/tmp/tmppe7v9kd1/input.txt 1: syntax error\n\nfail：0G6D479415=;B\n-->/tmp/tmppe7v9kd1/input.txt 1: syntax error\n\nfail：HD336=9<0IA\n-->/tmp/tmppe7v9kd1/input.txt 1: syntax error\n\nfail：>@3>1C\n-->/tmp/tmppe7v9kd1/input.txt 1: syntax error\n/tmp/tmppe7v9kd1/input.txt 1: illegal character: @\n\n16\n"
     ]
    }
   ],
   "source": [
    "# 测试bc程序的结果分析，没有返回值为非0存在，即没有崩溃\n",
    "# 如果有返回代码非0，断言\n",
    "sum_suc = 0\n",
    "for i in range(trials):\n",
    "    (data,result) = results[i]\n",
    "    assert result.returncode == 0\n",
    "    if result.stderr == \"\":\n",
    "        sum_suc += 1\n",
    "        print(f\"suc：{data}-->{result.stdout}\")\n",
    "    else:\n",
    "        print(f\"fail：{data}-->{result.stderr}\")\n",
    "print(sum_suc)"
   ]
  },
  {
   "cell_type": "code",
   "execution_count": 6,
   "metadata": {},
   "outputs": [],
   "source": [
    "# 创建可能会内存访问越界的程序\n",
    "with open(\"program.c\", \"w\") as f:\n",
    "    f.write(\"\"\"\n",
    "#include <stdlib.h>\n",
    "#include <string.h>\n",
    "\n",
    "int main(int argc, char** argv) {\n",
    "    /* Create an array with 100 bytes, initialized with 42 */\n",
    "    char *buf = malloc(100);\n",
    "    memset(buf, 42, 100);\n",
    "\n",
    "    /* Read the N-th element, with N being the first command-line argument */\n",
    "    int index = atoi(argv[1]);\n",
    "    char val = buf[index];\n",
    "\n",
    "    /* Clean up memory so we don't leak */\n",
    "    free(buf);\n",
    "    return val;\n",
    "}\n",
    "    \"\"\")"
   ]
  },
  {
   "cell_type": "code",
   "execution_count": 7,
   "metadata": {},
   "outputs": [],
   "source": [
    "# 使用clang编译；AddressSanitizer is a fast memory error detector.\n",
    "# gcc应该也有这个功能吧\n",
    "!gcc -fsanitize=address -g -o program program.c\n",
    "# !clang -fsanitize=address -g -o program program.c"
   ]
  },
  {
   "cell_type": "code",
   "execution_count": 8,
   "metadata": {},
   "outputs": [
    {
     "output_type": "stream",
     "name": "stdout",
     "text": [
      "42\n"
     ]
    }
   ],
   "source": [
    "# 正常，输出42\n",
    "!./program 99; echo $?"
   ]
  },
  {
   "cell_type": "code",
   "execution_count": 9,
   "metadata": {},
   "outputs": [
    {
     "output_type": "stream",
     "name": "stdout",
     "text": [
      "=================================================================\n\u001b[1m\u001b[31m==21104==ERROR: AddressSanitizer: heap-buffer-overflow on address 0x60b0000000a4 at pc 0x55fb697fea15 bp 0x7ffed5af9150 sp 0x7ffed5af9140\n\u001b[1m\u001b[0m\u001b[1m\u001b[34mREAD of size 1 at 0x60b0000000a4 thread T0\u001b[1m\u001b[0m\n    #0 0x55fb697fea14 in main /home/dacao/exercise/programming-language-entry-record/fuzzing/src/program.c:12\n    #1 0x7f3a2bb0db96 in __libc_start_main (/lib/x86_64-linux-gnu/libc.so.6+0x21b96)\n    #2 0x55fb697fe889 in _start (/home/dacao/exercise/programming-language-entry-record/fuzzing/src/program+0x889)\n\n\u001b[1m\u001b[32m0x60b0000000a4 is located 0 bytes to the right of 100-byte region [0x60b000000040,0x60b0000000a4)\n\u001b[1m\u001b[0m\u001b[1m\u001b[35mallocated by thread T0 here:\u001b[1m\u001b[0m\n    #0 0x7f3a2bfbbb40 in __interceptor_malloc (/usr/lib/x86_64-linux-gnu/libasan.so.4+0xdeb40)\n    #1 0x55fb697fe982 in main /home/dacao/exercise/programming-language-entry-record/fuzzing/src/program.c:7\n    #2 0x7f3a2bb0db96 in __libc_start_main (/lib/x86_64-linux-gnu/libc.so.6+0x21b96)\n\nSUMMARY: AddressSanitizer: heap-buffer-overflow /home/dacao/exercise/programming-language-entry-record/fuzzing/src/program.c:12 in main\nShadow bytes around the buggy address:\n  0x0c167fff7fc0: \u001b[1m\u001b[0m00\u001b[1m\u001b[0m \u001b[1m\u001b[0m00\u001b[1m\u001b[0m \u001b[1m\u001b[0m00\u001b[1m\u001b[0m \u001b[1m\u001b[0m00\u001b[1m\u001b[0m \u001b[1m\u001b[0m00\u001b[1m\u001b[0m \u001b[1m\u001b[0m00\u001b[1m\u001b[0m \u001b[1m\u001b[0m00\u001b[1m\u001b[0m \u001b[1m\u001b[0m00\u001b[1m\u001b[0m \u001b[1m\u001b[0m00\u001b[1m\u001b[0m \u001b[1m\u001b[0m00\u001b[1m\u001b[0m \u001b[1m\u001b[0m00\u001b[1m\u001b[0m \u001b[1m\u001b[0m00\u001b[1m\u001b[0m \u001b[1m\u001b[0m00\u001b[1m\u001b[0m \u001b[1m\u001b[0m00\u001b[1m\u001b[0m \u001b[1m\u001b[0m00\u001b[1m\u001b[0m \u001b[1m\u001b[0m00\u001b[1m\u001b[0m\n  0x0c167fff7fd0: \u001b[1m\u001b[0m00\u001b[1m\u001b[0m \u001b[1m\u001b[0m00\u001b[1m\u001b[0m \u001b[1m\u001b[0m00\u001b[1m\u001b[0m \u001b[1m\u001b[0m00\u001b[1m\u001b[0m \u001b[1m\u001b[0m00\u001b[1m\u001b[0m \u001b[1m\u001b[0m00\u001b[1m\u001b[0m \u001b[1m\u001b[0m00\u001b[1m\u001b[0m \u001b[1m\u001b[0m00\u001b[1m\u001b[0m \u001b[1m\u001b[0m00\u001b[1m\u001b[0m \u001b[1m\u001b[0m00\u001b[1m\u001b[0m \u001b[1m\u001b[0m00\u001b[1m\u001b[0m \u001b[1m\u001b[0m00\u001b[1m\u001b[0m \u001b[1m\u001b[0m00\u001b[1m\u001b[0m \u001b[1m\u001b[0m00\u001b[1m\u001b[0m \u001b[1m\u001b[0m00\u001b[1m\u001b[0m \u001b[1m\u001b[0m00\u001b[1m\u001b[0m\n  0x0c167fff7fe0: \u001b[1m\u001b[0m00\u001b[1m\u001b[0m \u001b[1m\u001b[0m00\u001b[1m\u001b[0m \u001b[1m\u001b[0m00\u001b[1m\u001b[0m \u001b[1m\u001b[0m00\u001b[1m\u001b[0m \u001b[1m\u001b[0m00\u001b[1m\u001b[0m \u001b[1m\u001b[0m00\u001b[1m\u001b[0m \u001b[1m\u001b[0m00\u001b[1m\u001b[0m \u001b[1m\u001b[0m00\u001b[1m\u001b[0m \u001b[1m\u001b[0m00\u001b[1m\u001b[0m \u001b[1m\u001b[0m00\u001b[1m\u001b[0m \u001b[1m\u001b[0m00\u001b[1m\u001b[0m \u001b[1m\u001b[0m00\u001b[1m\u001b[0m \u001b[1m\u001b[0m00\u001b[1m\u001b[0m \u001b[1m\u001b[0m00\u001b[1m\u001b[0m \u001b[1m\u001b[0m00\u001b[1m\u001b[0m \u001b[1m\u001b[0m00\u001b[1m\u001b[0m\n  0x0c167fff7ff0: \u001b[1m\u001b[0m00\u001b[1m\u001b[0m \u001b[1m\u001b[0m00\u001b[1m\u001b[0m \u001b[1m\u001b[0m00\u001b[1m\u001b[0m \u001b[1m\u001b[0m00\u001b[1m\u001b[0m \u001b[1m\u001b[0m00\u001b[1m\u001b[0m \u001b[1m\u001b[0m00\u001b[1m\u001b[0m \u001b[1m\u001b[0m00\u001b[1m\u001b[0m \u001b[1m\u001b[0m00\u001b[1m\u001b[0m \u001b[1m\u001b[0m00\u001b[1m\u001b[0m \u001b[1m\u001b[0m00\u001b[1m\u001b[0m \u001b[1m\u001b[0m00\u001b[1m\u001b[0m \u001b[1m\u001b[0m00\u001b[1m\u001b[0m \u001b[1m\u001b[0m00\u001b[1m\u001b[0m \u001b[1m\u001b[0m00\u001b[1m\u001b[0m \u001b[1m\u001b[0m00\u001b[1m\u001b[0m \u001b[1m\u001b[0m00\u001b[1m\u001b[0m\n  0x0c167fff8000: \u001b[1m\u001b[31mfa\u001b[1m\u001b[0m \u001b[1m\u001b[31mfa\u001b[1m\u001b[0m \u001b[1m\u001b[31mfa\u001b[1m\u001b[0m \u001b[1m\u001b[31mfa\u001b[1m\u001b[0m \u001b[1m\u001b[31mfa\u001b[1m\u001b[0m \u001b[1m\u001b[31mfa\u001b[1m\u001b[0m \u001b[1m\u001b[31mfa\u001b[1m\u001b[0m \u001b[1m\u001b[31mfa\u001b[1m\u001b[0m \u001b[1m\u001b[0m00\u001b[1m\u001b[0m \u001b[1m\u001b[0m00\u001b[1m\u001b[0m \u001b[1m\u001b[0m00\u001b[1m\u001b[0m \u001b[1m\u001b[0m00\u001b[1m\u001b[0m \u001b[1m\u001b[0m00\u001b[1m\u001b[0m \u001b[1m\u001b[0m00\u001b[1m\u001b[0m \u001b[1m\u001b[0m00\u001b[1m\u001b[0m \u001b[1m\u001b[0m00\u001b[1m\u001b[0m\n=>0x0c167fff8010: \u001b[1m\u001b[0m00\u001b[1m\u001b[0m \u001b[1m\u001b[0m00\u001b[1m\u001b[0m \u001b[1m\u001b[0m00\u001b[1m\u001b[0m \u001b[1m\u001b[0m00\u001b[1m\u001b[0m[\u001b[1m\u001b[0m04\u001b[1m\u001b[0m]\u001b[1m\u001b[31mfa\u001b[1m\u001b[0m \u001b[1m\u001b[31mfa\u001b[1m\u001b[0m \u001b[1m\u001b[31mfa\u001b[1m\u001b[0m \u001b[1m\u001b[31mfa\u001b[1m\u001b[0m \u001b[1m\u001b[31mfa\u001b[1m\u001b[0m \u001b[1m\u001b[31mfa\u001b[1m\u001b[0m \u001b[1m\u001b[31mfa\u001b[1m\u001b[0m \u001b[1m\u001b[31mfa\u001b[1m\u001b[0m \u001b[1m\u001b[31mfa\u001b[1m\u001b[0m \u001b[1m\u001b[31mfa\u001b[1m\u001b[0m \u001b[1m\u001b[31mfa\u001b[1m\u001b[0m\n  0x0c167fff8020: \u001b[1m\u001b[31mfa\u001b[1m\u001b[0m \u001b[1m\u001b[31mfa\u001b[1m\u001b[0m \u001b[1m\u001b[31mfa\u001b[1m\u001b[0m \u001b[1m\u001b[31mfa\u001b[1m\u001b[0m \u001b[1m\u001b[31mfa\u001b[1m\u001b[0m \u001b[1m\u001b[31mfa\u001b[1m\u001b[0m \u001b[1m\u001b[31mfa\u001b[1m\u001b[0m \u001b[1m\u001b[31mfa\u001b[1m\u001b[0m \u001b[1m\u001b[31mfa\u001b[1m\u001b[0m \u001b[1m\u001b[31mfa\u001b[1m\u001b[0m \u001b[1m\u001b[31mfa\u001b[1m\u001b[0m \u001b[1m\u001b[31mfa\u001b[1m\u001b[0m \u001b[1m\u001b[31mfa\u001b[1m\u001b[0m \u001b[1m\u001b[31mfa\u001b[1m\u001b[0m \u001b[1m\u001b[31mfa\u001b[1m\u001b[0m \u001b[1m\u001b[31mfa\u001b[1m\u001b[0m\n  0x0c167fff8030: \u001b[1m\u001b[31mfa\u001b[1m\u001b[0m \u001b[1m\u001b[31mfa\u001b[1m\u001b[0m \u001b[1m\u001b[31mfa\u001b[1m\u001b[0m \u001b[1m\u001b[31mfa\u001b[1m\u001b[0m \u001b[1m\u001b[31mfa\u001b[1m\u001b[0m \u001b[1m\u001b[31mfa\u001b[1m\u001b[0m \u001b[1m\u001b[31mfa\u001b[1m\u001b[0m \u001b[1m\u001b[31mfa\u001b[1m\u001b[0m \u001b[1m\u001b[31mfa\u001b[1m\u001b[0m \u001b[1m\u001b[31mfa\u001b[1m\u001b[0m \u001b[1m\u001b[31mfa\u001b[1m\u001b[0m \u001b[1m\u001b[31mfa\u001b[1m\u001b[0m \u001b[1m\u001b[31mfa\u001b[1m\u001b[0m \u001b[1m\u001b[31mfa\u001b[1m\u001b[0m \u001b[1m\u001b[31mfa\u001b[1m\u001b[0m \u001b[1m\u001b[31mfa\u001b[1m\u001b[0m\n  0x0c167fff8040: \u001b[1m\u001b[31mfa\u001b[1m\u001b[0m \u001b[1m\u001b[31mfa\u001b[1m\u001b[0m \u001b[1m\u001b[31mfa\u001b[1m\u001b[0m \u001b[1m\u001b[31mfa\u001b[1m\u001b[0m \u001b[1m\u001b[31mfa\u001b[1m\u001b[0m \u001b[1m\u001b[31mfa\u001b[1m\u001b[0m \u001b[1m\u001b[31mfa\u001b[1m\u001b[0m \u001b[1m\u001b[31mfa\u001b[1m\u001b[0m \u001b[1m\u001b[31mfa\u001b[1m\u001b[0m \u001b[1m\u001b[31mfa\u001b[1m\u001b[0m \u001b[1m\u001b[31mfa\u001b[1m\u001b[0m \u001b[1m\u001b[31mfa\u001b[1m\u001b[0m \u001b[1m\u001b[31mfa\u001b[1m\u001b[0m \u001b[1m\u001b[31mfa\u001b[1m\u001b[0m \u001b[1m\u001b[31mfa\u001b[1m\u001b[0m \u001b[1m\u001b[31mfa\u001b[1m\u001b[0m\n  0x0c167fff8050: \u001b[1m\u001b[31mfa\u001b[1m\u001b[0m \u001b[1m\u001b[31mfa\u001b[1m\u001b[0m \u001b[1m\u001b[31mfa\u001b[1m\u001b[0m \u001b[1m\u001b[31mfa\u001b[1m\u001b[0m \u001b[1m\u001b[31mfa\u001b[1m\u001b[0m \u001b[1m\u001b[31mfa\u001b[1m\u001b[0m \u001b[1m\u001b[31mfa\u001b[1m\u001b[0m \u001b[1m\u001b[31mfa\u001b[1m\u001b[0m \u001b[1m\u001b[31mfa\u001b[1m\u001b[0m \u001b[1m\u001b[31mfa\u001b[1m\u001b[0m \u001b[1m\u001b[31mfa\u001b[1m\u001b[0m \u001b[1m\u001b[31mfa\u001b[1m\u001b[0m \u001b[1m\u001b[31mfa\u001b[1m\u001b[0m \u001b[1m\u001b[31mfa\u001b[1m\u001b[0m \u001b[1m\u001b[31mfa\u001b[1m\u001b[0m \u001b[1m\u001b[31mfa\u001b[1m\u001b[0m\n  0x0c167fff8060: \u001b[1m\u001b[31mfa\u001b[1m\u001b[0m \u001b[1m\u001b[31mfa\u001b[1m\u001b[0m \u001b[1m\u001b[31mfa\u001b[1m\u001b[0m \u001b[1m\u001b[31mfa\u001b[1m\u001b[0m \u001b[1m\u001b[31mfa\u001b[1m\u001b[0m \u001b[1m\u001b[31mfa\u001b[1m\u001b[0m \u001b[1m\u001b[31mfa\u001b[1m\u001b[0m \u001b[1m\u001b[31mfa\u001b[1m\u001b[0m \u001b[1m\u001b[31mfa\u001b[1m\u001b[0m \u001b[1m\u001b[31mfa\u001b[1m\u001b[0m \u001b[1m\u001b[31mfa\u001b[1m\u001b[0m \u001b[1m\u001b[31mfa\u001b[1m\u001b[0m \u001b[1m\u001b[31mfa\u001b[1m\u001b[0m \u001b[1m\u001b[31mfa\u001b[1m\u001b[0m \u001b[1m\u001b[31mfa\u001b[1m\u001b[0m \u001b[1m\u001b[31mfa\u001b[1m\u001b[0m\nShadow byte legend (one shadow byte represents 8 application bytes):\n  Addressable:           \u001b[1m\u001b[0m00\u001b[1m\u001b[0m\n  Partially addressable: \u001b[1m\u001b[0m01\u001b[1m\u001b[0m \u001b[1m\u001b[0m02\u001b[1m\u001b[0m \u001b[1m\u001b[0m03\u001b[1m\u001b[0m \u001b[1m\u001b[0m04\u001b[1m\u001b[0m \u001b[1m\u001b[0m05\u001b[1m\u001b[0m \u001b[1m\u001b[0m06\u001b[1m\u001b[0m \u001b[1m\u001b[0m07\u001b[1m\u001b[0m \n  Heap left redzone:       \u001b[1m\u001b[31mfa\u001b[1m\u001b[0m\n  Freed heap region:       \u001b[1m\u001b[35mfd\u001b[1m\u001b[0m\n  Stack left redzone:      \u001b[1m\u001b[31mf1\u001b[1m\u001b[0m\n  Stack mid redzone:       \u001b[1m\u001b[31mf2\u001b[1m\u001b[0m\n  Stack right redzone:     \u001b[1m\u001b[31mf3\u001b[1m\u001b[0m\n  Stack after return:      \u001b[1m\u001b[35mf5\u001b[1m\u001b[0m\n  Stack use after scope:   \u001b[1m\u001b[35mf8\u001b[1m\u001b[0m\n  Global redzone:          \u001b[1m\u001b[31mf9\u001b[1m\u001b[0m\n  Global init order:       \u001b[1m\u001b[36mf6\u001b[1m\u001b[0m\n  Poisoned by user:        \u001b[1m\u001b[34mf7\u001b[1m\u001b[0m\n  Container overflow:      \u001b[1m\u001b[34mfc\u001b[1m\u001b[0m\n  Array cookie:            \u001b[1m\u001b[31mac\u001b[1m\u001b[0m\n  Intra object redzone:    \u001b[1m\u001b[33mbb\u001b[1m\u001b[0m\n  ASan internal:           \u001b[1m\u001b[33mfe\u001b[1m\u001b[0m\n  Left alloca redzone:     \u001b[1m\u001b[34mca\u001b[1m\u001b[0m\n  Right alloca redzone:    \u001b[1m\u001b[34mcb\u001b[1m\u001b[0m\n==21104==ABORTING\n1\n"
     ]
    }
   ],
   "source": [
    "# 错误，SUMMARY: AddressSanitizer: heap-buffer-overflow\n",
    "!./program 100; echo $?"
   ]
  },
  {
   "cell_type": "code",
   "execution_count": 10,
   "metadata": {},
   "outputs": [],
   "source": [
    "# 删除程序\n",
    "!rm -fr program program.*"
   ]
  },
  {
   "source": [
    "## 构建模糊测试架构 -- Runner class"
   ],
   "cell_type": "markdown",
   "metadata": {}
  },
  {
   "cell_type": "code",
   "execution_count": 11,
   "metadata": {},
   "outputs": [],
   "source": [
    "# 实例变量用于每个实例的唯一数据，而类变量用于类的所有实例共享的属性和方法\n",
    "# 如果同样的属性名称同时出现在实例和类中，则属性查找会优先选择实例\n",
    "\n",
    "# base runner class ： essentially provides a method run(input)，run() returns a pair (result, outcome)\n",
    "# result是返回值的详细信息，outcome是三种分类之一\n",
    "# 这个类是基类，下面通过继承覆盖，产生不同的子类\n",
    "class Runner(object):\n",
    "    # Test outcomes\n",
    "    PASS = \"PASS\"\n",
    "    FAIL = \"FAIL\"\n",
    "    UNRESOLVED = \"UNRESOLVED\"\n",
    "    def __init__(self):\n",
    "        pass\n",
    "    def run(self,inp):\n",
    "        return(inp, self.UNRESOLVED)"
   ]
  },
  {
   "cell_type": "code",
   "execution_count": 12,
   "metadata": {},
   "outputs": [],
   "source": [
    "# 继承Runner类。打印输入\n",
    "class PrintRunner(Runner):\n",
    "    def run(self,inp):\n",
    "        print(inp)\n",
    "        return(inp, self.UNRESOLVED)"
   ]
  },
  {
   "cell_type": "code",
   "execution_count": 13,
   "metadata": {},
   "outputs": [],
   "source": [
    "# 继承Runner类\n",
    "# 把输入发送给程序；程序在创建对象的时候制定\n",
    "class ProgramRunner(Runner):\n",
    "    def __init__(self,program):\n",
    "        self.program = program\n",
    "    def run_process(self,inp=\"\"):\n",
    "        return subprocess.run(self.program,\n",
    "                                input=inp,\n",
    "                                stdout=subprocess.PIPE,\n",
    "                                stderr=subprocess.PIPE,\n",
    "                                universal_newlines=True)\n",
    "                                # text=True) 我的是3.6版本，还没有text\n",
    "    def run(self,inp=\"\"):\n",
    "        result = self.run_process(inp)\n",
    "        if result.returncode == 0:\n",
    "            outcome = self.PASS\n",
    "        elif result.outcome < 0:\n",
    "            outcome = self.FAIL\n",
    "        else:\n",
    "            outcome = self.UNRESOLVED\n",
    "        return (result,outcome)"
   ]
  },
  {
   "cell_type": "code",
   "execution_count": 14,
   "metadata": {},
   "outputs": [],
   "source": [
    "# 继承ProgramRunner类\n",
    "# 如果输入是二进制形式\n",
    "class BinaryProgramRunner(ProgramRunner):\n",
    "    def run_process(self,inp=\"\"):\n",
    "        return subprocess.run(self.program,\n",
    "                            input=inp.encode(),\n",
    "                            stdout=subprocess.PIPE,\n",
    "                            stderr=subprocess.PIPE)"
   ]
  },
  {
   "cell_type": "code",
   "execution_count": 15,
   "metadata": {},
   "outputs": [
    {
     "output_type": "stream",
     "name": "stdout",
     "text": [
      "CompletedProcess(args='cat', returncode=0, stdout='I am cat', stderr='')\n"
     ]
    }
   ],
   "source": [
    "# 测试下ProgramRunner\n",
    "cat = ProgramRunner(program=\"cat\")\n",
    "(result,outcome) = cat.run(\"I am cat\")\n",
    "print(result)"
   ]
  },
  {
   "source": [
    "## 构建模糊测试架构 -- Fuzzer class"
   ],
   "cell_type": "markdown",
   "metadata": {}
  },
  {
   "source": [
    "Fuzzer 类主要是创建随机输入，用以喂给run()方法；"
   ],
   "cell_type": "markdown",
   "metadata": {}
  },
  {
   "cell_type": "code",
   "execution_count": 16,
   "metadata": {},
   "outputs": [],
   "source": [
    "# Fuzzer基类：生成随机输入，并使用run方法运行\n",
    "class Fuzzer(object):\n",
    "    def __init__(self):\n",
    "        pass\n",
    "    def fuzz(self):\n",
    "        return \"\"\n",
    "    def run(self,runner=Runner()):\n",
    "        return runner.run(self.fuzz())\n",
    "    def runs(self,runner=PrintRunner(),trials=10):\n",
    "        outcomes = []\n",
    "        for i in range(trials):\n",
    "            # outcomes.append(runner.run(self.fuzz()))\n",
    "            outcomes.append(self.run(runner))\n",
    "        return outcomes"
   ]
  },
  {
   "cell_type": "code",
   "execution_count": 17,
   "metadata": {},
   "outputs": [],
   "source": [
    "class RandomFuzzer(Fuzzer):\n",
    "    def __init__(self, min_length=10, max_length=100,char_start=32, char_range=32):\n",
    "        self.min_length = min_length\n",
    "        self.max_length = max_length\n",
    "        self.char_start = char_start\n",
    "        self.char_range = char_range\n",
    "    def fuzz(self):\n",
    "        str_len = random.randrange(self.min_length,self.max_length)\n",
    "        out = \"\"\n",
    "        for i in range(str_len):\n",
    "            out += chr(random.randrange(self.char_start,self.char_start + self.char_range))\n",
    "        return out"
   ]
  },
  {
   "cell_type": "code",
   "execution_count": 18,
   "metadata": {},
   "outputs": [
    {
     "output_type": "stream",
     "name": "stdout",
     "text": [
      "[(CompletedProcess(args='cat', returncode=0, stdout='etjty', stderr=''), 'PASS'), (CompletedProcess(args='cat', returncode=0, stdout='ubyav', stderr=''), 'PASS'), (CompletedProcess(args='cat', returncode=0, stdout='dzgae', stderr=''), 'PASS'), (CompletedProcess(args='cat', returncode=0, stdout='kxjod', stderr=''), 'PASS'), (CompletedProcess(args='cat', returncode=0, stdout='fpcvyuol', stderr=''), 'PASS'), (CompletedProcess(args='cat', returncode=0, stdout='nzzpyolsh', stderr=''), 'PASS'), (CompletedProcess(args='cat', returncode=0, stdout='rehkk', stderr=''), 'PASS'), (CompletedProcess(args='cat', returncode=0, stdout='spigz', stderr=''), 'PASS'), (CompletedProcess(args='cat', returncode=0, stdout='vqbyzhof', stderr=''), 'PASS'), (CompletedProcess(args='cat', returncode=0, stdout='aweeuzuw', stderr=''), 'PASS')]\n"
     ]
    }
   ],
   "source": [
    "# 测试RandomFuzzer\n",
    "random_fuzzer = RandomFuzzer(min_length=5,max_length=10,char_start=ord('a'),char_range=26)\n",
    "# random_fuzzer.fuzz() # 可以随机生成字符串，很好\n",
    "cat_runner = ProgramRunner(\"cat\")\n",
    "outcomes = random_fuzzer.runs(cat_runner,10)\n",
    "print(outcomes)"
   ]
  },
  {
   "cell_type": "code",
   "execution_count": 19,
   "metadata": {},
   "outputs": [
    {
     "output_type": "stream",
     "name": "stdout",
     "text": [
      "[(CompletedProcess(args='bc', returncode=0, stdout='', stderr='(standard_in) 1: syntax error\\n'), 'PASS'), (CompletedProcess(args='bc', returncode=0, stdout='', stderr='(standard_in) 1: syntax error\\n'), 'PASS'), (CompletedProcess(args='bc', returncode=0, stdout='', stderr='(standard_in) 1: syntax error\\n'), 'PASS'), (CompletedProcess(args='bc', returncode=0, stdout='', stderr='(standard_in) 1: syntax error\\n'), 'PASS'), (CompletedProcess(args='bc', returncode=0, stdout='', stderr='(standard_in) 1: syntax error\\n'), 'PASS'), (CompletedProcess(args='bc', returncode=0, stdout='', stderr='(standard_in) 1: syntax error\\n'), 'PASS'), (CompletedProcess(args='bc', returncode=0, stdout='', stderr='(standard_in) 1: syntax error\\n'), 'PASS'), (CompletedProcess(args='bc', returncode=0, stdout='', stderr='(standard_in) 1: syntax error\\n'), 'PASS'), (CompletedProcess(args='bc', returncode=0, stdout='', stderr='(standard_in) 1: syntax error\\n'), 'PASS'), (CompletedProcess(args='bc', returncode=0, stdout='', stderr='(standard_in) 1: syntax error\\n'), 'PASS')]\n"
     ]
    }
   ],
   "source": [
    "# 上面的bc测试使用我们的基类\n",
    "random_fuzzer = RandomFuzzer(min_length=2,max_length=6,char_start=ord('0'),char_range=10)\n",
    "bc_runner = ProgramRunner(\"bc\")\n",
    "outcomes = random_fuzzer.runs(bc_runner,10)\n",
    "print(outcomes)"
   ]
  }
 ]
}