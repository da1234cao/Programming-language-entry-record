{
 "metadata": {
  "language_info": {
   "codemirror_mode": {
    "name": "ipython",
    "version": 3
   },
   "file_extension": ".py",
   "mimetype": "text/x-python",
   "name": "python",
   "nbconvert_exporter": "python",
   "pygments_lexer": "ipython3",
   "version": "3.6.9-final"
  },
  "orig_nbformat": 2,
  "kernelspec": {
   "name": "python3",
   "display_name": "Python 3"
  }
 },
 "nbformat": 4,
 "nbformat_minor": 2,
 "cells": [
  {
   "source": [
    "# 代码覆盖率\n",
    "来源：[Code Coverage](https://www.fuzzingbook.org/html/Coverage.html)"
   ],
   "cell_type": "markdown",
   "metadata": {}
  },
  {
   "cell_type": "code",
   "execution_count": 25,
   "metadata": {},
   "outputs": [],
   "source": [
    "# 对使用cgi的url解码\n",
    "def cgi_decode(s):\n",
    "    # 数字找字母，下标法可能比较简单：https://blog.csdn.net/sinat_38816924/article/details/78440502\n",
    "    # 字母找数字，字典是不错的选择\n",
    "    hex_vaule = {\n",
    "        '0': 0, '1': 1, '2': 2, '3': 3, '4': 4,\n",
    "        '5': 5, '6': 6, '7': 7, '8': 8, '9': 9,\n",
    "        'a': 10, 'b': 11, 'c': 12, 'd': 13, 'e': 14, 'f': 15,\n",
    "        'A': 10, 'B': 11, 'C': 12, 'D': 13, 'E': 14, 'F': 15,\n",
    "    }\n",
    "\n",
    "    exchange_value = {'+':' '}\n",
    "\n",
    "    i = 0\n",
    "    t = ''\n",
    "    while i < len(s):\n",
    "        # 如果是交换表中的内容直接替换\n",
    "        # 如果是%的形式，计算转换\n",
    "        # 其他情况直接赋值\n",
    "        if s[i] in exchange_value.keys():\n",
    "            t += exchange_value[s[i]]\n",
    "            i = i+1\n",
    "        elif s[i] == '%':\n",
    "            high_value,low_value = s[i+1],s[i+2]\n",
    "            t += chr(hex_vaule[high_value]*16+hex_vaule[low_value])\n",
    "            i += 3\n",
    "        else :\n",
    "            t += s[i]\n",
    "            i += 1\n",
    "    \n",
    "    return t"
   ]
  },
  {
   "cell_type": "code",
   "execution_count": 26,
   "metadata": {},
   "outputs": [
    {
     "output_type": "execute_result",
     "data": {
      "text/plain": [
       "'Hello, world!'"
      ]
     },
     "metadata": {},
     "execution_count": 26
    }
   ],
   "source": [
    "# 测试下cig_decode程序\n",
    "cgi_decode(\"Hello%2c+world%21\")"
   ]
  },
  {
   "cell_type": "code",
   "execution_count": null,
   "metadata": {},
   "outputs": [],
   "source": []
  }
 ]
}