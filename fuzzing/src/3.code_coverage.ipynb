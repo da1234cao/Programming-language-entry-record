{
 "metadata": {
  "language_info": {
   "codemirror_mode": {
    "name": "ipython",
    "version": 3
   },
   "file_extension": ".py",
   "mimetype": "text/x-python",
   "name": "python",
   "nbconvert_exporter": "python",
   "pygments_lexer": "ipython3",
   "version": "3.6.9-final"
  },
  "orig_nbformat": 2,
  "kernelspec": {
   "name": "python3",
   "display_name": "Python 3",
   "language": "python"
  }
 },
 "nbformat": 4,
 "nbformat_minor": 2,
 "cells": [
  {
   "source": [
    "# 代码覆盖率\n",
    "来源：[Code Coverage](https://www.fuzzingbook.org/html/Coverage.html)"
   ],
   "cell_type": "markdown",
   "metadata": {}
  },
  {
   "cell_type": "code",
   "execution_count": null,
   "metadata": {},
   "outputs": [],
   "source": [
    "def cgi_decode(s):\n",
    "    # 对使用cgi的url解码\n",
    "    hex_vaule = {\n",
    "        '0': 0, '1': 1, '2': 2, '3': 3, '4': 4,\n",
    "        '5': 5, '6': 6, '7': 7, '8': 8, '9': 9,\n",
    "        'a': 10, 'b': 11, 'c': 12, 'd': 13, 'e': 14, 'f': 15,\n",
    "        'A': 10, 'B': 11, 'C': 12, 'D': 13, 'E': 14, 'F': 15,\n",
    "    }\n",
    "\n",
    "    exchange_value = {'+':' '}\n",
    "\n",
    "    i = 0\n",
    "    t = ''\n",
    "    while i < len(s):\n",
    "        # 如果是交换表中的内容直接替换\n",
    "        # 如果是%的形式，计算转换\n",
    "        # 其他情况直接赋值\n",
    "        if s[i] in exchange_value.keys():\n",
    "            t += exchange_value[s[i]]\n",
    "            i = i+1\n",
    "        elif s[i] == '%':\n",
    "            high_value,low_value = s[i+1],s[i+2]\n",
    "            if high_value in hex_vaule and low_value in hex_vaule:\n",
    "                t += chr(hex_vaule[high_value]*16+hex_vaule[low_value])\n",
    "                i += 3\n",
    "            else:\n",
    "                raise ValueError(\"Invalid encoding\")\n",
    "        else :\n",
    "            t += s[i]\n",
    "            i += 1\n",
    "    \n",
    "    return t"
   ]
  },
  {
   "cell_type": "code",
   "execution_count": null,
   "metadata": {},
   "outputs": [],
   "source": [
    "# 测试下cig_decode程序\n",
    "cgi_decode(\"Hello%2c+world%21\")"
   ]
  },
  {
   "source": [
    "## 黑盒测试\n",
    "针对特殊用例。黑盒测试的优点是它可以发现指定行为中的错误。它独立于给定的实现，因此允许在实现之前创建测试。缺点是，实现的行为通常比指定的行为涵盖更多的领域，因此仅基于规范的测试通常不能涵盖所有的实现细节。"
   ],
   "cell_type": "markdown",
   "metadata": {}
  },
  {
   "cell_type": "code",
   "execution_count": null,
   "metadata": {},
   "outputs": [],
   "source": [
    "assert cgi_decode(\"a+b\") == \"a b\"\n",
    "assert cgi_decode(\"a%21b\") == \"a!b\"\n",
    "assert cgi_decode(\"abc\") == \"abc\"\n",
    "\n",
    "try:\n",
    "    cgi_decode(\"%?\")\n",
    "    raise False\n",
    "except:\n",
    "    pass"
   ]
  },
  {
   "source": [
    "## 白盒测试\n",
    "与黑盒测试相比，白盒测试从实现(特别是内部结构)派生测试。白盒测试与覆盖代码结构特性的概念紧密相关。例如，如果在测试期间没有执行代码中的语句，这意味着也不能触发该语句中的错误。因此，白盒测试引入了许多必须在测试被认为是充分的之前被满足的覆盖率标准。最经常使用的覆盖率标准是：\n",
    "\n",
    "* 语句覆盖率代码中的每个语句都必须由至少一个测试输入执行。\n",
    "* 分支覆盖代码中的每个分支必须由至少一个测试输入获得。(这也就是说，每一个if和while决定一次是正确的，一次是错误的。)\n",
    "\n",
    "这里，上面的黑盒测试的测试用例已经覆盖了每一条语句。所以，白盒测试的过程和上面相同。"
   ],
   "cell_type": "markdown",
   "metadata": {}
  },
  {
   "source": [
    "## 跟踪执行\n",
    "背景：[sys.settrace(tracefunc)](https://docs.python.org/zh-cn/3/library/sys.html#sys.settrace)\n",
    "\n",
    "trace函数：\n",
    "The local trace function should return a reference to itself \n",
    "(or to another function for further tracing in that scope), \n",
    "or None to turn off tracing in that scope."
   ],
   "cell_type": "markdown",
   "metadata": {}
  },
  {
   "cell_type": "code",
   "execution_count": null,
   "metadata": {},
   "outputs": [],
   "source": [
    "# 存储覆盖率情况\n",
    "coverage = []"
   ]
  },
  {
   "cell_type": "code",
   "execution_count": null,
   "metadata": {},
   "outputs": [],
   "source": [
    "def traceit(frame,event,arg):\n",
    "    if event == \"line\":\n",
    "        global coverage\n",
    "        function_name = frame.f_code.co_name\n",
    "        lineno = frame.f_lineno\n",
    "        coverage.append(lineno)\n",
    "    return traceit"
   ]
  },
  {
   "cell_type": "code",
   "execution_count": null,
   "metadata": {},
   "outputs": [],
   "source": [
    "import sys\n",
    "def cgi_decode_traced(s):\n",
    "    global coverage\n",
    "    coverage = [] # 原来内容清空\n",
    "    sys.settrace(traceit) # 打开\n",
    "    t = cgi_decode(s)\n",
    "    sys.settrace(None) # 关闭\n",
    "    return t"
   ]
  },
  {
   "cell_type": "code",
   "execution_count": null,
   "metadata": {},
   "outputs": [],
   "source": [
    "t = cgi_decode_traced(\"Hello%2c+world%21\")\n",
    "print(coverage)\n",
    "print(t)"
   ]
  },
  {
   "source": [
    "上面乱糟糟的输出一串数字，如何知道对应的是代码的哪一行?\n",
    "\n",
    "背景：[inspect](https://docs.python.org/zh-cn/3/library/inspect.html) | [pygments](https://pygments.org/)"
   ],
   "cell_type": "markdown",
   "metadata": {}
  },
  {
   "cell_type": "code",
   "execution_count": null,
   "metadata": {},
   "outputs": [],
   "source": [
    "# 获取object源码的txt\n",
    "import inspect\n",
    "cgi_decode_code = inspect.getsource(cgi_decode)"
   ]
  },
  {
   "cell_type": "code",
   "execution_count": null,
   "metadata": {},
   "outputs": [],
   "source": [
    "# 直接输出不好看，高亮显示\n",
    "# print(cgi_decode_source)\n",
    "from fuzzingbook.fuzzingbook_utils import syntax_highlighting\n",
    "syntax_highlighting.print_content(cgi_decode_code,'.py')"
   ]
  },
  {
   "cell_type": "code",
   "execution_count": null,
   "metadata": {},
   "outputs": [],
   "source": [
    "# 将源代码文本按照行进行划分\n",
    "# 注意：让下标从1开始；函数的上面不要写注释，注释在函数里面写，因为会影响行号\n",
    "# 原因未知\n",
    "cgi_decode_lines = [\"\"] + cgi_decode_code.splitlines()\n",
    "coverage = set(coverage)\n",
    "for lineno in range(1,len(cgi_decode_lines)):\n",
    "    if lineno not in coverage:\n",
    "        print('# ', end=\"\")\n",
    "    else:\n",
    "        print('  ', end=\"\")\n",
    "    print(f\"{lineno} \",end=\"\")\n",
    "    syntax_highlighting.print_content(cgi_decode_lines[lineno],'.py')"
   ]
  },
  {
   "source": [
    "## Coverage class\n",
    "上面将covergae作为全局变量不好处理；咋办呢？放在对象里面就好；"
   ],
   "cell_type": "markdown",
   "metadata": {}
  },
  {
   "cell_type": "code",
   "execution_count": null,
   "metadata": {},
   "outputs": [],
   "source": [
    "class Coverage(object):\n",
    "    # 代码写的很好:\n",
    "    # 如果原来的代码已经settrace,在原来trace函数的基础上，添加获取覆盖率的代码；退出之后，仍然使用原来的trace函数\n",
    "    # 如果原来的代码没有settrace,我们设置的trace仅获取代码覆盖率；退出之后，trace函数的位置设置为None\n",
    "    def traceit(self,frame,event,arg):\n",
    "        if self.origin_trace_function is not None:\n",
    "            self.origin_trace_function(frame,event,arg)\n",
    "        if event == \"line\":\n",
    "            function_name = frame.f_code.co_name\n",
    "            lineno = frame.f_lineno\n",
    "            self._trace.append((function_name, lineno))\n",
    "        return self.traceit\n",
    "    \n",
    "    def __init__(self):\n",
    "        self._trace = []\n",
    "\n",
    "    def __enter__(self):\n",
    "        self.origin_trace_function = sys.gettrace()\n",
    "        sys.settrace(self.traceit)\n",
    "        return self\n",
    "    \n",
    "    def __exit__(self,exc_type, exc_value, tb):\n",
    "        sys.settrace(self.origin_trace_function)\n",
    "    \n",
    "    def trace(self):\n",
    "        return self._trace\n",
    "    \n",
    "    def coverage(self):\n",
    "        return set(self.trace())"
   ]
  },
  {
   "cell_type": "code",
   "execution_count": null,
   "metadata": {},
   "outputs": [],
   "source": [
    "# 测试下上面的Coverage class\n",
    "with Coverage() as cov:\n",
    "    cgi_decode(\"Hello%2c+world%21\")\n",
    "print(cov.coverage())"
   ]
  },
  {
   "cell_type": "code",
   "execution_count": null,
   "metadata": {},
   "outputs": [],
   "source": [
    "# cgi_decode的最大覆盖率\n",
    "with Coverage() as cov_max:\n",
    "    cgi_decode('+')\n",
    "    cgi_decode('%20')\n",
    "    cgi_decode('abc')\n",
    "    try:\n",
    "        cgi_decode('%?a')\n",
    "    except:\n",
    "        pass"
   ]
  },
  {
   "cell_type": "code",
   "execution_count": null,
   "metadata": {},
   "outputs": [],
   "source": [
    "# 比较下最大覆盖率和上面的cov对象的覆盖率\n",
    "cov_max.coverage() - cov.coverage()"
   ]
  },
  {
   "source": [
    "## 基于模糊测试的覆盖率"
   ],
   "cell_type": "markdown",
   "metadata": {}
  },
  {
   "cell_type": "code",
   "execution_count": null,
   "metadata": {},
   "outputs": [],
   "source": [
    "from fuzzingbook.fuzzingbook_utils import Fuzzer\n",
    "\n",
    "with Coverage() as cov_fuzz:\n",
    "    try:\n",
    "        cgi_decode(Fuzzer.fuzzer())\n",
    "    except:\n",
    "        pass\n",
    "print(cov_fuzz.coverage())"
   ]
  },
  {
   "cell_type": "code",
   "execution_count": null,
   "metadata": {},
   "outputs": [],
   "source": [
    "cov_max.coverage() - cov_fuzz.coverage()"
   ]
  },
  {
   "cell_type": "code",
   "execution_count": null,
   "metadata": {},
   "outputs": [],
   "source": [
    "def population_coverage(population, function):\n",
    "    cumulative_coverage = []\n",
    "    all_coverage = set()\n",
    "\n",
    "    for s in population:\n",
    "        with Coverage() as cov:\n",
    "            try:\n",
    "                function(s)\n",
    "            except:\n",
    "                pass\n",
    "        all_coverage |= cov.coverage()\n",
    "        cumulative_coverage.append(len(all_coverage))\n",
    "    \n",
    "    return all_coverage,cumulative_coverage"
   ]
  },
  {
   "cell_type": "code",
   "execution_count": null,
   "metadata": {},
   "outputs": [],
   "source": [
    "def hundred_inputs(trails):\n",
    "    population = []\n",
    "    for i in range(trails):\n",
    "        population.append(Fuzzer.fuzzer())\n",
    "    return population"
   ]
  },
  {
   "cell_type": "code",
   "execution_count": null,
   "metadata": {},
   "outputs": [],
   "source": [
    "all_coverage, cumulative_coverage = population_coverage(hundred_inputs(100), cgi_decode)"
   ]
  },
  {
   "cell_type": "code",
   "execution_count": null,
   "metadata": {},
   "outputs": [],
   "source": [
    "print(hundred_inputs(100))\n",
    "print(cumulative_coverage)"
   ]
  },
  {
   "cell_type": "code",
   "execution_count": null,
   "metadata": {},
   "outputs": [],
   "source": [
    "# 通过折线图查看基于模糊测试的覆盖率变化情况\n",
    "import matplotlib.pyplot as plt \n",
    "\n",
    "plt.plot(cumulative_coverage)\n",
    "plt.title(\"Coverage of cgi_decode() with random input\")\n",
    "plt.xlabel(\"# of input\")\n",
    "plt.ylabel(\"lines covered\")\n",
    "\n",
    "plt.show()"
   ]
  },
  {
   "source": [
    "上面的仅仅跑一轮；多跑几轮，求平均值"
   ],
   "cell_type": "markdown",
   "metadata": {}
  },
  {
   "cell_type": "code",
   "execution_count": null,
   "metadata": {},
   "outputs": [],
   "source": [
    "runs = 100 # 跑100轮\n",
    "trails = 100 # 没轮跑100次\n",
    "\n",
    "sum_coverage = [0]*trails\n",
    "\n",
    "for run in range(runs):\n",
    "    all_coverage, cumulative_coverage = population_coverage(hundred_inputs(trails), cgi_decode)\n",
    "    assert len(cumulative_coverage) == trails\n",
    "    for i in range(len(cumulative_coverage)):\n",
    "        sum_coverage[i] += cumulative_coverage[i]\n",
    "\n",
    "for i in range(trails):\n",
    "    sum_coverage[i] /= runs"
   ]
  },
  {
   "cell_type": "code",
   "execution_count": null,
   "metadata": {},
   "outputs": [],
   "source": [
    "plt.plot(sum_coverage)\n",
    "plt.title(\"Coverage of cgi_decode() with random input\")\n",
    "plt.xlabel(\"# of input\")\n",
    "plt.ylabel(\"lines covered\")\n",
    "\n",
    "plt.show()"
   ]
  },
  {
   "source": [
    "## Find error\n",
    "很明显的是，上面fuzz的过程中，如果出现error，直接pass,并没有对错误的处理方式，比如保存错误输入。\n",
    "\n",
    "但是很明显这个代码是有问题的。\n",
    "\n",
    "比如输入这样的输入：'82 202*&<1&($34\\'\"/\\'.<5/!8\"\\'5:!4))%;'"
   ],
   "cell_type": "markdown",
   "metadata": {}
  },
  {
   "source": [
    "## 补充\n",
    "上面使用的是语句覆盖；分支覆盖和它有有区别的。比如下面这样的语句。对于语句覆盖而言，当条件为真的时候，执行覆盖了所有语句。\n",
    "但是对于分支覆盖而言，还需要条件为假的情况；实现过程，可以在上面Coverage class的过程中，将记录语句改成记录分支。"
   ],
   "cell_type": "markdown",
   "metadata": {}
  },
  {
   "cell_type": "code",
   "execution_count": null,
   "metadata": {},
   "outputs": [],
   "source": [
    "if CONDITION:\n",
    "    do_a()\n",
    "something_else()"
   ]
  }
 ]
}